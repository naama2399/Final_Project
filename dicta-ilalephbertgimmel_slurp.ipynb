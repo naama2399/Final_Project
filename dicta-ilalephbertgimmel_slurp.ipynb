{
 "cells": [
  {
   "cell_type": "code",
   "execution_count": 1,
   "metadata": {},
   "outputs": [
    {
     "name": "stdout",
     "output_type": "stream",
     "text": [
      "Requirement already satisfied: transformers in ./.conda/envs/coral_env/lib/python3.8/site-packages (4.46.3)\n",
      "Requirement already satisfied: filelock in ./.conda/envs/coral_env/lib/python3.8/site-packages (from transformers) (3.13.1)\n",
      "Requirement already satisfied: huggingface-hub<1.0,>=0.23.2 in ./.conda/envs/coral_env/lib/python3.8/site-packages (from transformers) (0.27.1)\n",
      "Requirement already satisfied: numpy>=1.17 in ./.conda/envs/coral_env/lib/python3.8/site-packages (from transformers) (1.24.1)\n",
      "Requirement already satisfied: packaging>=20.0 in ./.conda/envs/coral_env/lib/python3.8/site-packages (from transformers) (24.2)\n",
      "Requirement already satisfied: pyyaml>=5.1 in ./.conda/envs/coral_env/lib/python3.8/site-packages (from transformers) (6.0.2)\n",
      "Requirement already satisfied: regex!=2019.12.17 in ./.conda/envs/coral_env/lib/python3.8/site-packages (from transformers) (2024.11.6)\n",
      "Requirement already satisfied: requests in ./.conda/envs/coral_env/lib/python3.8/site-packages (from transformers) (2.32.3)\n",
      "Requirement already satisfied: tokenizers<0.21,>=0.20 in ./.conda/envs/coral_env/lib/python3.8/site-packages (from transformers) (0.20.3)\n",
      "Requirement already satisfied: safetensors>=0.4.1 in ./.conda/envs/coral_env/lib/python3.8/site-packages (from transformers) (0.5.2)\n",
      "Requirement already satisfied: tqdm>=4.27 in ./.conda/envs/coral_env/lib/python3.8/site-packages (from transformers) (4.67.1)\n",
      "Requirement already satisfied: fsspec>=2023.5.0 in ./.conda/envs/coral_env/lib/python3.8/site-packages (from huggingface-hub<1.0,>=0.23.2->transformers) (2024.2.0)\n",
      "Requirement already satisfied: typing-extensions>=3.7.4.3 in ./.conda/envs/coral_env/lib/python3.8/site-packages (from huggingface-hub<1.0,>=0.23.2->transformers) (4.12.2)\n",
      "Requirement already satisfied: charset-normalizer<4,>=2 in ./.conda/envs/coral_env/lib/python3.8/site-packages (from requests->transformers) (3.4.1)\n",
      "Requirement already satisfied: idna<4,>=2.5 in ./.conda/envs/coral_env/lib/python3.8/site-packages (from requests->transformers) (3.10)\n",
      "Requirement already satisfied: urllib3<3,>=1.21.1 in ./.conda/envs/coral_env/lib/python3.8/site-packages (from requests->transformers) (2.2.3)\n",
      "Requirement already satisfied: certifi>=2017.4.17 in ./.conda/envs/coral_env/lib/python3.8/site-packages (from requests->transformers) (2024.12.14)\n"
     ]
    }
   ],
   "source": [
    "!pip install transformers"
   ]
  },
  {
   "cell_type": "code",
   "execution_count": 2,
   "metadata": {},
   "outputs": [
    {
     "name": "stdout",
     "output_type": "stream",
     "text": [
      "Requirement already satisfied: pandas in ./.conda/envs/coral_env/lib/python3.8/site-packages (2.0.3)\n",
      "Requirement already satisfied: python-dateutil>=2.8.2 in ./.conda/envs/coral_env/lib/python3.8/site-packages (from pandas) (2.9.0)\n",
      "Requirement already satisfied: pytz>=2020.1 in ./.conda/envs/coral_env/lib/python3.8/site-packages (from pandas) (2024.2)\n",
      "Requirement already satisfied: tzdata>=2022.1 in ./.conda/envs/coral_env/lib/python3.8/site-packages (from pandas) (2024.2)\n",
      "Requirement already satisfied: numpy>=1.20.3 in ./.conda/envs/coral_env/lib/python3.8/site-packages (from pandas) (1.24.1)\n",
      "Requirement already satisfied: six>=1.5 in ./.conda/envs/coral_env/lib/python3.8/site-packages (from python-dateutil>=2.8.2->pandas) (1.16.0)\n"
     ]
    }
   ],
   "source": [
    "!pip install pandas"
   ]
  },
  {
   "cell_type": "code",
   "execution_count": 3,
   "metadata": {},
   "outputs": [
    {
     "name": "stdout",
     "output_type": "stream",
     "text": [
      "Requirement already satisfied: scikit-learn in ./.conda/envs/coral_env/lib/python3.8/site-packages (1.3.2)\n",
      "Requirement already satisfied: numpy<2.0,>=1.17.3 in ./.conda/envs/coral_env/lib/python3.8/site-packages (from scikit-learn) (1.24.1)\n",
      "Requirement already satisfied: scipy>=1.5.0 in ./.conda/envs/coral_env/lib/python3.8/site-packages (from scikit-learn) (1.10.1)\n",
      "Requirement already satisfied: joblib>=1.1.1 in ./.conda/envs/coral_env/lib/python3.8/site-packages (from scikit-learn) (1.4.2)\n",
      "Requirement already satisfied: threadpoolctl>=2.0.0 in ./.conda/envs/coral_env/lib/python3.8/site-packages (from scikit-learn) (3.5.0)\n"
     ]
    }
   ],
   "source": [
    "!pip install scikit-learn\n"
   ]
  },
  {
   "cell_type": "code",
   "execution_count": 4,
   "metadata": {
    "execution": {
     "iopub.execute_input": "2025-01-08T07:59:48.094815Z",
     "iopub.status.busy": "2025-01-08T07:59:48.094548Z",
     "iopub.status.idle": "2025-01-08T07:59:54.075639Z",
     "shell.execute_reply": "2025-01-08T07:59:54.075003Z",
     "shell.execute_reply.started": "2025-01-08T07:59:48.094783Z"
    },
    "id": "oEZxMyRy6y6V",
    "trusted": true
   },
   "outputs": [
    {
     "name": "stderr",
     "output_type": "stream",
     "text": [
      "/home/yagudcor/.conda/envs/coral_env/lib/python3.8/site-packages/tqdm/auto.py:21: TqdmWarning: IProgress not found. Please update jupyter and ipywidgets. See https://ipywidgets.readthedocs.io/en/stable/user_install.html\n",
      "  from .autonotebook import tqdm as notebook_tqdm\n"
     ]
    }
   ],
   "source": [
    "from transformers import BertModel, BertTokenizerFast\n",
    "import torch\n",
    "import pandas as pd\n",
    "from sklearn.preprocessing import LabelEncoder\n",
    "import numpy as np\n",
    "from sklearn.model_selection import train_test_split\n",
    "from sklearn.ensemble import RandomForestClassifier\n",
    "from transformers import BertModel, BertTokenizerFast\n",
    "import torch\n",
    "from sklearn.preprocessing import LabelEncoder\n",
    "from sklearn.metrics import accuracy_score, classification_report\n",
    "from sklearn.utils.multiclass import unique_labels\n",
    "import pandas as pd\n",
    "import numpy as np\n",
    "import os"
   ]
  },
  {
   "cell_type": "code",
   "execution_count": 5,
   "metadata": {
    "colab": {
     "base_uri": "https://localhost:8080/",
     "height": 458
    },
    "execution": {
     "iopub.execute_input": "2025-01-08T07:59:54.076745Z",
     "iopub.status.busy": "2025-01-08T07:59:54.076410Z",
     "iopub.status.idle": "2025-01-08T07:59:54.176626Z",
     "shell.execute_reply": "2025-01-08T07:59:54.175901Z",
     "shell.execute_reply.started": "2025-01-08T07:59:54.076724Z"
    },
    "id": "L45h-x0a641K",
    "outputId": "2eed7ee0-5f76-4119-ed65-78600da00d07",
    "trusted": true
   },
   "outputs": [
    {
     "data": {
      "text/html": [
       "<div>\n",
       "<style scoped>\n",
       "    .dataframe tbody tr th:only-of-type {\n",
       "        vertical-align: middle;\n",
       "    }\n",
       "\n",
       "    .dataframe tbody tr th {\n",
       "        vertical-align: top;\n",
       "    }\n",
       "\n",
       "    .dataframe thead th {\n",
       "        text-align: right;\n",
       "    }\n",
       "</style>\n",
       "<table border=\"1\" class=\"dataframe\">\n",
       "  <thead>\n",
       "    <tr style=\"text-align: right;\">\n",
       "      <th></th>\n",
       "      <th>id</th>\n",
       "      <th>transcript</th>\n",
       "      <th>intent</th>\n",
       "      <th>slots:</th>\n",
       "      <th>cam</th>\n",
       "      <th>transcript_hebrew</th>\n",
       "    </tr>\n",
       "  </thead>\n",
       "  <tbody>\n",
       "    <tr>\n",
       "      <th>0</th>\n",
       "      <td>9024</td>\n",
       "      <td>event</td>\n",
       "      <td>calendar_set</td>\n",
       "      <td>[]</td>\n",
       "      <td>calendar_set()</td>\n",
       "      <td>אני צריך שתקבעי לי אירוע</td>\n",
       "    </tr>\n",
       "    <tr>\n",
       "      <th>1</th>\n",
       "      <td>7874</td>\n",
       "      <td>i need an event three days from now scheduled ...</td>\n",
       "      <td>calendar_set</td>\n",
       "      <td>['date=three days from now' 'person=amy']</td>\n",
       "      <td>calendar_set(date=three days from now, person=...</td>\n",
       "      <td>אני צריך שתקבעי לי אירוע מתוכנן בעוד שלושה ימי...</td>\n",
       "    </tr>\n",
       "    <tr>\n",
       "      <th>2</th>\n",
       "      <td>5822</td>\n",
       "      <td>turn up</td>\n",
       "      <td>audio_volume_up</td>\n",
       "      <td>[]</td>\n",
       "      <td>audio_volume_up()</td>\n",
       "      <td>אני צריך שתגבירי את הווליום</td>\n",
       "    </tr>\n",
       "    <tr>\n",
       "      <th>3</th>\n",
       "      <td>5013</td>\n",
       "      <td>brighten the lights a little bit</td>\n",
       "      <td>iot_hue_lightup</td>\n",
       "      <td>[]</td>\n",
       "      <td>iot_hue_lightup()</td>\n",
       "      <td>אני צריכה שתוריד קצת את הבהירות</td>\n",
       "    </tr>\n",
       "    <tr>\n",
       "      <th>4</th>\n",
       "      <td>3033</td>\n",
       "      <td>what's the current weather</td>\n",
       "      <td>weather_query</td>\n",
       "      <td>[]</td>\n",
       "      <td>weather_query()</td>\n",
       "      <td>אני רוצה לדעת מה מזג האוויר הנוכחי</td>\n",
       "    </tr>\n",
       "    <tr>\n",
       "      <th>...</th>\n",
       "      <td>...</td>\n",
       "      <td>...</td>\n",
       "      <td>...</td>\n",
       "      <td>...</td>\n",
       "      <td>...</td>\n",
       "      <td>...</td>\n",
       "    </tr>\n",
       "    <tr>\n",
       "      <th>11505</th>\n",
       "      <td>695</td>\n",
       "      <td>call the restaurant to see if the delivery is ...</td>\n",
       "      <td>takeaway_query</td>\n",
       "      <td>['business_type=restaurant' 'order_type=delive...</td>\n",
       "      <td>takeaway_query(business_type=restaurant, order...</td>\n",
       "      <td>התקשר למסעדה כדי לראות אם המשלוח בדרך</td>\n",
       "    </tr>\n",
       "    <tr>\n",
       "      <th>11506</th>\n",
       "      <td>2823</td>\n",
       "      <td>what day does easter fall on this year</td>\n",
       "      <td>datetime_query</td>\n",
       "      <td>['event_name=easter' 'date=this year']</td>\n",
       "      <td>datetime_query(event_name=easter, date=this year)</td>\n",
       "      <td>באיזה יום חל חג הפסחא השנה</td>\n",
       "    </tr>\n",
       "    <tr>\n",
       "      <th>11507</th>\n",
       "      <td>17173</td>\n",
       "      <td>check someone's recent emails</td>\n",
       "      <td>email_query</td>\n",
       "      <td>[]</td>\n",
       "      <td>email_query()</td>\n",
       "      <td>תבדוק מיילים אחרונים של מישהו</td>\n",
       "    </tr>\n",
       "    <tr>\n",
       "      <th>11508</th>\n",
       "      <td>9845</td>\n",
       "      <td>resuming playing my current audio book</td>\n",
       "      <td>play_audiobook</td>\n",
       "      <td>['player_setting=resuming' 'media_type=audio b...</td>\n",
       "      <td>play_audiobook(player_setting=resuming, media_...</td>\n",
       "      <td>תחזור לנגן את הספר הקולי שלי</td>\n",
       "    </tr>\n",
       "    <tr>\n",
       "      <th>11509</th>\n",
       "      <td>7884</td>\n",
       "      <td>olly set meeting at seven pm</td>\n",
       "      <td>calendar_set</td>\n",
       "      <td>['event_name=meeting' 'time=seven pm']</td>\n",
       "      <td>calendar_set(event_name=meeting, time=seven pm)</td>\n",
       "      <td>תגדיר פגישה לשעה שבע בערב</td>\n",
       "    </tr>\n",
       "  </tbody>\n",
       "</table>\n",
       "<p>11510 rows × 6 columns</p>\n",
       "</div>"
      ],
      "text/plain": [
       "          id                                         transcript  \\\n",
       "0       9024                                              event   \n",
       "1       7874  i need an event three days from now scheduled ...   \n",
       "2       5822                                            turn up   \n",
       "3       5013                   brighten the lights a little bit   \n",
       "4       3033                         what's the current weather   \n",
       "...      ...                                                ...   \n",
       "11505    695  call the restaurant to see if the delivery is ...   \n",
       "11506   2823             what day does easter fall on this year   \n",
       "11507  17173                      check someone's recent emails   \n",
       "11508   9845             resuming playing my current audio book   \n",
       "11509   7884                       olly set meeting at seven pm   \n",
       "\n",
       "                intent                                             slots:  \\\n",
       "0         calendar_set                                                 []   \n",
       "1         calendar_set          ['date=three days from now' 'person=amy']   \n",
       "2      audio_volume_up                                                 []   \n",
       "3      iot_hue_lightup                                                 []   \n",
       "4        weather_query                                                 []   \n",
       "...                ...                                                ...   \n",
       "11505   takeaway_query  ['business_type=restaurant' 'order_type=delive...   \n",
       "11506   datetime_query             ['event_name=easter' 'date=this year']   \n",
       "11507      email_query                                                 []   \n",
       "11508   play_audiobook  ['player_setting=resuming' 'media_type=audio b...   \n",
       "11509     calendar_set             ['event_name=meeting' 'time=seven pm']   \n",
       "\n",
       "                                                     cam  \\\n",
       "0                                         calendar_set()   \n",
       "1      calendar_set(date=three days from now, person=...   \n",
       "2                                      audio_volume_up()   \n",
       "3                                      iot_hue_lightup()   \n",
       "4                                        weather_query()   \n",
       "...                                                  ...   \n",
       "11505  takeaway_query(business_type=restaurant, order...   \n",
       "11506  datetime_query(event_name=easter, date=this year)   \n",
       "11507                                      email_query()   \n",
       "11508  play_audiobook(player_setting=resuming, media_...   \n",
       "11509    calendar_set(event_name=meeting, time=seven pm)   \n",
       "\n",
       "                                       transcript_hebrew  \n",
       "0                               אני צריך שתקבעי לי אירוע  \n",
       "1      אני צריך שתקבעי לי אירוע מתוכנן בעוד שלושה ימי...  \n",
       "2                            אני צריך שתגבירי את הווליום  \n",
       "3                        אני צריכה שתוריד קצת את הבהירות  \n",
       "4                     אני רוצה לדעת מה מזג האוויר הנוכחי  \n",
       "...                                                  ...  \n",
       "11505              התקשר למסעדה כדי לראות אם המשלוח בדרך  \n",
       "11506                         באיזה יום חל חג הפסחא השנה  \n",
       "11507                      תבדוק מיילים אחרונים של מישהו  \n",
       "11508                       תחזור לנגן את הספר הקולי שלי  \n",
       "11509                          תגדיר פגישה לשעה שבע בערב  \n",
       "\n",
       "[11510 rows x 6 columns]"
      ]
     },
     "execution_count": 5,
     "metadata": {},
     "output_type": "execute_result"
    }
   ],
   "source": [
    "# Correct file path\n",
    "data_path = \"/home/yagudcor/translated_distinct_records_final_version.csv\"\n",
    "\n",
    "if not os.path.exists(data_path):\n",
    "    raise FileNotFoundError(f\"Dataset not found at {data_path}. Ensure it's uploaded and linked to your kernel.\")\n",
    "\n",
    "# Load the dataset\n",
    "data = pd.read_csv(data_path)\n",
    "data"
   ]
  },
  {
   "cell_type": "code",
   "execution_count": 6,
   "metadata": {
    "colab": {
     "base_uri": "https://localhost:8080/"
    },
    "execution": {
     "iopub.execute_input": "2025-01-08T07:59:54.177549Z",
     "iopub.status.busy": "2025-01-08T07:59:54.177346Z",
     "iopub.status.idle": "2025-01-08T07:59:54.186658Z",
     "shell.execute_reply": "2025-01-08T07:59:54.186042Z",
     "shell.execute_reply.started": "2025-01-08T07:59:54.177531Z"
    },
    "id": "lMA4IYpP7KiY",
    "outputId": "e50c86aa-f09d-4d05-9e51-a10b26ee813e",
    "trusted": true
   },
   "outputs": [
    {
     "data": {
      "text/plain": [
       "{0: 'addcontact',\n",
       " 1: 'alarm_query',\n",
       " 2: 'alarm_remove',\n",
       " 3: 'alarm_set',\n",
       " 4: 'audio_volume_down',\n",
       " 5: 'audio_volume_mute',\n",
       " 6: 'audio_volume_other',\n",
       " 7: 'audio_volume_up',\n",
       " 8: 'calendar_query',\n",
       " 9: 'calendar_remove',\n",
       " 10: 'calendar_set',\n",
       " 11: 'cleaning',\n",
       " 12: 'coffee',\n",
       " 13: 'convert',\n",
       " 14: 'cooking_query',\n",
       " 15: 'cooking_recipe',\n",
       " 16: 'createoradd',\n",
       " 17: 'currency',\n",
       " 18: 'datetime_convert',\n",
       " 19: 'datetime_query',\n",
       " 20: 'definition',\n",
       " 21: 'email_addcontact',\n",
       " 22: 'email_query',\n",
       " 23: 'email_querycontact',\n",
       " 24: 'email_sendemail',\n",
       " 25: 'events',\n",
       " 26: 'factoid',\n",
       " 27: 'game',\n",
       " 28: 'general_greet',\n",
       " 29: 'general_joke',\n",
       " 30: 'general_quirky',\n",
       " 31: 'greet',\n",
       " 32: 'hue_lightdim',\n",
       " 33: 'hue_lightoff',\n",
       " 34: 'hue_lightup',\n",
       " 35: 'iot_cleaning',\n",
       " 36: 'iot_coffee',\n",
       " 37: 'iot_hue_lightchange',\n",
       " 38: 'iot_hue_lightdim',\n",
       " 39: 'iot_hue_lightoff',\n",
       " 40: 'iot_hue_lighton',\n",
       " 41: 'iot_hue_lightup',\n",
       " 42: 'iot_wemo_off',\n",
       " 43: 'iot_wemo_on',\n",
       " 44: 'joke',\n",
       " 45: 'lists_createoradd',\n",
       " 46: 'lists_query',\n",
       " 47: 'lists_remove',\n",
       " 48: 'music',\n",
       " 49: 'music_dislikeness',\n",
       " 50: 'music_likeness',\n",
       " 51: 'music_query',\n",
       " 52: 'music_settings',\n",
       " 53: 'news_query',\n",
       " 54: 'play_audiobook',\n",
       " 55: 'play_game',\n",
       " 56: 'play_music',\n",
       " 57: 'play_podcasts',\n",
       " 58: 'play_radio',\n",
       " 59: 'podcasts',\n",
       " 60: 'post',\n",
       " 61: 'qa_currency',\n",
       " 62: 'qa_definition',\n",
       " 63: 'qa_factoid',\n",
       " 64: 'qa_maths',\n",
       " 65: 'qa_stock',\n",
       " 66: 'query',\n",
       " 67: 'querycontact',\n",
       " 68: 'quirky',\n",
       " 69: 'radio',\n",
       " 70: 'recommendation_events',\n",
       " 71: 'recommendation_locations',\n",
       " 72: 'recommendation_movies',\n",
       " 73: 'remove',\n",
       " 74: 'sendemail',\n",
       " 75: 'set',\n",
       " 76: 'settings',\n",
       " 77: 'social_post',\n",
       " 78: 'social_query',\n",
       " 79: 'takeaway_order',\n",
       " 80: 'takeaway_query',\n",
       " 81: 'ticket',\n",
       " 82: 'traffic',\n",
       " 83: 'transport_query',\n",
       " 84: 'transport_taxi',\n",
       " 85: 'transport_ticket',\n",
       " 86: 'transport_traffic',\n",
       " 87: 'volume_other',\n",
       " 88: 'weather_query',\n",
       " 89: 'wemo_off',\n",
       " 90: 'wemo_on'}"
      ]
     },
     "execution_count": 6,
     "metadata": {},
     "output_type": "execute_result"
    }
   ],
   "source": [
    "le = LabelEncoder()\n",
    "data['intent_num'] = le.fit_transform(data['intent'])\n",
    "map_intent = dict(zip(le.transform(le.classes_), le.classes_))\n",
    "map_intent"
   ]
  },
  {
   "cell_type": "code",
   "execution_count": 7,
   "metadata": {},
   "outputs": [
    {
     "name": "stdout",
     "output_type": "stream",
     "text": [
      "      id                                         transcript         intent  \\\n",
      "0   9024                                              event   calendar_set   \n",
      "1   7874  i need an event three days from now scheduled ...   calendar_set   \n",
      "4   3033                         what's the current weather  weather_query   \n",
      "8  16742  check my email for new emails during the last ...    email_query   \n",
      "9   5172               please wake me up at seven thirty am      alarm_set   \n",
      "\n",
      "                                      slots:  \\\n",
      "0                                         []   \n",
      "1  ['date=three days from now' 'person=amy']   \n",
      "4                                         []   \n",
      "8                         ['time=last hour']   \n",
      "9                   ['time=seven thirty am']   \n",
      "\n",
      "                                                 cam  \\\n",
      "0                                     calendar_set()   \n",
      "1  calendar_set(date=three days from now, person=...   \n",
      "4                                    weather_query()   \n",
      "8                        email_query(time=last hour)   \n",
      "9                    alarm_set(time=seven thirty am)   \n",
      "\n",
      "                                   transcript_hebrew  intent_num  \n",
      "0                           אני צריך שתקבעי לי אירוע          10  \n",
      "1  אני צריך שתקבעי לי אירוע מתוכנן בעוד שלושה ימי...          10  \n",
      "4                 אני רוצה לדעת מה מזג האוויר הנוכחי          88  \n",
      "8  עיין בדוא\"ל שלי להודעות דוא\"ל חדשות במהלך השעה...          22  \n",
      "9                תשימי לי שעון מעורר לשבע וחצי בבוקר           3  \n",
      "5356\n"
     ]
    }
   ],
   "source": [
    "# Apply filter (update the condition based on your needs)\n",
    "# Example: Filter rows where the 'intent' column matches Siri intents\n",
    "filter_condition = data['intent'].isin([\n",
    "    'calendar_set', 'calendar_query', 'weather_query', 'play_music', 'play_audiobook',\n",
    "    'play_radio', 'email_query', 'sendemail', 'alarm_query', 'alarm_set',\n",
    "    'datetime_query', 'social_post', 'qa_factoid', 'general_query', 'news_query'\n",
    "])\n",
    "filtered_data = data[filter_condition]\n",
    "\n",
    "# Stop execution if no rows match the filter\n",
    "if filtered_data.empty:\n",
    "    raise ValueError(\"Filtered dataset is empty. No matching rows found with the given condition.\")\n",
    "\n",
    "# Display filtered data (optional)\n",
    "print(filtered_data.head())\n",
    "print(len(filtered_data))"
   ]
  },
  {
   "cell_type": "code",
   "execution_count": 13,
   "metadata": {
    "colab": {
     "base_uri": "https://localhost:8080/"
    },
    "execution": {
     "iopub.execute_input": "2025-01-08T07:59:55.365885Z",
     "iopub.status.busy": "2025-01-08T07:59:55.365571Z",
     "iopub.status.idle": "2025-01-08T07:59:55.382422Z",
     "shell.execute_reply": "2025-01-08T07:59:55.381470Z",
     "shell.execute_reply.started": "2025-01-08T07:59:55.365856Z"
    },
    "id": "7ZiHokFU7hBA",
    "outputId": "7ac6c3e9-68d1-474a-a186-05d4aa392b74",
    "trusted": true
   },
   "outputs": [
    {
     "name": "stdout",
     "output_type": "stream",
     "text": [
      "['אני צריך שתקבעי לי אירוע', 'אני צריך שתקבעי לי אירוע מתוכנן בעוד שלושה ימים עם איימי', 'אני רוצה לדעת מה מזג האוויר הנוכחי', 'עיין בדוא\"ל שלי להודעות דוא\"ל חדשות במהלך השעה האחרונה', 'תשימי לי שעון מעורר לשבע וחצי בבוקר', 'את יכולה להראות לי את השעונים המתוכננים?', 'אני רוצה שתזכירי לי את הפגישה הבאה עם חברה שלי בשעה שמונה אחר הצהריים ביום ראשון הבא', 'אני רוצה שתנגני את רשימת ההשמעה טקטיקות מאפליקציית מוזיקה', 'תבדקי לי מה מזג האוויר', \"את יכולה לבדוק מתי אני אמור להיפגש פעם הבאה עם ג'ו?\", 'אנא הזכירי לי על פגישת עסקים באחת עשרה בבוקר', 'אנא תציג לי את השעון המעורר שקבעת לפגישה של יום שלישי', 'האם אני צריך ללבוש בגדים חמים היום?', 'תאונת רכבת', 'האם יש לי תזכורות צפויות', 'פייסבוק משיקה תג שנוי במחלוקת כדי לפצח חדשות מזויפות', 'הורד אוצר מילים מסוים', 'האם תוכל בבקשה ליצור אירוע חדש בלוח השנה שלי', 'תראה לי את כל האימיילים האחרונים מאנה', 'הפעל את ספר השמע', 'ספר לי את הפגישות שלי ביום רביעי בבוקר', 'קבע שעון מעורר ליום חמישי בשעה שבע אחר הצהריים', 'הוסף פגישה לרופא שיניים ליום שישי בשעה חמש', 'בדוק את המיילים מהיום', 'קבע התראה ל11 במרץ שהראיון מתוכנן עם מר רודריגז', 'האם אני צריך מעיל?', 'תציג לי את כל השעון המעוררים', 'חודש הבא יש יום הולדת לאחים שלי', 'תפתור את זה במהירות', 'תזכיר לי בבוקר להתקשר לאמא שלי', 'תפתח לי את הגדרות השעון המעורר', 'הייתי רוצה שיהיה חכם ואינטליגנטי באופן שהוא יכיר אותי ויזהה איך שאני אוהב שהתוצאה תהיה', 'מתי צפוי להיות מעל חמישים שוב?', 'מהי בירת מרילנד', 'תפעיל שעון מעורר לחמש אחר הצהריים', 'אתה יכול לנגן את הקובץ הזה?', 'מה הכותרות מהל. א. טיימס?', 'צייץ את התלונה שלי על שירות הלקוחות של טארגט', 'אני רוצה להמשיך בדיוק מהמקום בו הפסקתי בספר האודיו שלי', 'הרדיו צריך לנגן רק על 99.9 FM.', \"מתי נולד ריצ'רד ניקסון\", 'צייץ לנשיא ותגיד לו שהוא עושה עבודה נוראית', 'איך מכינים ברזל', 'מה האירועים הקרובים שלי', 'מצא פרטים על ארה\"ב', 'כמה שעונים מעוררים רשומים?', 'תגיד לי את השעה בעיר אחרת בארה\"ב', \"צייץ על שירות גרוע הקשור למקדונלד'ס המקומי שלנו בהאסקל\", 'מהי שעת הפגישה שלי?', 'מצא את תחנת הרוק הטובה ביותר ליד המיקום שלי ותדליק אותה', \"תנגן את תחנת הג'אז\", 'מהם הפגישות ביום רביעי הקרוב?', 'מהם העדכונים האחרונים ביחס לקשרי טראמפ לרוסיה?', 'תכנן את פגישת הרופא שלי ביום שישי בשעה 14:00', 'האם הבוקר יישאר במזג אוויר השמשי הזה?', 'תזכיר לחבר שלי לקחת את המשימה מחר', 'תגיד לי את השעה בלונדון, אנגליה', 'מה השעה בפלורידה', 'איך אמצעי התקשורת החדשים מגיבים לקשרים הפוטנציאליים של טראמפ עם רוסיה', 'זה עשוי להביא לנו את הבעיות הללו', 'בבקשה תתכנן פגישה להסתפר לשעה אחת בצהריים בשבת', 'נגן את המוזיקה שלי מ-iTunes', 'קבע פגישה ליום שישי הבא', 'מהן החדשות הנקיות בשש השעות האחרונות?', 'הוסף הודעה חדשה עבור ה- GPS ברכב שלי', 'מהן החדשות הנוכחיות להיום', 'אנא תעדכן שיש לי פגישה בשעה חמש אחר הצהריים', 'מה ההכנסה הממוצעת לנפש בין אנשים מאסיה ומאירופה?', 'מה זה מגמה?', 'הגדר שעון מעורר', \"מה הכותרות מהלוס אנג'לס טיימס?\", 'מה המיקום של פגישת פרויקט העבודה שלי?', 'מה עלי לעשות מחר?', 'הפעל את רשימת ההשמעה שלי של מוזיקת \\u200b\\u200bהקאנטרי', 'האם יש שעונים מעוררים להיום?', 'אנא קבעי פגישה עם המזכיר שלי', 'מצא את המאמר האחרון של כריס הדג\\'ס באתר \"טרותידיג\"', 'השמיעי מוזיקה עכשיו', 'תזכיר לי לשלם את חשבון החשמל בסוף השבוע הזה בתשע בבוקר', 'צרי קשר עם ליאו', 'אני רוצה להאזין למוזיקה קלאסית', 'הראה לי את כל תזכורת המפגשים', 'מה השעה במיאמי פלורידה', 'תגיד לי את השעה עכשיו', 'איך מזג האוויר הנוכחי בקליפורניה', 'החדשות של היום ב-CNN', 'ספר לי את הסיפורים המובילים ב- CNN', 'האם קיבלתי מיילים לאחרונה?', \"אני צריך תזכורת למחר למסיבה של ג'ו אחרי העבודה\", 'תזכיר לי להסתכל על הפסטה עוד שלושים דקות', 'קבל את דוח מזג האוויר של היום', 'איפה הפגישה שלי', 'האם יש לי ימים חופשיים השבוע?', 'תראה לי את כל המיילים החדשים בתיבת הדואר הנכנס שלי', 'תעדכן אותי בחדשות האחרונות ב-CNN', 'הגדר לי טיימר שיכבה עוד שעה', 'שלום שלום', 'פרסם סטטוס באמצעות ההערות האחרונות שערכתי בפנקס הרשימות שלי', 'מה קורה בתעשיית הפופ', 'כמה נהרות יש באירופה', 'מה מזג האוויר בלונדון', 'נגן רק שירים של הביטלס בבקשה', 'פתח שיר מהרשימה הנתונה', \"נגן לי את המוזיקה של מייקל ג'קסון\", 'יש משהו חדש?', \"מצא מוזיקת \\u200b\\u200bג'אז ברשימת ההשמעה שלי\", 'נגן היפ הופ בתחנת Hot 97', 'האם פסטיבל הבלונים מתקיים בסוף השבוע הזה?', 'בבקשה, שים את מסיבת יום ההולדת של מרי ב-22 בחודש בשעה שבע בערב', 'אנא תראה לי את השעונים המעוררים שלי', 'אני רוצה להתחיל את \"מלחמה ושלום\" בדיוק מהמקום שבו הפסקתי', 'הבא את הפלייליסט האחרון שלי מ-Tidal', 'שדר את תחנת הספורט', 'תזכיר לי לכבות את האורות עוד עשר דקות', 'כמה צדדים יש לפנטגון?', 'הפעל פריט ראשון', 'הוסף ללוח השנה פגישה רפואית ליום הראשון בעוד 5 חודשים', 'תזכיר לי כשאני מגיע', 'התזכורת האחרונה לגבי פגישה', 'עדכן אותי בחדשות האחרונות על הסופה', 'איפה בוצואנה?', 'האם יש לי פגישה ב3 ביונואר?', 'היום יום רביעי או חמישי?', 'האם חם מדי בשביל ללבוש מכנסיים?', 'נגן את התוכניות האלה במכשיר הזה', 'מישהו חדש ברשימת הנמענים: דונה, יש לך תוכניות להיום?', 'איך מזג האוויר היום', 'יַחַס', 'מה הפגישה הבאה שלי', 'מה הגובה של מדונה?', 'קבע פגישה עם מחלקת משאבי אנוש לסוף החודש', 'נגן את Hot 97', 'המשך את השמעת האודיו של הדמדומים', 'הגדר אירוע \"יום הולדת שמח ג\\'ון\" ב-21 בינואר 2017.', 'האם יהיה יום שימשי ביום שלישי שבוע הבא?', 'הגדר אירוע שחוזר על עצמו לאורך החודש', 'תזכיר לי על בדיקת העיניים שלי בוולמארט ב-26', 'חפש דברים חדשים בנושא זה', 'הגדר טיימר מעכשיו לשעה', 'אתה יכול להפעיל את שיר הלהיט של ליידי גאגא', 'חזור לסדרת חצות', 'מה יש לי מתוכנן ביום שני הבא משעה 12:00 עד 15:00?', 'כמה חם זה?', 'כמה שעות קדימה ניו יורק?', 'אני הייתי רוצה להשתתף בכנסייה בכל יום ראשון בשעה 11:00 בבוקר', 'באיזו שעה השעון המעורר שהגדרת לי', 'ברצוני לדעת את פרטי לוח הזמנים הבא שלי', 'נגן שיר שאני אוהב', 'פתיחת תיבת הדואר הנכנס', 'האם זה נכון שבאסיה יש רק שתי מדינות?', 'מה הזמן בבנגלור', 'בבקשה נגן את פלייליסט האימון', 'לאיזו יבשת צמיחה גבוהה ביותר של כותנה ומה הייצור הממוצע?', 'המשך את ספר השמע האחרון שהושמע', 'שעון מעורר ל6 בבוקר בבקשה', 'אנא ספר לי את התאריך', 'לנגן את הלהיטים הטובים ביותר של אמן נתון', 'תן לי לראות את הדבר האחרון ששודר בחדשות', 'חדשות גוגל', 'מה שעת הפגישה שלי ביום חמישי?', 'איזה תאריך הוא היום?', 'תגיד לי כל יום לקחת תה ירוק בשעה ארבע אחר הצהריים', 'ספר לי אילו תזכורות יש לי להיום', 'תתחיל לנגן את \"Thinking Out Loud\" עכשיו', 'ספר לי את תוצאת הבחירות של UP שהייתה אמורה להגיע היום', 'תזכיר לי לשלוח את המצגת היום באחת בצהריים', ' צור אירוע בלוח השנה שלי', 'תנגן משהו לפי השימוש', 'הראה לי אירועים עתידיים', 'שלח תלונה לסוני על הטלוויזיה הזו שהפסיקה לעבוד', 'הראה לי את כל ההתראות המתוזמנות', 'חזור על השעון מעורר', 'חפש את המיילים שלי עם נושא הכולל שעות עבודה', 'הפעל את השיר של סלין דיון מהסרט הטיטאניק', 'מה השעה בדובאי', 'תנגן שירים של הביטלס בבקשה', 'בבקשה פרסם \"כל כך משועמם\" בפייסבוק', 'התחל את הרדיו והעבר לתדר 1048', 'האם קיבלתי דוא\"ל מאמא שלי?', 'תחדש את השמעת ספר השמע', 'שלח פגישה ביומן ל-jan', 'תעיר אותי בכל יום חול בשבע לפנות בוקר', 'צור אירוע חדש בלוח השנה שלי', 'תענה למייל', 'באמצעות שלט רחוק', 'הגדר שעון מעורר לתשע בבוקר', 'האם האזעקה לדלת האחורית מוגדרת ומוכנה לפעולה?', 'בבקשה, פרסם בטוויטר לפמפרס שהחיתולים שלי מתפרקים', 'אירועים המתרחשים היום בין שמונה בבוקר לחמש אחר הצהריים', 'הגדר תזכורת לאחל לחבר מחר בעשר בבוקר', 'עדכן אותי בהתפתחויות במחאת סטנדינג רוק', 'תנגן מוזיקה מהפסנתרן האהוב עליי', 'תן לי את המידע על משחק הקריקט של היום', 'המזג אוויר נעים היום?', 'תספר לי מה קורה מחר', 'קבע תזכורת למשחק טניס עם פיטר ביום ראשון בארבע אחר הצהריים', 'הוסף תספורת לפגישות שלי בשבת אחר הצהריים בארבע', 'חדשות העולם החדשות ביותר', 'מי זה נפליאון היל?', 'מה הפגישות שלי היום', \"תודיע לי אם אני מקבל הודעה על המסיבה מג'יין\", 'יש לי תור לרופא בשעה 14:00 היום', 'אני רוצה לשמוע מוזיקת \\u200b\\u200bקאנטרי', 'תנגן את השיר הזה שוב', 'איזה מדינה יש לה את האוכלוסייה הגדולה ביותר?', 'האם אוכל לקבל את השעה הנוכחית?', 'נגן את השיר של ארידיט סינג, פרסם אותו בפייסבוק שלי.', 'החדשות האחרונות בתחום הפיננסי', 'באיזה תאריך יוצא יום ראשון של פסחא השנה?', 'האם ביומן ה-2 ביולי?', 'מה קורה בין שלוש מאות שלושים וארבע?', 'האם היומן שלי פנוי היום בארבע אחר הצהריים?', 'יש היום מסיבת יום הולדת', 'מידע על רואן אטקינסון', \"אני רוצה להאזין לשיר אריג'יט סינג שוב\", 'הגדר שעון מעורר לשמונה אחר הצהריים', 'איך מזג האוויר היום?', 'ציוץ מתלונן על שירות ', 'אתה יכול להגיד לי מה התאריך של היום?', 'היי הפעל את התזכורות שלך לפגישה של מחר בעשר בבוקר', 'נגן את השיר האהוב עליי מאת לונדון דקדוק', 'מה השעה בשעון?', 'בדוק את לוח השנה', 'תזכיר לי על ימי ההולדת של מייק', 'אני רוצה נושאים על רכילות של סלבריטאים', 'האם ה-22 הוא יום שלישי?', 'אני רוצה לשמוע את השיר האהוב עלי', 'לנגן רק מוזיקה קלאסית', 'לנגן את \"Mocking Bird\" של אמינם', 'ספר עוד על האירוע הזה', 'ספר לי מה האירועים הבאים שלי', 'לנגן את \"Be Warned\" של Tech N9ne', 'תנגן את PDR ברדיו band', 'האם יש מיילים חדשים מדרק?', 'בדוק אימייל ומה הנושא האחרון', 'אילו מיילים קיבלתי מאתמול בלילה?', 'פרסם את העסק שלי בכל הרשתות החברתיות שלי', 'האם אתה יכול לאשר שהפגישה שלי למחר בוטלה?', 'האם יש לי פגישות מחר?', 'ספר לי מה קורה ביום חמישי הבא', 'אתה יכול להשיג לי חדשות מ- NY Times?', 'אנא קבע פגישה עם בקי בשעה שלוש אחר הצהריים ביום שלישי', 'לקבוע פגישה עם ri ב-1 באפריל בשעה 10 בבוקר', 'אתה יכול להוסיף את הפגישה העסקית שלי ללוח העבודה?', ' פתח את ספוטיפיי ונגן את רשימת הפלייליסט חמש', 'משוך את כל המיילים שנשלחו אלי מאמזון', 'תן לי לשמוע את רשימת ההשמעה האהובה עליי במקום הראשון', 'מתי התור הבא שלי לרופא השיניים?', 'לנגן לי את השיר האחרון של אדל', 'האם יירד גשם מאוחר יותר היום?', 'מה המרחק לירח?', 'חדשות מובילות', 'האם מישהו זכה אתמול בהגרלת הפאוורבול?', 'להזכיר לאירועים הקרובים', 'מה הטמפרטורה הנוכחית בחוץ?', 'להדליק את הרדיו ', 'האם יש אימיילים אחרונים?', 'ספר לי על אירועים קרובים', 'ספר לי מה רמת הלחות במרכז העיר היום', \"החמישי במרץ הוא יום ההולדת של ג'ון בבקשה שים זאת בלוח השנה\", 'מה מזג האוויר בשבעת הימים הבאים?', ' לנגן את דיויד בואי', \"אני צריך לבדוק את האימייל של ג'ק היום\", 'האם יורד גשם בבוסטון?', 'הגדר התראה לפני אירוע זה', 'הוסף אירוע לתאריך ושעה עם האנשים האלה', 'האם כדאי לי ללבוש מגפי גומי היום?', 'לנגן את הלהיטים הטובים ביותר', ' תעדכן אותי בחדשות על ניגריה', 'תבדוק את המייל שלי', 'גיאוגרפיה של מלבורן', 'כמה שעות נותרו להגיע לחצות בעיר', 'קבע תזכורת לפגישה לרופא השיניים בשבוע הבא', ' האם היום ה-6 במרץ?', 'תעיר אותי בשמונה', 'האם פוקס ניוז מדווחת על חדשות בזמן זה?', 'מה קורה עם ריק?', 'מה יהיה מזג האוויר בניו יורק בשבוע הבא?', 'אנא קבע מחדש את הפגישה למחר שש בערב והודיע \\u200b\\u200bלחברים', 'הוסף את \"לזכור להתקשר לאמא\" לרשימות שלי', \"האם ג'ו השאיר פרטי קשר באימייל שלו\", \"האם אצטרך ז'קט אחרי עשר בערב באזור שלי?\", \"הצג אימייל אחרון מג'ון אולי\", 'מצא לי את ערוץ הוותיקים', 'מה נושא המסיבה?', 'מהי תחזית מזג האוויר של היום?', 'שלח ציוץ ל-wawa המקומית שהשירות שלהם נורא במיקום השוק שלהם', 'הוסף שיעור יוגה בצהריים ללוח הזמנים שלי לשלושת ימי ראשון הקרובים', 'מצא דוח מזג אוויר', 'האם כדאי לי לסגור את החלון לפני שאני עוזב אחר הצהריים?', 'לנגן את כל האלבום של Third Day', 'האם יש לי פגישה היום?', 'אני רוצה להאזין למוזיקה בקצב נמוך', 'הפעל אלבום של ביורק בשבילי', 'הוסף את החתונה של וליה בשבת הבאה בשעה שמונה בבוקר', 'כמה הודעות דוא\"ל שלא נפתחו יש לי כרגע?', 'באיזו עיר נולד אלביס?', 'השמיעו מוזיקה מועדפת', 'לשים התראה לפגישה הזו', 'מה החדשות האחרונות על דונלד טראמפ?', 'קבע שהאירוע יחזור כל שבוע', 'תקרא לי מיילים', 'אני רוצה להאזין ללהיטים הגדולים של הביטלס', 'אני צריך להגדיר שעון מעורר, כמה יש לי מוגדרים?', 'היי, אתה יכול לבדוק את המייל שלי ולראות אם יש הודעות חדשות?', 'נא להעיר אותי בשלוש לפנות בוקר', 'הוסף הודעה לטלפון האנדרואיד שאבד לך כדי להגביר את עוצמת הצלצול באחוז אחד', 'מה שקרה היום בעולם', 'איך יהיה מזג האוויר בעיר אוקלהומה ביום שני?', 'התריע בפניי על אימייל מדייב על הפגישה', 'כמה אני חופשי השבוע?', 'מתי אני צריך לשלם את החשבונות?', 'נגן קצת בלוז מאת atif aslam', 'הפעל את תחנת הרדיו המועדפת', 'תנגן בבקשה את השיר הלהיט האחרון של האלבום האחרון של מטאליקה', 'הוסף ליומן ביקור בית בכל יום השבוע', 'מהן הקואורדינטות של אוורסט?', 'האם יש דואר חדש עבורי?', 'האם עלי ללבוש מעיל לבריכה?', 'האם ההצגה של הבת שלי ביום שישי בערב?', 'צייץ תלונה לאמזון על איחור במשלוח', 'מוצר זה לעולם לא שומש', 'תוכל בבקשה לומר מהי בירת אמריקה?', 'בבקשה הפעל את תחנת הרדיו FM 890', 'ספר לי את הפגישות שיש לי במשך השבוע', 'כמה מהביטלס עדיין בחיים?', 'האם הפוקלאנד נמצאות בדרום אמריקה?', 'הגדר תזכורת לפגישה שלי בחמש אחר הצהריים בבקשה', 'אני רוצה לדעת את העדכונים האחרונים מ-nbc news', 'רשום אירוע חשוב בשבוע הזה', \"מאיפה צ'אנינג טאטום?\", 'מהי האוכלוסייה הנמוכה ביותר לכל מייל רבוע באפריקה', 'הגדר את השעון המעורר והפעל אותו', 'מה השעה במערב התיכון עכשיו?', 'אני צריך שיחת השכמה בשש בבוקר', 'להגדיר אירוע בלוח השנה', 'לנגן את להקת מוזיקת \\u200b\\u200bהרדיו', 'בן כמה דיוויד בואי?', 'רק שלח לי תזכורות לגבי פגישות עם עמיתיי', 'צייץ תלונה על צבע הנעל שלי ב-Flipkart', \"מיילים של ג'יין אי\", 'מה השעה הנוכחית בלונדון?', 'הגדר שעון מעורר לארבע אחר הצהריים', 'מה מתוכנן לי בין שלוש לארבע אחר הצהריים היום?', 'מה השעה?', 'בדוק את קו הטלפון לתלונות לקוחות והשתמש באפשרויות', 'מתי יום הנשיא?', 'ספר לי את החדשות האחרונות על דונלד טראמפ', 'היי קבע פגישה עם מר רוס ליום שישי בצהריים', 'איפה פאלאוט בוי מופיעים בפעם הבאה?', 'לעבור לפלייליסט האימון שלי', 'אני צריך לדעת את מזג האוויר הנוכחי בניו יורק', 'יידע אותי כשיש חדשות על טראמפ', 'להתחיל לנגן מוזיקה מהמועדפים', 'האם אמור לרדת גשם מחר?', \"מה השעה בקראצ'י עכשיו?\", 'מה השעה שהגדרת שעון מעורר?', 'ספר לי למה מערכות יחסים כל כך קשות?', 'הודע לי על עדכונים לגבי מינויים חדשים בקבינט טראמפ', 'קבע תזכורת לסיבוב הקניות שלי מחר בשעה חמש אחר הצהריים', 'תעיר אותי בשש וחצי', 'להוסיף מסיבה הלילה בשארית שלי', 'האם תהיה רוח הלילה?', 'ספר לי כמה סנטימטרים של שלג קיבלה היום בניו יורק?', 'מה מזג האוויר עכשיו?', 'תנגן את רשימה מספר חמש', 'ישנם אירועים חשובים רבים בחודש זה, שים לב לכך', 'בבקשה תגיד לי את התאריך הנוכחי', 'לאונרדו נשוי', 'צור פגישה עם פול מחר בשש בערב', 'תזכיר לי לקחת עוד אוכל לכלבים בפטקו מחר בשבע עשרים בערב', 'מה קורה היום בין השעה שמונה בבוקר לחמש אחר הצהריים?', 'האם קיבלתי אימיילים מטים?', 'תחזית ל-10 ימים עבור בולטימור', 'האם אני צריך כובע?', 'פרסם תמונה לפייסבוק', 'איזה יום היה ב22 באפריל', 'אחרי זה נגן שיר', 'אני רוצה לרקוד לצליל של ראגו דיקסיט', 'בבקשה תנגן רדיו פנדורה', 'מהו ההר הגבוה ביותר בארה\"ב?', 'תודיע לי מתי מגיע הטלפון שלי', 'אני רוצה להאזין ל-Electric Slide', 'פתח את חשבון הטוויטר שלי ותגיד ל-sams club שהם עשו את ההזמנה שלי לעוגה נהדרת', 'קרא לי את המאמר החדש ביותר על מערכת השמש החדשה', 'אתה יכול להעלות את הסלפי האחרון שלי במדיה החברתית שלי?', 'הפעל תחנת רדיו 107.5 FM', 'מה ההסתברות שיירד גשם היום?', 'תתחיל לנגן מאיפה שהפסקתי את the goblet of fire', 'שלח ציוץ ל-modcloth, שאני לא אוהב שהם לא מכבדים את מחירי ההנחות עבורי', 'לקבוע פגישה עם סמנכ\"ל המחלקה ב21 במרץ 2017', 'האם יהיה שמש מחר?', 'בבקשה תן לי עדכון לגבי הוקי', 'נגן את השיר Doggie Style במצב רציף', 'האם לדונלד טראמפ יש קשרים עם רוסיה?', \"אני צריך לתאם פגישה עם ג'ק\", 'ספירה לאחור לשעה', 'מה האירוע הבא שמתקרב?', 'מי מגיע לפגישה מחר בעשר בבוקר?', 'השתמש בהגדרות זמן', 'אני רוצה לראות חדשות על פוליטיקה', 'תנגן בלופה', \"מייק וג'ק צריכים להיכנס ללוח השנה של הפסטיבל\", 'אני צריך להגדיר שעון מעורר ליום שישי הבא בצהריים', 'בדוק אם קיבלתי אימייל מרוהאן', 'תזכיר לי על הפגישה הבאה שלי כמה שעות לפני הזמן', 'מה קורה עם הרכבת?', 'אתה יכול לנגן את המוזיקה שלי?', 'אני צריך להשתתף בתחרות אפייה ביום רביעי בבוקר בשעה שבע, שמור והגדר תזכורת', 'פתח את שם החברה ומצא טפסים', 'להמשיך בגאווה ודעות קדומות', 'מה התאריך בעוד שתי שבתות מעכשיו?', 'האם יש לי פגישה צהריים היום?', 'התחל את \"dune\" מהמקום שבו הפסקתי', 'להפעיל מוזיקה באמצעות חותם', 'האם שנת 2018 הייתה שנה מעוברת?', 'בבקשה תזמן את כל הפגישות לרופאים שלי', 'לחץ על הפעל ברדיו', 'האם יש משהו חשוב להיום', 'הוסף אירוע חוזר בשבת ב7 בבוקר בשם \"זמן קולנוע\"', 'יש חדשות טריות על ברד פיט?', 'כל אירועי מרץ של הכנסיה הנוצרית תוסיף אותם ללוח השנה שלי', 'תן לי את זמני השעונים המעוררים ליומיים הבאים', 'תזכיר לי על זה מחר', 'אנא הוסף קונצרט בפסטיבל הקיץ ללוח השנה', 'האם פגישת אחר הצהריים שלי בוטלה', 'הוסף את כל אירועי הכנסיה הנוצרית במרץ ללוח השנה שלי', 'לסמן את ישיבת התקציב שלי לכל יום שישי בשתיים', 'תחזיר אחורה את ספר השמע בשלושים שניות', 'ספר לי את הסיפורים המובילים ב-la times', 'איפה האירוע היום', 'קבע לי תור ביום שבת הבא בחמש בספרייה וקבע תזכורת', 'תן לי את לוח הזמנים המפורט לשבוע הבא', 'איך מזג האוויר הולך להיות היום', 'האזן לריאן סיקרסט ברדיו בסלון', 'כמה מינים של דבורים יש בארצות הברית', 'מה חדש היום', 'שלח ציוץ לשירות הלקוחות של walmart מדיניות ההחזרה שלך מסריחה', \"כל דואר חדש מג'ק\", 'אני רוצה לשמוע רוק', 'תזכיר לי לאכול כשאני חוזר הביתה', 'תגיד לי מתי הכלכלה של הודו תשתווה לזו של ארצות הברית', 'קרא את ספר השמע של מלחמת השושנים', 'אנא מצא אירועים בחודש מרץ', 'להשמיע שיר באופן אקראי מהפלייליסט שלי', 'כמה אנשים חיים באוקספורד עכשיו', 'האם אתה יכול לגלות את החדשות האחרונות בעולם מאתמול', 'להשתתף במסיבה עם אהבה ביום שישי הזה', 'מה קורה עם הצעת התקציב של טראמפ', \"האם יש לי מיילים מג'סיקה\", 'להתחיל מוזיקת \\u200b\\u200bסלין דיון', 'איך מזג האוויר בניו יורק', 'לנגן firework מאת קייטי פרי', 'מי שלח לי היום מייל ומה היה הנושא', 'תחזית מזג האוויר לשבוע זה', 'קרא אימייל לא מסומן', 'האם יש לי הודעת דואר נכנס חדשה?', 'הפעל רשימת השמעה אחת', 'מֵידָע', 'מהי פיסת האדמה הרדודה ביותר', 'מה החדשות האחרונות על רפורמת הבריאות', 'מהן החדשות המקומיות העדכניות ביותר', 'לחפש את תחומי העניין שלו', 'מה השעה בהיידרבאד', 'בבקשה תמצא לי תחנת מוזיקת \\u200b\\u200bקאנטרי', 'הגדר שעון מעורר', 'האם יש לי משהו מתוכנן היום', 'נגן את כל השירים של anirudh', 'מתי יום הולדת לאלביס', 'מהי הרכילות האחרונה של הוליווד', 'הפעל בבקשה את ערוץ bbc radio one', 'נגן סיריוס ברדיו לווייני', 'קבל תחזית לגבי מהירות הרוח הלילה', 'הפעל את רשימת ההשמעה האהובה עליי', 'עובר הקיץ', 'כמה פגישות היו', 'מהי כותרת הזמנים', 'האם קיבלתי מייל ממייק', 'האם ארין שלחה לי אימיילים כלשהם', 'האם קרה משהו להשפעה המונית', 'באיזה חלק של המדינה יש יער טרופי', 'הוסף את האירוע הזה ליומן שלי', 'מה גודלו של גור קטן', 'אתה יכול לצייץ עבורי לשירותי אמזון על כך שלא סיפקו את המוצר שלי בזמן', 'אני רוצה לשמוע את הרדיו תדליק אותו בבקשה', 'להעלות את אתר התלונות עבור סטרבקס', 'מה התאריך והחודש היום', 'ספר לי בן כמה ריאן סיקרסט', 'מהם הסוגים השונים של חפצים עגולים', 'תזכיר לי מחר בשמונה בבוקר שיש לי פגישת צהריים בצהריים בחדר הישיבות', 'נא לנגן את song games של disturbed', 'אזור צפון אמריקה', 'ספר לי את החדשות בטכנולוגיה מ-engadget', 'תנגן לי ברדיו', 'האם יש עדכוני סטטוס בדף הפייסבוק של חדשות cnn', 'לנגן כל תחנת מוזיקת \\u200b\\u200bקאנטרי', 'האם יש לי מייל מהעבודה שלי', 'אילו שעונים מעוררים יש בקרוב', 'מה האימייל שקיבלתי מחברה שלי', 'אני רוצה לראות את שם המשתמש בטוויטר של סמסונג', 'אני רוצה להאזין לרדיו', \"נא לנגן את האלבום של ג'סטין ביבר\", 'חפש בגוגל קניות את המחיר הטוב ביותר על מקלדת מכנית monoprice mxblue', 'האם יש דרך לבדוק אם יש כתבות חדשות לקרוא', 'מהן החדשות האחרונות על ההתחממות הגלובלית', 'האם לינדה קונורס השיבה לאחד מהמיילים שלי הבוקר', 'בבקשה ספר לי כמה ימים יש בשנה מעוברת', 'איזה יום בשבוע הוא ה26', 'מה האימייל האחרון שלי', 'האם אני יכול ללכת בלי מעיל עכשיו', 'האם מתוכנן לי משהו בחמש', 'עוזר דיגיטלי אישי', 'נא לנגן \"games\" של disturbed', 'תודיע לי כשיש חדשות על צינור דקוטה', 'מה המחיר הנוכחי של נפט גולמי מסוג ברנט', 'אני רוצה להאזין למוזיקה שמנגנת בתחנת רדיו', 'מתי היה יום ההולדת של איינשטיין', 'להתחיל שוב את ספר לימוד התנ\"ך שלי', 'כמה חם עכשיו', 'תזכיר לי בזמן הזה', 'מה השעה הנוכחית כרגע', 'אתה יכול לספר לי את האירוע המתוכנן הבא', 'אנא הראה היום פגישה עם לקוחות', 'חפש והשמע את מיטב השירים של מייק עדן', 'אתה יכול לתת לי טיימר של עשר דקות', 'מצא פרטים על הנשיא ברק אובמה', \"נגן את ג'סטין ביבר באופן אקראי\", 'תזכיר לי את מסיבת יום ההולדת של אחותי מחר שעה לפני שהיא מתחילה', 'צייץ את התלונה שלי ותתייג את שירות הלקוחות הזה', 'בדוק את תיבת הדואר עבור מייל משרה', 'האם יש לי תור לרופא ביום חמישי', 'האם יש לי שעונים מעוררים מוגדרים למחר', 'אנא בדוק אימייל מאמא', 'מוות מטאל עכשיו', 'רשום את התור לרופא שלי ביום רביעי בשבוע הבא', 'מה התזכורת שהגדרתי למחר', 'איפה כרמן סן דייגו בעולם', 'תעיר אותי בזמן הזה', 'באיזה יום חל יום ההולדת שלי השנה', 'עקוב אחר פיד החדשות של מסע הפרסום של טראמפ', 'ידיעות אחרונות', 'מאיפה טראמפ', 'תשמיע את תחנת הרדיו שלי', 'תודיע לי אם מופיע משהו חדש בנושא', 'באיזה יום בשבוע הוא אירוע הצדקה לנוער', 'הפעל את הרדיו בערוץ הזה', 'בדוק את החדשות האחרונות על מישהו', 'מה הדרך הארוכה ביותר', 'כמה לחה הסביבה היום', 'בבקשה ספר לי מהן כותרות החדשות בעולם', 'כל אימייל חדש', 'פגישה עם אנה ביום שישי', 'זוכר את הפגישה של GM בשבוע הבא', 'לצייץ לאפל שהאייפון לא עובד', 'האם יהיה מעונן', 'לנגן אלטרנטיבה של שנות התשעים', 'תנגן את רשימת ההשמעה האלקטרונית', 'איך מזג האוויר יהיה בשבוע הבא בשיקגו', 'כמה אוקיינוסים יש בעולם', 'תזכיר לי מתי זמן הארוחת צהריים', 'רשום את האירוע הזה בלוח השנה שלי', 'תן לי את הזמן ב-pst', 'באיזה סרטים נמצא קווין ספייסי', 'כמה שעונים מעוררים הגדרתי', 'בבקשה צייץ את הבא לשירות הלקוחות של רדיסון הוטלס', 'האם נקבעה פגישה לשבת', 'האם יהיה מעונן בלונדון במהלך סוף השבוע', 'אני רוצה להגיש תלונה לצרכן', 'שלח לי התראת השכמה בשבע בבוקר מחר ', 'מה התחזית באזור שלי היום', 'תראה לי את השעה הנוכחית של בוסטון', 'להעלות רשימת השמעה של מוזיקה דנית', 'נא לנגן קצת מוזיקה', 'תוכל בבקשה להגדיר שעון מעורר בשש בבוקר', 'אתה יכול לנגן קייטי פרי', 'פרטי האקלים עכשיו', \"איך שרליז ת'רון למדה לדבר אנגלית\", 'לעשות שעון מעורר', 'היי סירי מה יש עכשיו בחדשות העולמיות', 'מהם הנהרות הארוכים ביותר בעולם', 'להוסיף תזכורת', 'חפש מטפלת בתשלום', 'מהו גובה פני הים הממוצע של אותו מקום', 'פגישה ביום שני הזה', 'בדוק את ההתראות החברתיות שלי', 'נא לאשר את מזג האוויר ל13 לחודש', 'האם יש לי דייט להערב', 'נגן שירים של nkotb', 'תבדוק את המייל שלי', 'מהי המדינה הצפופה ביותר בעולם', 'תן לי מידע נוסף על האירוע המתוכנן ב30 במרץ ', 'בן כמה היה אלביס כשהוא מת', 'מי מתוכנן לפגישה מחר', 'קבע תזכורת בשלוש אחר הצהריים', 'תן לי חדשות מוזיקה', 'האירועים הקרובים שלי', 'ספר לי על ריק', 'האם יהיה שלג מחר', 'כמה קילומטרים יש במייל', \"אתה יכול לתת לי תקציר על ג'ון אגדה\", 'מהו התאריך לאירוע המתוכנן בעשרים בפברואר', 'האם יירד גשם', 'האם האדם הזה שלח אימייל כלשהו', 'מה השעה בדנבר', 'נסה לבצע את השלבים הבאים כדי לבחור את התשובה הנכונה', 'הוסף את כל אירועי המצעד המתרחשים של הכנסיה הנוצרית ליומן שלי', 'אני רוצה לשמוע עוד ספרי שמע', 'לנגן עבורי מוזיקת \\u200b\\u200bרוק', 'ספר לי על סלילת הכבישים האחרונה בכביש שבעים', 'אני רוצה את התוכנית של ריאן סיקרסט ברדיו במטבח', 'איזה יום בשבוע הוא העשרים ואחד במאי', 'מה מזג האוויר בקולומבוס', 'מה קורה בעולם עכשיו בדוק ב-bbc', 'כאשר הפגישה מתחילה', 'היי מה יש ברדיו עכשיו', 'בבקשה התחל את המוזיקה שלי', 'להאזין לרדיו npr', 'אנא ספק לי הודעות על תוצאות הבחירות', 'היכן נמצאים מפלי נאאגרה', 'תתלונן לשירות הלקוחות של אמזון בשבילי', 'נפגש בשבוע הבא ביום שני', 'שלח הודעה זו אל מיקרוסופט בטוויטר', 'שלחתי מייל לקונראד לפני שבוע בבקשה תזכיר לי מה כתבתי', 'לנגן את חמישים השירים שאני מאזין להם בתדירות הגבוהה ביותר', 'צור קשר עם שירות הלקוחות של וולמרט עם תלונה באמצעות ציוץ', 'הגדר אירוע מתחלף', 'מה החדשות', 'בבקשה קבע תזכורת לפגישה שלי בחמש אחר הצהריים היום', 'הודע לי על הפגישות שלי לאחר כמה ימים', 'האם אני צריך מגפי שלג', 'נגן קצת רוק קלאסי לפני שאאבד את דעתי', 'תודיע לי את שעת ההתראה', 'לשחק אותו אחרי חמש דקות', 'איך אני', 'הוסף אירוע שכותרתו מסיבת הסיום של דן מאי חמישי בגושן', 'תעיר אותי עם עלות השחר', \"נא לנגן מוזיקת \\u200b\\u200bג'אז\", 'כמה מעלות יש בביוסטון עכשיו', 'להפעיל שעון מעורר', \"מה השעה בפרת'\", 'תשמיע לי איזה שיר מנגינה', 'תפעיל ספר ', 'האם יש עדכונים באימייל', 'איך מזג האוויר הולך להיות ב-20 במרץ 2017', 'זה נראה שקר', \"לנגן קצת מוזיקה מז'אנר מטאל\", 'הוסף אירוע ליומן שלי', 'הגדר התראת תזכורת לשבת בתשע בבוקר לקראת תשלום חשבון החשמל', 'ספר לי את כל התזכורות הממתינות', 'לנגן מוזיקת \\u200b\\u200bפאנק', 'הגדר תזכורת למחר בחמש אחר הצהריים', 'מהן תחנות רדיו הרוק החדשות', 'התריע בפניי על יום ההולדת של האישה מראש', 'תזכיר לי את ארוחת הערב עם אמא הלילה בלוח השנה שלי', 'האם יש לי את התשובה משרלוט בנוגע לחקירה של אתמול', 'תודיע \\u200b\\u200bלי על פגישות', 'אתה יכול להגיד לי את התאריך של היום', \"תנגן קארי ג'וב בשבילי\", 'מה האימייל האחרון שיש לי', 'האם אני צריך לקחת מטריה היום', 'חפש את איירין ושחק אותה', 'הגדר התראה של יומיים לפני יום ההולדת של מריה בבקשה', 'לאדם יום הולדת', 'אני אודה לך אם תתקשר לשירות הלקוחות של אמזון', \"קבע את הפגישה עם ג'סטין וקתרינה\", \"צור רשימת השמעה של כל השירים של ג'סטין ביבר ותנגן באופן אקראי\", 'הגדר שעון מעורר בעוד ארבעים דקות מעכשיו', 'מהו המספר הכולל של האוקיינוסים בעולם', 'עשר בבוקר', 'תראה לי מה קורה', 'האם מישהו שלח לי אימיילים חדשים בשעה האחרונה', \"האם קיבלתי הודעות מג'ון\", 'איך מזג האוויר בברוקלין כרגע', 'הייתי רוצה להקשיב', 'תראה לי את התחזית של השבוע', 'האם יהיה נחמד השבוע', 'האם יורד גשם כרגע', 'אנא ארגן פגישה עם עמיתיי לעבודה', \"בבקשה הוסף בראנץ' עם ארין ליומן שלי בדיינר\", \"מהו יום ההולדת של אנג'לינה ג'ולי\", 'הגדר הודעה על הפגישה שלי ביום שלישי הבא', 'הפעל את הרדיו והשמע תחנת hello fm', 'ספר לי על התקציב הפדרלי', 'מהו לוח הזמנים של הפגישה', 'לנגן את המוזיקה האהובה עלי כרגע', 'פתח את אפליקציית cnn', 'לנגן פסקול של תיאטרון מוזיקלי', 'מה הפרש השעות בין כאן לדקאר', 'מהן כותרות החדשות', 'תנגן את תחנת הרדיו האהובה עליי', 'כמה גבוה פייקס פיק', 'מהו מקום המגורים של קריקטר דוני', 'חפש את gary mcnamara ברדיו', 'אילו הודעות דוא\"ל חדשות יש לי מאמי', 'באיזו שעה מתחיל משחק רדסו הבא', \"ספר לי על מרטין לותר קינג ג'וניור\", 'קבע פגישה בעשרים באוקטובר עשר וחצי בבוקר', 'המשך לשחק כאילו אתה צוחק מר פיינמן', 'האם יש לי שעונים מעוררים מוגדרים להיום', 'ספר לי חדשות מקנדה', 'אני צריך לשים את ארוחת הצהריים של השבוע הבא בלוח השנה', 'להגדיר את האירוע שיחזור ביום שני הראשון של החודש', 'עבור אל cnn dot com', 'ספר לי מה השעה בהודו', \"להתחיל לנגן מוזיקת \\u200b\\u200bג'אז\", 'יום שישי האחרון של החודש יוצא באיזה יום', 'אירוע חדש בלח שנה לנישואיו של אלברט', 'נא להוסיף תספורת ל-27 במרץ בשלוש אחר הצהריים', 'איזה יום הוא החמישה עשר', 'הודע לי בעוד חמש עשרה לפני תחילת הפגישה', 'נא להפעיל מוזיקה קלאסית לארוחת הערב עכשיו', 'להתחיל לנגן מוזיקה', 'לשחק איירין מ-toby mac', 'מאיפה לאה רמיני', 'כמה ימי שישי יש במאי', 'תזכיר לי מאוחר יותר להגיש את החשבונית', 'אני רוצה להאזין לספר האודיו שלי', 'יום הולדת חוזר', 'האם פאוק זכה בליברפול', 'מהו יום ההולדת של שון קונרי', 'איפה פטגוניה', 'צייץ לאמזון על כך שהחבילה שלי לא מגיעה בזמן', \"כמה צפוף בלוס אנג'לס\", 'כמה עמוק האוקיינוס \\u200b\\u200bהשקט', 'אילו אירועים קבעתי היום', 'הודע לי אם יש אימיילים חדשים מ-callum', 'תנגן רדיו בבקשה', 'תזכיר לי משהו בזמן', 'היום מרגיש כמו רוק קשה', 'אני צריך לנעול מגפיים', 'זכור להזכיר לי על פגישת לקוחות בארבע אחר הצהריים', 'כל ההתרחשויות מעניינות בעולם', 'איפה מקום החופשה הטוב ביותר בקליפורניה', 'מזג אוויר במיאמי', 'האם יהיה קר', 'קבע תזכורת לפגישה שלי היום', 'ביום שלישי מה אמור להיות מזג האוויר', 'הגדר תזכורת לדייט לילה עם הבעל ביום שישי הבא', 'תפעילי את המועדפים שלי', 'האם מרקל השיב לי בדואר', 'בבקשה תזכיר לי', 'איזה תאריך הוא יום שני הרביעי של מרץ השנה', 'תקרא לי את הכותרות מדטרויט ניוז', 'כמה זמן זה לוקח', 'כמה נהרות יש באירופה', 'לנגן טעות בכוכבים שלנו על שמע', 'ספר לי את מזג האוויר הנוכחי עבור danville il', 'מתי התור שלי לרופא השיניים בלוח השנה', 'ספר לי על האירועים האחרונים שקורים בעיר שלי', 'תזכיר לי מפגש בימי שני', 'האם ירד גשם בחמישה עשר באוגוסט', 'התחילי מהפעם האחרונה בספר האודיו שלי', 'אתה יכול להגיד לי את השעה הנוכחית', 'אתה יכול לנגן לי קצת skramz', 'לנגן מוזיקה של האמן הזה', 'האם חם בחוץ', 'לשנות את הסטטוס שלי לצמרר', 'אני רוצה לנגן את המוזיקה הזו שוב', 'הראה לי אימיילים חדשים מתיבת הדואר הנכנס שלי', 'כמה להקות אחרות יופיעו בקונצרט של זאק בראון בשלישי ביוני', 'מהו העדכון האחרון בנוגע להוריקן קתרינה', 'נא להגדיר שעון מעורר בשש בבוקר', \"צייץ תלונה לשירות הלקוחות של kohl's\", 'מה עדכון החדשות האחרון ב-bbc', 'פנה לתחנת 102.7  ', 'בבקשה תן לי את המיילים שלי', 'איך מזג האוויר בניו ברייטון פא', 'מה השעה בדובאי', 'מה קורה בקונגרס', 'האם אני בחופשה השבוע', 'להגדיר עבורי תזכורת יומית', 'אתה יכול להגיד לי את הפגישות שלי לשבוע הזה', 'תביא לי חדשות', 'אני רוצה לשמוע את השיר האהוב עליי מ-Iron Maiden', \"נגן ספר שמע של ג'ייקוב\", 'לוח זמנים ופגישה עם מייק ליום חמישי הקרוב בבוקר', 'תעשה תזכורת לאירוע לפגישה עם מונה ביום שלישי', 'נגן עבורי מוזיקת \\u200b\\u200bהיפ הופ', 'האם עלי למרוח קרם הגנה היום', 'האם אני צריך מעיל בחוץ עכשיו', 'צייץ לבובבורגרס שהם דפקו לי את ההזמנה ונאלצתי לחכות שעה נוספת', 'מיקום גיאוגרפי דנמרק', 'השעה הנוכחית בלונדון', 'נגן שיר בכל פעם שאני רואה אותך', 'בדוק מיילים מגארי בשעה האחרונה', 'האם יש מיילים חדשים עבורי', 'כמה תזכורות יש לי', \"ציוץ לבנק על אי קבלת פנקס הצ'קים\", 'האם הטמפרטורה הגבוהה ביותר תהיה מחר יותר משבעים מעלות', 'גישה לפלייליסט פופ', 'בדוק בלוח השנה עבור אירועים', 'תזכיר לי את יום ההולדת של אמא שלי שבוע לפני', 'האם היום העיתון שלי אמור להגיע', 'אם הוגדר שעון מעורר כלשהו תודיע לי', 'איזה יום היום', \"נא לנגן כל אלבום של ג'וי דיויסון\", 'התחל מחדש את הספר הראשון של הארי פוטר', 'מהו רכס ההרים הגבוה ביותר בארה\"ב', 'להגדיר שעון מעורר בחמש בבוקר', 'האם יש לי פגישות מתוכננות בסוף השבוע שלאחר מכן', 'תסמן את האירוע מדי חודש', \"קבע תזכורת לפגישה מחר בשתיים בצהריים ביני לבין ג'ון\", 'להשוות יותר מדינות', 'מהו משולש בורמודה', 'האם אירוע היום ההולדת בחמישה עשר לחודש הוא נכון', 'איזה סוג של בדים המזרחיים לובשים', 'לנגן מוזיקת \\u200b\\u200bרדיו', 'נמאס לי מפנדורה בבקשה הפעל את הרדיו', 'תזכיר לי על הפגישה שלי', 'להשמיע מוזיקה שהלחין מישהו נותן רמז קצר על האלבום', 'מתי התערוכה של מונט מתקיימת', \"קרא לי את המייל של ג'ון סמית'\", \"קבע את הפגישה שלי בלוח השנה עם גב' בולנד ביום רביעי ב8 בבוקר\", 'האם יהיה שמש', 'הכינו רשימה של כל אירועי ליל כל הקדושים שמסתובבים בניו יורק', 'בבקשה מצא לי את החדשות האחרונות בנושא', 'האם ירד גשם היום', 'מי היה האורח הראשי של האירוע', 'תעשה לי תזכורת ב15 לכל חודש', 'תגיד לי את השעה', 'אתה יכול להגיד לי את השעה הנוכחית', 'הוסף אירוע ליומן', 'מה שם האירוע', 'בבקשה נגן את \"Nightmare\" של Avenged Sevenfold', 'האם יש משהו שצריך להזכיר לי', 'אני רוצה לדעת מה החדשות האחרונות', 'האם אני צריך לסחוב משקפי שמש בחוץ', 'הודע לי כשהפגישה הזו נסגרת', 'תזכיר לי לנגן את השיר הזה הערב', 'פתח את הספרים והפעל את ספר \"Brains\" מפרק תשע', 'איפה המקום', 'מה דוח מזג האוויר עבור בנגלור היום', 'הצג את כל האימיילים מחבר שלי, קאט טארהגרבר', 'תראה לי את החדשות', 'הצג את רשימת ההשמעה שלי למסיבה', 'מה קורה בחדשות BBC היום', 'אתה יכול להזכיר לי על שיעור התעמלות בעוד שעתיים', 'לפי הציונים שלנו', 'מה קרה אתמול', \"מה האג'נדה שלי\", 'תשחק את מרווין גיי אני רוצה אותך', 'חדשות חמות', 'מה יהיה מזג האוויר בעוד שלושה ימים מעכשיו בחמש ערים מרכזיות בקרבתי', 'בבקשה תגיד לי את מזג האוויר', 'מהן ההודעות האחרונות שקיבלתי', 'מטריה מאוחר יותר', 'מה השעה והיום היום', 'אֶתִיקָה', 'הוסף ערב בנות ליומן שלי', 'בבקשה נגן את הברודס', 'אילו מיילים חדשים', 'הגדר שעון מעורר של שמונה בבוקר ליום שלישי הבא', 'מה לוח הזמנים שלי לשתיים עשרה בצהריים עד ארבע אחר הצהריים', 'ה22 איזה יום זה', 'בשבע בבוקר מחר בבוקר יצלצל השעון המעורר', 'מה הם להיטי הקאנטרי של היום', 'באיזה יום פסחא', \"העלה חדשות מ-וול סטריט ג'ורנל\", 'מה הלאה', 'אתה יכול לתת לי את חדשות הספורט האחרונות', 'כל הודעת אירוע זמינה ביומיים האחרונים', 'אני רוצה להקשיב לסלין דיון', 'האם ירד גשם בערב היום', 'BBC בשידור חי', 'דוא\"ל לגארי', 'איפה הספר הכי קרוב', \"באיזו שעה ההצגה 'ג'וי' בתיאטרון ברודווי היום\", 'מתי המסיבה בסוף השבוע הזה', \"כמה אנשים חיים בלוס אנג'לס\", 'באיזו עיר גר אנתוני קיידיס', 'אנא חזור על המשפט האחרון מאותו ספר', 'ממה עשוי האלמוגים', 'האם אני עסוק היום', 'לכתוב תלונה כדי לקנות את הטוב ביותר', 'שים תזכורת להתקשר מחר לפאוול', 'ספר לי מי הנשיא ה32', 'מה הולך להיות מזג האוויר בסוף השבוע הזה', \"קרא אימייל מג'וליה\", 'התחל את רשימת ההשמעה לטיול כלבים', 'פתח את הטוויטר צור ציוץ חדש ל-directv יש שירות לקוחות נורא', 'האם ירד גשם ביום שישי', 'האם אתה יכול להוסיף שם מקום ליומן', 'אתה יכול לתת לי את הזמן באזור הזמן הזה', 'אנא הפוך את התחנה ל107.4', 'האם יש לי פגישות מתוכננות ל24 במרץ 2017', 'לסמן בלוח השנה שלי', 'מה השעה בניו יורק עכשיו', 'להשמיע את השיר מאתמול בשעה שש בערב', 'מה השעה בעיר הזאת', 'חפש את התחנה הבאה', 'מה אני צריך ללבוש קר בחוץ', 'לנגן את להקת הרדיו עם סרט תיעודי', 'האם עלי ללבוש סוודר', 'תתקשר ללינדה ותזכיר לה לאסוף אותי לבאולינג', 'תן לי את החדשות על הספק שלי', 'האם יש לי אימיילים חדשים משרה', 'מתי ואיפה מסיבת יום ההולדת של יוני', 'האם קיבלתי אימייל מרון ביומיים האחרונים', 'אילו פגישות יש לי בין אחת בצהריים עד שלוש בצהריים', 'לקבוע תור לרופא ליום שישי', 'האם הולך לרדת שלג היום', 'קרא את המיילים האחרונים שלי', 'האם דיוויד חזר אליי כבר', 'כמה קרוב לשמונה בערב', 'תציין את מסיבת יום ההולדת של שרה ב-12', 'בבקשה תן לי את התאריך היום', \"ספר לי על ג'ורג' וושינגטון\", 'תזכיר לי ביום שלישי בשעה שתיים בצהריים שיש לי פגישה עם הבוס בשלוש אחר הצהריים', \"איפה גרה ג'נט ג'קסון\", 'להמשיך את ספר הדרדסים', 'הפעל את רשימת ההשמעה החדשה ביותר של בוב דילן', 'האם זה יום הולדת או יום נישואים של מישהו היום', 'מה התאריך של היום', 'ליצור אירוע בלוח השנה שלי', 'ספר לי את כותרות חדשות הספורט של היום', \"הוסף ליומן שלי להיום ג'ו סמית' באחת בצהריים\", 'מה מזג האוויר שבו אני נמצא היום', 'לחודש הבא כמה ימי מפגש פנויים יש לי שנוחים לי', 'לשלוח ציוץ', 'אילו אירועים הולכים לקרות בעיר שלי בין שתיים ארבע אחר הצהריים היום', 'מה הפגישה שלי בתשע בבוקר', 'חפש את עדכוני האימייל שלי', 'הייתי רוצה לשמוע קצת מוזיקת \\u200b\\u200bראפ עכשיו', 'הצטברות תחזיות שלג בתאו', 'בבקשה תנגן לי את השיר נקומוקה', \"אנא בדוק אם האימייל של ג'נסי הגיע\", 'תן לי את רשימת המטלות שלי להיום', 'הזמנה בלוח השנה לארוחת בוקר עם שרה בשמונה בבוקר', 'לנגן קצת מוזיקת \\u200b\\u200bקאנטרי', 'להפעיל את הרדיו', 'מה השעה בלונדון כרגע', 'הצג את כל הודעות הדוא\"ל של החוזה', 'השמע לי את השיר החדש של טיילור סוויפט', 'אנא ספר מי המציא את הטלפון ומה התאריך', 'האם יש לי אימיילים חדשים מדן', 'אתה יכול לספר לי על השעון המעורר שנקרא מיטה', 'האם תוכל בבקשה להודיע \\u200b\\u200bלי על האירוע בלוח השנה שלי', 'ספר לי מה הייתה הטמפרטורה בעיר שלנו בשתיים עשרה בצהריים', 'תנגן כל דבר מאת החתול סטיבן ואני אהיה מאושר', 'מה החדשות האחרונות מ-cnn', 'מי יוצאת עם ריהאנה עכשיו', 'בבקשה תנגן רוק תשעים ושמונה נקודה שבע ברדיו אף אמ', 'תנגן מטאליקה', 'שאל את הרשת שלך', 'איזה יום היום', 'איזה מדבר הכי חם', 'הפעל מוזיקה מהמקום שבו הפסקת', 'תן לי את הפרטים של התזכורת הבאה', 'האם אני צריך מעיל גשם למחרת', 'תזכיר לי את הפגישה שלי בחמש אחר הצהריים', 'תוכל בבקשה להשמיע עבורי את רדיו האף אם של תחנה אחת', 'באיזו שעה יש לי תור לרופא העיניים ב23 לחודש', 'תן נתוני מזג אוויר לשבוע', 'היכן ממוקם פארק יילו סטון', 'דווח על תלונה לסמסונג באמצעות ציוץ', 'אתה יכול להביא לי את המסלול לשיקגו לפני חצות', 'האם יש לי אירועים בשבוע הבא', 'אני רוצה לשמוע מוזיקה של להקה מהפלייליסט שלי', 'התאם אישית את הכרטיסייה כדי להציג את פרק הזמן המועדף עליך', 'אנא עדכן את הסטטוס שלי בפייסבוק לערב טוב', 'תזכיר לי מראש את יום השנה שלי', \"המסיבה של ג'ימי ביום שישי בוטלה\", 'תנגן את השירים האהובים עליי', 'חדשות בי בי סי חדשות עולמיות', 'תנגן ליידי גאגא מתחילים בפוקר פייס', 'מה הם אומרים על דונלד טראמפ בנושא הזה', 'איפה אני יכול למצוא את יפן', 'האם זה יקפא תוך לילה', 'תכוון שעון מעורר לשתים עשרה בצהריים', 'האם יש שעון מעורר בארבע לפנות בוקר', 'חדשות מובילות ביום האישה הבינלאומי', 'תראה לי באיזה יום חל ה31 לחודש', 'האם הפגישה שלי היום נקבעה מחדש', 'תזכיר לי בעוד חמישים דקות', 'מלא את היומן שלי בפגישה עם גרווין וטרילי לחמישי בדצמבר ב5 וחצי בערב', 'האם יש צורך במשקפי שמש', 'חדשות עדכניות', 'מה השעה בניו יורק עכשיו', 'איזה שעונים מעוררים יש לי', 'נגן את שירי הקאנטרי האחרונים שיצאו', 'תאחל יום הולדת', 'עבור לפלייליסט הקלאסי שלי', 'אנא ספר לי אירועים אקטואליים מהיום', 'מה יהיה השיא מחר בטוסון', 'להוסיף שנה חדשה עם המשפחה בשבוע הבא', 'מצא לי גרסה של ספר אודיו של Read Player One והפעל אותה עבורי', 'האם יש לי שעון מעורר להיום', \"האם יש לי מיילים חדשים מג'ון\", 'סוף השבוע הולך להיות נחמד', 'תזכיר לי בשש וחצי בערב', 'אשמח לשמוע שירים נוספים של האמן הזה', 'נא להדליק את הרדיו', 'מה השעה ביום כרגע', 'אנא בדוק את מזג האוויר ביום שלישי', 'צייץ תלונה על ווריזן', 'מצא והקרא לי אירועים עולמיים המתרחשים היום', 'כמה אנשים היו אתמול בצהריים בהפגנה בטיימס סקוור', 'הייתה רוח אתמול', 'הראה לי אימיילים מהחברים שלי', 'בבקשה קרא לי את השעונים המעוררים שלי', 'לעקוף סיסמאות מסוימות', 'האם יש לי משחק ב7 באפריל', 'נא להציג לי את המייל שנשלח הבוקר בעשר בבוקר', 'אפשר לדעת את הפרטים לגבי השעון מעורר שהגדרת', 'בדוק מיילים שלא נקראו', \"האם ג'ון שלח לי אימיילים חדשים\", \"האם תוכל לקבוע פגישה עם מר צ'ן ביום שני הבא בשש בערב\", 'מה רשום היום בלוח השנה', 'בדוק מתי ההופעה מתחילה', 'בחברה טוויטר צור תלונה בשירות לקוחות בציוץ', 'אתה יכול להגיד לי מה התאריך היום?', 'הראה לי את השעונים המעוררים שהוגדרו', 'איזה אירוע מתוזמן יש לי החודש', 'תזכיר לי לפגוש את שרה בסייף-וואי במקינליוייל בקליפוריה אחר הצהריים', 'האם יש לי תזכורות להיום', 'האם מייק שלח לי מייל', 'האם כפפות יועילו ביום שלישי', 'האם לנסיך היו ילדים', 'לקבוע פגישה ביום רביעי בשלוש אחר הצהריים בחדר', 'כמה פגישות יש לי היום בלוח השנה', \"בן כמה ג'ורג' קלוני\", 'אתה יכול לתדרך על האירועים המתוכננים הבאים', 'מהן הכותרות האחרונות ב-cnn', 'מה השעה הנוכחית בזמן המזרחי', 'בדוק את המיילים החדשים שלי', 'תזמן את הפגישה שלי עם טום קרוז היום בערב בשש בערב', 'כל דבר שקורה היום', 'תגיד לי למי יש הכי הרבה להיטים מספר 1 בעשרים המובילים של לוח המודעות', 'תזכיר לי לשלוח את המייל הזה מאוחר יותר', 'כמה הבית רחוק מכאן בצעדים', \"נגן ג'ינגל פעמוני הבא\", \"האם יש משהו חדש בג'ימייל שלי\", 'אילו שעונים מעוררים יעירו אותי מחר', 'איפה אני אמור להיות ביום רביעי בין שתיים לאחת עשרה', 'אתה יכול להגיד לי אם יש לי אימיילים שלא נקראו מהיום', \"כמה גבוהה ג'ניפר אניסטון\", 'נא להגדיר שעון מעורר בחמש אחר הצהריים', 'איפה בראד פיט גר', 'באיזה שעה מוגדר השעון המעורר למחר בבוקר', 'הייתי מבקש ממנו להשמיע את צליל הצפצוף ברציפות', 'מה מזג האוויר במיאמי', 'אני רוצה זמן מדויק בוושינגטון עכשיו', 'תן לי את הכתובת של המספרה שלי לפגישה היום', \"מתי נולד ג'יימי פוקס\", 'אתה יכול לגרום לקובץ המוזיקה שלי לנגן', 'האם קר יותר מאתמול', 'אתה יכול להגדיר תזכורת ליום רביעי באחת בצהריים לפגישה שלי', 'ביוגרפיה של דולי פרטון', 'מה קורה ביפן', 'האם תוכל להוסיף ליומן שלי אירוע ליום שישי הבא', 'צייץ תלונה לאמזון על עיכוב במשלוח', \"לשחק חמש מהלכים חומים כמו ג'אגר\", 'בן כמה ברק אובמה', 'תתאר את הטופוגרפיה הכללית של סנטרל פארק', 'אילו שעונים מעוררים מוגדרים', 'מה השעה בלונדון', 'קבע תזכורת ללכת לסרטים עם רון ב27 למרץ', 'הוסף שעון מעורר של חמש בבוקר במקום השעון המעורר שלי בתשע בערב', 'תגיד לי מה השעה עכשיו', 'תנגן סנם', 'יש לי פגישה עד שתיים בצהריים היום בבקשה תזכיר לי', 'תקבע פגישה למחר', 'מה מזג האוויר', 'תחדש את שירי הזיכרון', 'האם יש לי מיילים על כימיה', 'תנגן יואי לואיס', 'תזכיר לי בתחילת כל חודש', 'תשמיע רשימת מוזיקה למסיבה', 'תגדיר תזכורת ל5 במרץ שיש לי תור לרופא בעשר בבוקר', 'האם יש לי שיעור ביום שני', 'האם ה23 יוצא בסוף השבוע', 'מה החדשות בפוליטיקה ב-cnn', 'נגן עבורי את ערוץ הרדיו הזה', 'אני רוצה לקום בשש בבוקר', 'צייץ @phohouse השרת שלך היה גס רוח #badpho', 'הצג דוח bbc על הגירה', 'אנא הגדר שעון מעורר לשבע וחצי בבוקר מחר', 'תבדוק מידע על מישהו', 'מי זה לנין', 'איך מזג האוויר יהיה השבוע', 'מה האירוע הבא בלוח השנה שלי', 'אני רוצה לשמוע רדיו דיבור מקומי', 'האם יורד גשם עכשיו', 'אתה יכול לרשום את עשרת הסינגלים המובילים השבוע', 'האם למיילי סיירוס יש אחים', 'תיצור אירוע לוח שנה עם הבן שלי', 'יורד גשם', 'היום חג', 'באיזו שעה מוגדר השעון המעורר למחר', 'תגיד לי מה השעה בניו יורק', 'האם יש מייל עם נושא', 'תזכיר לי שבוע לפני מועד התשלום בכרטיס האשראי שלי', 'מרחק לציוני דרך מקומיים', 'לנגן מוזיקת \\u200b\\u200bראי', 'תזכיר לי ללכת לקניות היום', 'הוסף shape of you לתור הנוכחי', 'תזכיר לי את זה בעתיד', 'כל אימייל חשוב בשעה האחרונה', \"מיילים מג'יין איילה\", 'התריע בפניי אם עולה נושא כלשהו הקשור לפוליטיקה', 'מתי נולד טראמפ', 'צייץ למקדונלדס ותכתוב שמצאתי שערה בהמבורגר שלהם', 'מתי לאחרונה קיבלתי מייל חדש', 'מהם שלושת השעונים המעוררים הבאים שהוגדרו להידלק', 'האם תוכל להודיע \\u200b\\u200bעל האירוע בלוח השנה שלי', 'תראה לי את השעונים המעוררים שהגדרתי', 'כתוב ציוץ תלונה על הטלוויזיה שלי לסמסונג', \"המשך להאזין ל-'הנערה ברכבת' באודיבל\", 'איך מזג האוויר באורלנדו', \"בבקשה קח אותי לוול סטריט ג'ורנל\", 'תבדוק אם אמא שלי שלחה לי אימיילים', 'ערבב והפעל את רשימת ההשמעה', 'הגדר שעון מעורר רצוף ללא אפשרות לנודניק לשבע בבוקר בבקשה', 'צייץ במסעדה של פאולה דין שהתור תמיד ארוך מדי', 'האם יש אפשרות לגשם השבוע', 'אנא בדוק בתיבת הדואר הנכנס שלי אם יש אימיילים חדשים בעשרים הדקות האחרונות', 'האם יש לי כרגע שעונים מעוררים מוגדרים', 'שֶׁמַע', 'איזה מיילים התקבלו בשעה האחרונה', 'האם קיבלתי אי פעם אימייל משון היום', \"נגן את השיר של מייקל ג'קסון\", 'באיזו שעה אני מתעורר מחר', 'הראה לי את התוכניות הקרובות על 105.1', \"לערבב ולהשמיע שירים מז'אנר הריקוד\", 'מה האירועים בלוח הזמנים שלי מחר מתשע עד אחת עשרה בבוקר', 'כמה מעל פני הים נמצאת דנבר', 'תנגן קאנטרי', 'מה קורה בסוף השבוע הזה', 'תנגן sixty', 'פתחו את פנדורה וחפשו תחנת רוק קלאסית', 'איך האקלים היום', 'תציין את ארוחת הפרישה של אבא ברביעי באפריל', 'כל אימייל חדש אחרי חמש אחר הצהריים', 'קבע פגישה עם בריאן בילינגס לשתיים וחצי בצהריים ביום שישי', 'האם עלי ללכת לשוק מחרתיים', 'יום חמישי בשעה שתיים בצהריים אני חייב להיפגש עם מר פורמן בבקשה סמן את זה ביומן', 'אתה יכול לתת לי את הפרטים של שגרירות הודו', 'היום יום שני', 'באיזו שעה אני פוגש את רופא השיניים שלי ביום שישי', 'היי מה השעה', 'תגיד לי מתי לאמא שלי יש יום הולדת', 'מהי הטמפרטורה הממוצעת במנגלור לשבוע זה', 'הודע לי על שעונים מעוררים שהוגדרו היום', 'תנגן ברדיו 95.5', 'מה היה האימייל האחרון שדן שלח', 'איפה סן פרנסיסקו', 'קבע תזכורת להתעמלות בכל יום רביעי בשלוש', 'אנא סמן את לוח השנה שלי טיפול בכל יום שלישי באחת עשרה בבוקר', 'תעיר אותי בשבע בבוקר', 'הזמינו את היום הפנוי הבא שלי בלוח השנה כדי שאוכל להסתפר אצל סאלי', 'תזכיר לי מחר בארבע על אירוע', 'לכתוב ציוץ תלונה', 'יש לי תור לרופא שיניים ביום שני בבוקר נכון או לא נכון', 'מה השעה כרגע', 'נא לנגן את כל השירים בווליום גבוה ולבצע התאמות למצב מוזיקת \\u200b\\u200bפופ', 'תהיה השעון שלי', 'האם יורד גשם בטולדו עכשיו', 'הוסף את יום ההולדת של סאלי ליומן ליום שבת בעשר בערב', 'הגדר תזכורת לשעון מעורר עבור לוח שנה', 'בדוק את דוא\"ל הספאם שלי עבור פישינג', 'בבקשה הפעל את הרדיו', 'בדוק את תיבות הדואר הנכנס שלי וספר לי על מיילים חדשים', 'תמשיך לנגן מאיפה שהפסקתי', 'היכן תהיה הפגישה', 'מה התאריך של היום', 'אל תיתן לי לשכוח שאני צריך תזכורת ל-27 במרץ בצהריים', 'תן לי את החדשות האחרונות על האייפון', \"אני רוצה לשמוע את המופע של ג'ים ובוב ב103.3\", 'האם יהיה חם ביום שישי בערב', 'מה יהיה מזג האוויר השבוע', 'תפתח את כל המיילים של סטפי', 'אנא שלח תלונה על הניסיון הנורא שלי עם החברה', 'יכול לאתר קצת מוזיקת \\u200b\\u200bגוספל', 'חפש את כל השירים של הי לואיס ונגן', 'היי מה התאריך של היום', 'אתה יכול בבקשה להוסיף את ההזמנות שלי לארוחת ערב ליומן שלי', 'מה תזמוני ההופעה', 'מה היו המספר הראשון של נושאי האימייל שקיבלתי היום', 'לנגן שיר \"מעל הקשת\"', 'השמע את השיר האחרון מהפלייליסט האחרון שלי', 'שים לי תזכורת בלוח השנה שלי על פגישה עם הלקוח בעשר בבוקר ביום שלישי', 'האם אני צריך להביא מטריה למנילה היום אחר הצהריים', 'הגדירו תזכורת לפגישה בכל יום שני בשעה שתיים בצהריים', \"תנגן לי קצת ג'אז\", 'תפעיל את הארי פוטר ספר חמישי', 'מהו היום ב-23 במרץ', 'מי האיש שגילם את הארי פוטר בסרטים', 'צייץ תלונה לדונלד טראמפ על הביצועים הנוראיים שלו', 'פתח את הטוויטר של הרשיי', 'הראה לי את קצב הצמיחה הדמוגרפי של שוויץ בעשר השנים האחרונות', 'בן כמה בראד פיט', 'מה התחזית להיום', 'הגדר טיימר לשעה אחת מעכשיו', 'תשימי קצת מוזיקת \\u200b\\u200bטכנו בבקשה', 'האם יש לי תור ביום רביעי הבא בשתיים', 'באיזה שעה יש לי פגישות היום', \"מה אתה יודע על ג'ון אברהם לינקון\", 'האם עדיין יהיה גשום וקר ביום רביעי', 'צייץ לשירות הצרכנים על האזור המלוכלך שלהם', 'ציוץ שירות צרכנים', 'ורוד אף אחד לא יודע', 'אני צריך לדעת את כל החדשות החדשות על הטיוטה של \\u200b\\u200bיוסטון טקסנס', 'מהו המייל האחרון שקיבלתי', 'בדוק אם הודעות דוא\"ל חדשות הגיעו מכותרת תשע', 'הוסף התראה מהחדשות של בוב על מזג האוויר', 'הגדר תזכורת לפגישה ביום שלישי עם ביל', 'להתחיל לשחק בשקית פטישים', 'נא נגן את המוזיקה הכי טובה שלי', 'האם יורד גשם כרגע בניו יורק', 'תנגן לי קצת מזה', 'תזכיר לי על הפגישה מחר', 'בוא להאזין לפלייליסט', 'איפה קונצרט רדיו-הד', 'כמה חודשים יש בשנה', 'השמע שיר מהמועדפים שלי', 'הוסף ליומן תזכורת יומיומית לכביסה', 'אילו שעונים מעוררים הגדרת', 'תזכיר לי שעון שיש לי אירוע', 'הפעל את ספר האודיו הזה', 'תזכיר את זה ביום שלישי', 'מה הטמפרטורה כרגע', 'זהו ציוץ עבור קומקאסט, אם יש לי אינטרנט ושירות טלפון מכם והוא מתנתק, איך אפשר ליצור אתכם קשר', 'הראה לי את האירועים שלי לחודש', 'מה בחדשות היום', 'האם אתה יכול להראות לי את החדשות האחרונות מ-WSJ', 'תוסיף ארוחת ערב עם אחותי בשבת', 'הפעל את התוכנית מאיפה שהפסקתי אתמול', 'תפעיל תוכנית על פשע באזור דאלאס', 'תזכיר לי אם אני מתגעגע לשגרת טיול הערב שלי', 'האם קיבלת אימייל של אדם זה', 'אני יכול לצאת במכנסיים קצרים', 'מהי תחזית מזג האוויר להיום', 'נא להגדיר את השעון המעורר למחרת בבוקר לשבע בבוקר', 'מה נושא המייל האחרון של אמא', 'תערבב ותשמיע מוזיקה', 'האם היום הולך להיות שמש', 'שלח הודעה לרשת החשמל שהחשמל שוב לא פועל', 'ב\"רדיו מירצ\\' האם אפשר להשמיע את תוכנית \"פיל דיל\"', 'תפעיל מוזיקה', 'תנגן את ד\"ר דמנטו ברדיו ליד המיטה שלי', 'עליי להוסיף ללוח השנה שלי את יום ההולדת של בולה ב-12 ביולי', 'רשום מיילים חדשים', \"האם אוכל לקבל רשימה של החדשות מהוול סטריט ג'ורנל\", 'צייץ את הטמפרטורה הנוכחית', 'האם אני צריך ללבוש מעיל כבד היום', 'תמצא מפה', 'שלח ציוץ ל-T-Mobile על עובדים גסים', \"באיזו שנה מת מייקל ג'קסון\", 'לצייץ @תלונה', 'הפעל את הפלייליסט הזה', 'תנגן אהבה אמיתית אחר כך', 'מה היו המספרים הזוכים בהגרלת הפאוורבול אתמול', 'אני תמיד שם לב', 'הפעל תחנת רדיו hoizer מאפליקציית הפנדורה שלי', 'הראה לי חדשות מ-cnn להיום', 'איזה דוא\"ל נשלח בשלוש וחצי אחר הצהריים', 'האם אתה יכול להודיע \\u200b\\u200bלי כשתגיע השעה 14:00', 'תעיר אותי ביום שישי בחמש בבוקר אני צריך לתפוס את הרכבת', 'האם קר מדי ללכת לשחות', 'האם אתה חושב שהולך לרדת גשם מחר', 'כל הודעות האימייל החדשות', 'קבע אירוע ליום ראשון הזה ולשני ימי ראשון הבאים שיש לי יוגה ב-12 בצהריים', 'חזור על אירוע לוח שנה', 'מהי הכותרת מהחדשות המקומיות של הבוקר', 'תזכיר לי בשמונה בערב לעשות כביסה', 'מהי הטמפרטורה', 'אני צריך לקום בשבע בבוקר', 'האם אליזבת טיילור עדיין בחיים', 'איזה תאריך יהיה ביום שני הבא', 'לנגן את תחנת הרדיו רוק 108', 'תנגן לי קצת פופ', 'קבע תזכורת ליום הנישואין שלי בעשרה ביולי', \"קבע צ'אט עם אדם ביום חמישי אחר הצהריים\", 'איך לוח הזמנים שלי להיום', 'מה הפרטים של האירוע הזה', 'בבקשה תגיד לי את התאריך והשעה', 'אנא הודע לי כשיש עדכון לסיפור התרסקות המטוס', 'חפש את השיר השני והשמע אותו', 'האם יש חדשות אחרונות', 'נגן את כל שירי הרוק', 'האם ספרד חולקת את הגבול שלה עם מרוקו', 'מה בן שלח לי אימייל', 'בן כמה טום קרוז', 'נא להפעיל 99.5', 'צייץ לשירות צרכנים על בעיה שאני מתמודד בה עם המוצר', 'תראה לי חדשות מ-cnn', 'מי זכה בחמשת טורנירי אליפות המכללות האחרונים בכדורסל לגברים', 'השמע מוזיקה הקשורה למוזיקה שהאזנתי לה הבוקר', 'הפעל מחדש את ספר האודיו גן עדן הוא אמיתי', 'תן לי את הזמן במוסקבה', 'תן לי מידע נוסף על מסיבת התה השנתית', 'היי אנא ספק מידע על אירועים עד סוף היום', 'רדיט פופולרי', 'תן לי את פרטי הלידה של אברהם לינקולן', 'נסו לנגן מוזיקה קלאסית ישנה של שנות התשעים', 'מה תהיה הטמפרטורה הגבוהה ביותר השבוע', 'באיזו שעה השעון המעורר שלי יעיר אותי', 'בחר את פלייליסט האר אנד בי מהניינטיז בבקשה', 'היי פרסם את התלונה שלי למייקרוסופט בטוויטר', 'להגדיר תזכורת לדבר משמח כל יומיים', 'חפש תחנת רדיו בשם קצב בתדר אחד', 'מתי יירד שלג בפעם הבאה', 'תראה לי כל אימייל מהלקוח שלי', \"מאיפה ג'סטין ביבר\", 'האם יש אירועים בלוח השנה שלי לשבוע הזה', 'נגן את הרדיו האהוב עליי', 'שים לי אימון בלוח השנה שלי בשמונה בבוקר כל יום השבוע', 'איפה מראדונה גרה עכשיו', 'תפתח מיילים', 'תשמיע שיר', 'באיזה תאריך יום השנה שלי', 'האם עלי לקחת איתי מטריה היום', 'פתח שם חברה מצא משוב', 'תקרא את האימייל שנשלח על ידי איש קשר זה', 'מה מזג האוויר ביוטה', 'כמה ימים נותרו בשנה זו', 'נגן בערוץ הרדיו 93.25', \"הוסף אירוע לפגישה בערב זה עם ג'ייק\", 'הדלק את הרדיו', 'אנא תזכיר לי שעה לפני פגישת השיער שלי ביום חמישי', 'לוח השנה של גוגל', 'תפעיל כוכב על', 'האם ירד גשם בטורונטו ביום שלישי הבא', 'תשמור את האירוע הזה', 'הורד את שירי העם האחרונים עם דירוג של ארבעה כוכבים ומעלה והפעל את כולם ללא אופן אקראי', 'מה זה שעון לונדון', 'הוא שועט באוויר אם שמים אותו', \"הזן פגישה עם ג'ק ליום שלישי\", 'אני צריך שהפגישה הזו תפורסם בלוח השנה', 'המשך הפעלה בבחירת ספרי האודיו האחרונה שלי', 'תבדוק תיבת דואר נכנס', 'איך זה בחוץ', 'מה קורה עם הברקזיט היום', 'מה המידות של קים קרדשיאן', 'הגדר שעון מעורר לשש בבוקר כל יום', 'יש לי פגישה של ראש מחלקה ביום שישי בתשע בבוקר', 'פתח תזכיר הוסף הערה לגבי הפגישה שלי', 'כמה גבוה היה אברהם לינקולן', 'הראה לי חדשות אחרונות בנושא מסוים', 'הודע לי יום לפני הנסיעה שלי לקליפורניה', 'נא לנגן כל מוזיקה שנוצרה בעשור', \"תזכיר לי על הפגישה הבאה שלי עם ג'ו שעה אחת לפני\", 'תזכיר לי על הפגישה שלי היום אחר הצהריים בבקשה', 'האם יורד שלג עכשיו', 'אנא התחל לנגן את רשימת ההשמעה שלי ביוטיוב', \"הודע לי כשיגיע אימייל חדש מרייצ'ל\", 'איפה מונטנה', 'רשום את הפגישה שלי היום', 'רשום את הספרים האחרונים שפורסמו על ידי סופרים אהובים', 'תן לי את עדכון לגבי מזג האוויר של מחר', 'הוסף יוגה ליומן שלי ליום שישי', 'תן לי עדכונים על החדשות האלה', 'מה קורה עם ההוריקן במפרץ', 'רשימת השמעה של מוזיקה מהאווטאר', 'תנגן את מספר השיר', 'תזכיר לי את האירוע הבא', 'אנא הוסף את האירוע הזה ליומן שלי', 'האם זה יום טוב ללכת לים', 'תפעיל רדיו ולכוון ל989', 'צייץ תלונה ל-@', 'מה השעה בשיקגו', 'רשום את כל הפגישות שתוכננו להיום לפני שש בערב', 'האם תזכיר לי את התור הבא שלי לרופא השיניים יום אחד לפני', 'תשיר לי', 'קרא את התזכורת האחרונה', 'מה מזג האוויר בבית היום', 'תמצא מוזיקה קלאסית מאת בטהובן ונגן אותה', \"תנגן מוזיקת \\u200b\\u200bג'אז עכשיו\", 'אנא ספר לי את החדשות האחרונות על פוליטיקה', 'בדוק אם אני צריך מטריה עכשיו', 'תעלה את סיפורי טראמפ', 'רק תוודא שהגדרת את השעון המעורר לצלצל בשעה 8:00', 'אילו אזעקות הגדרתי למחר', 'נגן מוזיקה מאת טיילור סוויפט', 'כמה כסף הרוויח וויל פארל מהסרט האחרון שלו', 'מתי יום ההולדת של שאקירה', 'מצא את הגיל של בראד פיט', 'אני רוצה חדשות על דונלד טראמפ', 'בבקשה רשום את כותרות 20 המיילים האחרונים שקיבלתי', 'הפעל את הפלייליסט המושמע ביותר שלי', 'ספר לי על חדשות הפוליטיקה האחרונות', 'קבע שעון מעורר ביום רביעי בצהריים כדי שאוכל להירשם לתוכנית המאמצים המוקדמת', 'אנא בדוק וספר לי על התזכורות שהצבתי היום', 'בדוק את היומן שלי בשבילי', 'מה יהיה מצב מזג האוויר בשבעת הימים הבאים', 'הפעל רדיו על 999 אף אם בלבד', 'שלח ציוץ בהודעה לקפה קרדינל ותגיד להם ששירות הלקוחות שלהם יוצא מן הכלל', 'הגדר את התזכורת לפגישה הקרובה', 'סמן את היומן שלי כלא זמין היום', 'מה הם האירועים המתוכננים הבאים', 'תנגן שירי ילדים', 'כוון לתחנת האף אם הקרובה ביותר באנגלית', 'שיר אהוב', 'האם יש לי אימייל חדש מסנדי', 'קבע שעון תזכורת לפגישה עם הסוכן שלי הערב', 'יש לי תלונה', 'בבקשה הפעל את ערוץ החדשות כדי שאוכל לשמוע חדשות', 'תוסיף תוכניות ארוחת ערב ליומן שלי', 'כמה מיילים יש לי מהעבודה היום', 'האם יש לי מיילים חדשים', 'מה יש בלוח השנה שלי מחר', 'התחל לנגן את Kids של MGMT', 'תאחל לכל החברים שלי בפייסבוק בוקר טוב', 'התריע בפניי שעתיים לפני הפגישה שלי ביום שלישי עם אירוע לקוח בעשר בבוקר', 'פרסם את הסטטוס הבא', 'מהי השעה בה מתחילה הפגישה', 'ספר לי חדשות BBC', 'מהי היבשת הגדולה בעולם', 'מתי תתחיל ישיבת הצוות', 'מה חדשות העולם האחרונות', 'בבקשה תזכיר לי מה השעה', 'שלח ציוץ ל-@שםחברה שלא קיבלתי את ההזמנה בזמן', 'ניתן להאזין לתוכנית המוקלטת בימים הבאים', 'מהן החדשות האחרונות', \"נגן ג'ון דוידסון\", 'אני רוצה לנגן שירי רוק של אוזי אוסבורן', 'כמה גבוה טרבור נואה', 'האם יהיה שמש ביום שישי', 'אני רוצה להוסיף אירוע ליומן שלי', 'אילו אזעקות פועלות כרגע', 'כאשר אתה מבקש ממנו לקבוע פגישה, הוא יכול לשלוח דוא\"ל לאדם הספציפי ולספק תאריכים זמינים מהיומן שלך', 'פתח את לוח השנה לאירועי פגישות', 'מהי המחלוקת האחרונה על דונלד טראמפ', 'העשרים בחודש זה באיזה יום בשבוע', 'האם אני צריך לנעול מגפיים', 'כל יום שני תזכיר לי להוציא את המיחזור', 'האם תוכל להשמיע את השיר \"קסם\" של ברונו מארס', 'האם יש לי שעון מעורר לטיסת בוקר?', 'תזכיר לי באחת בצהריים', 'תזכיר לי מאוחר יותר', 'תגיד לי אם השעון המעורר שלי מוגדר לבוקר', 'האם זה נכון חדר הכושר נמצא במרחק של שבעה קילומטרים', 'האם צפויה שמש ביום ראשון', 'תן לי רשימה של כל התזכורות שלי', 'אני רוצה לצייץ תלונה על בעיות טלפון של אפל', 'הפעל את רשימת ההשמעה של קניה ווסט', 'באיזו שעה יירד גשם מחר', 'האם בבריטניה קר', 'חדשות cnn', 'מה השעה הנוכחית בעיר הולדתי', 'קבע בבקשה אירוע בשעה עשר בבוקר בעוד חודש ויומיים למכירת בחצר בביתי', \"נא להפעיל ג'ינגל פעמונים מתיקיית המדיה\", 'מה מזג האוויר בפריז', 'ספר לי על מזג האוויר בשנגחאי', 'המשך ספר שמע בבקשה', 'התחל את רשימת ההשמעות שלי', 'איזה יום בשבוע הוא הארבעה עשר בנובמבר', 'תנגן לי מוזיקה מרגיעה', 'האם אני צריך להביא מעיל היום', 'נא ליצור ציוץ חדש', 'איזה נהר בגרמניה הוא הגדול ביותר', 'רשום את האימיילים שהתקבלו לאחרונה בסדר אלפביתי', 'האם קיבלתי אימיילים משון', 'האם הולך לרדת שלג', 'לפני שאתה מגדיר את האירוע הזה, תן התראה', 'האם יש אימייל מאנשי הקשר שלי', \"אני רוצה מידע על ג'ון לנון\", 'באילו ימים אעבוד בלילות בחודש מרץ', 'תביא לי את החדשות מפוקס ניוז', 'כמה תזכורות יש לי בהמתנה', 'תתקן את השעון המעורר', 'אילו אירועים יש בלוח הזמנים של החודש הזה', 'האם התקבלו מיילים חדשים', 'מה האימיילים החדשים ביותר שלי', 'הוסף את ערב השנה החדשה ליומן', 'תן לי התראה של ימים לפני הפגישה הבאה שלי', 'אני רוצה לדעת מה מקור החדשות הזה מדווח', 'תציין את השעה עכשיו בקנדה', 'האם יש סיכוי לגשם השבוע', 'נגן את ספר האודיו ברבור מההתחלה', 'מתי המשחק הבא של בוסטון רד סוקס', 'הפעל את רשימת ההשמעה האחרונה שלי', 'האם יש דוא\"ל חדש של yahoo שלא נקרא', 'אתה יכול להגדיר את השעון המעורר שלי', 'חפש את החדשות האחרונות על אייפון', 'האם לשרה יש כתובת אימייל חדשה ברשימה', 'מה התאריך של היום', 'העלה את החדשות של היום מ-cnn', 'תזכיר לי למלא את טופס הבקשה של המכללה כל יומיים מעכשיו', 'מה מזג האוויר בסוף השבוע הזה', 'האם יש לי אירועים בסוף השבוע הזה', 'לספר את החדשות האחרונות על טראמפ', 'נא לשחק את תוכנית הבוקר בתשעים ואחת נקודה חמש נקודה אחת fm', 'אתה יכול בבקשה לדעת מתי אנחנו צריכים לשלם עבור ביטוח רכב', 'אני חייב להיות בהוואי לאירוע הקרוב הזה, אתה יכול להוסיף את זה', 'להשמיע את השיר הבא', 'אולי אני צריך לזכור להגיע לחנויות לפני שהם נסגרים', 'צור תזכורת אזעקה עבור לוח שנה', 'אתה יכול להזכיר לי משהו מתישהו', 'האם יש לי אימיילים חדשים בתיבת הדואר הנכנס שלי', 'ספר לי על המירוץ לנשיאות', 'האם השמש תזרח בדבון בסוף השבוע הזה', 'תקבל חדשות מ-bbc', 'האם יש שמש בחוץ', 'היי תנגן את השירים מהפלייליסט שלי בשם מנגינות טובות', 'באיזו שנה התגרש טים ברטון מהלנה', 'האם קיבלתי מייל משרה', 'באיזו שעה מתחילה פגישת acme ביום שישי', 'היכן משחק הבא של הבוסטון רדסו', 'מה קורה היום בין שלוש לארבע אחר הצהריים', 'מה החדשות האחרונות מ-t mobile', 'תן לי התראות כאשר אני מקבל חדשות מהסטארבקס שאליהם הגשתי בקשה', 'תתכנן שעון מעורר שיעיר אותי אחרי שלוש שעות', 'תנגן אלבום', 'נגן אלבום ספר אודיו', 'נגן את תוכנית הבריאות בטלפון הנייד שלי', 'נגן את השיר הראשון באלבום הבא', 'קרא את כל המיילים החדשים בבקשה', 'מהי בירת ירדן', 'מתי יום ההולדת של בעלי השנה', 'הוסף את יום ההולדת של לי ללוח השנה בעשרים ושתיים ביוני', 'לבדוק מיילים מאדם מסוים', 'הדלק את הרדיו לתחנה קלאסית', 'הבא לי את פרטי האוסקר הקרוב לשנת 2017', 'אילו הודעות דוא\"ל יש לי', 'חדשות מקומיות', 'אני רוצה להקשיב איירין', 'מי שלח לי אימייל לאחרונה', 'מיילים בשעה האחרונה', 'האם יש מיילים שעדיין לא קראתי', 'ספר לי את החדשות הטרנדיות ביותר של השבוע', 'hackernews', 'פתח את שני המגדלים', 'האם יהיה ערפל בבוקר', 'אני רוצה לפרסם בפייסבוק', \"הוסף את מסיבת יום ההולדת של ג'יין ברחוב 123 לשעה שתיים בצהריים מחר\", 'מה מזג האוויר שבו אני נמצא היום', 'שתף עם טוויטר', 'הצג את האימיילים האחרונים', 'שלום, קח אותי ליומן גוגל בבקשה', 'האם אצטרך ללבוש מעיל היום', 'אני רוצה להאזין לפוקר פייס מאת ליידי גאגא', 'בבקשה הפעל את רדיו פנדורה', 'חייג ללקוח בטלפון נייד דרך מייל', 'קבע אירוע חוזר של יום כושר ליומן', 'הבא לי את הסטטיסטיקות האחרונות על אוכלוסיית דונלד טראמפ', 'האם קיבלתי אימיילים מאמא לאחרונה', 'קרא לי את העמוד הראשון של הניו יורק טיימס', 'דייט משפחתי ביום שני הקרוב', 'השמע לי את פלייליסט העצבות שלי', 'הגדר לי שעון מעורר בשמונה בבוקר', 'סרוק את הרדיו להאוורד שטרן', 'התחל את הזנת המוזיקה ללווין', 'אני צריך את הסיפורים האחרונים מ-yahoo news', 'תשמיע את תחנת הרדיו פופ', 'הראה לי את כתובת הדירה של סלמן קאן', 'איזה סלבריטי צפוי לעקוב אחריי בחזרה בטוויטר', \"מצא ותנגן את פלורידה ג'ורג'יה ליין עם נלי\", 'תזכורת חוזרת לפגישות שלי לחג המולד', 'הראה לי את החדשות האחרונות בנושא הגירה', 'מצא אזור', 'תזכיר לי שעה לפני פגישת העבודה הבאה שלי', 'נגן את השיר \"Hurt\" של ג\\'וני קאש', 'הזכר לי את זה אחרי יומיים', 'שלח בקשה לחברה זו לקבלת החזר', 'כמה שיניים יש לריאן ריינולדס', 'חפש בגוגל את הנושא', 'האם המושל כבר העביר את חוק העבריינות החדש', 'מה השעה באזורי הזמן האחרים', 'מה היו החדשות להיום מספק החדשות', 'נגן את הרשימה אחת עד עשר', 'מה מזג האוויר כרגע', 'בדוק אם הגדרתי שעונים מעוררים למחר בבוקר', 'צייץ תלונה לחברה זו', 'האם רוברט שלח לי מייל כבר', \"נא לנגן את אלבום ג'ניפר לופז\", 'האם משהו שונה היום אודות בלאנק', 'בבקשה תגיד לי מה השעה', 'מה נמצא בלוח השנה שלי להיום', 'ממה עשוי שיער', 'הנושאים החמים בחדשות', 'הצג מיילים על חוזה', 'שלום, פרסם את המצב שלי בטוויטר על הטיול הנהדר לפריז עם חברים ומשפחה', 'גיאוגרפיה בבקשה', 'אני רוצה לשמוע את הפלייליסט שלי לשירי רוק המובילים', 'בבקשה הוסף את יום ההולדת שלי', \"האם קיבלתי אימיילים מבת'\", 'איך מזג האוויר', 'באיזה שבוע בשנה מתחילה עונת הקיץ', 'תנגן את crazy של בריטני ספירס', 'האם אני יכול לקבל סיכום של מה שקורה עם ספרינט עכשיו', 'תראה לי את תחזית מזג האוויר לשלושת הימים הבאים', 'תגדיר את השעה', 'שלח ציוץ ל-@bobburgers הם דפקו לי את ההזמנה ונאלצתי לחכות שעה נוספת', 'הראה לי את כל התזכורות הממתינות שלי', 'תמצא לי את החברה המושלמת', 'האם תוכל לתת לי את השעה בניו דלהי', 'הכינו רשימה של צוות ההנהלה לישיבת ה-20 באוקטובר', 'בדוק את מזג האוויר הבוקר', 'האם זה ערב נעים היום', 'נגן את כל שירי האינדי פופ', 'נגן את השיר של דיוויד בואי \"מייג\\'ור טום\"', 'נגן לי תחנת רדיו למוזיקת טראנס', 'האם יורד גשם בברצלונה', 'פתח אימייל ובדוק הודעות', 'אני רוצה לשמוע את השיר הזה', 'האם השמיני בנובמבר הוא יום שני או יום אחר', 'אוליבר ישלח לי אימייל ביום חמישי ובבקשה קבע פגישה בלוח השנה לפגישה שלנו על סמך התאריך שהוא ימסור בדוא\"ל זה', 'מהו זמן ההרים הנוכחי', 'תן לי את החדשות האחרונות', 'אילו ערים נפגעו מהרעידה', 'תזכיר לי על תוכנית טלוויזיה ביום חמישי בשעה 16:15 ב-BBC Four', \"הוסף את אמא שלי ליומן לבראנץ' ביום שני\", 'חדשות 19', 'לחזור לחוות בעלי חיים', \"האם הפגישה עם ג'ולי ביום רביעי בשעה 15:00\", 'בדוק אם יש לי שעון מעורר מוגדר לבוקר', 'האם יש לי פגישה עם סטיב השבוע', 'שלח לי תזכורת להתקשר לבת שלי ביום חמישי לרגל יום השנה שלה', 'בבקשה תנגן קצת ליידי גאגא', 'פרטי אקלים עכשיו', 'בכמה אוסקרים זכה במריל סטריפ', 'אחרי השיר הזה, נגן בבקשה את השיר הזה', 'חדשות msn', 'ספר לי אם הדברים הבאים נכונים לגבי מזג האוויר', 'נגן את השירים שהורדתי לאחרונה', '\"Closer\" של Nine Inch Nails', 'נגן את האודיו האחרון שהושמע', 'הצג את האימיילים החדשים ביותר', 'ספר לי את מזג האוויר', 'האם עלי להביא בגדים חמים', \"מתי יום ההולדת של אנג'לינה\", 'האם יורד גשם ביום ההולדת שלי', 'הצג לי את הפגישות שהתקיימו בחודש שעבר', 'רשימת סיפורי רכב עדכניים', 'האם יש אירועי mma שמגיעים למרכז הזהב', 'האם נרנדרה מודי, ראש ממשלת הודו, מבקר במדינה כלשהי עכשיו', 'רשום לי את ספרי האודיו שכבר האזנתי להם', 'כמה תקליטים הוציא פרינס', 'כמה זמן חיים פילים', 'בבקשה ספר לי מהי תוצאת הבחירות שקרה היום', 'הפעל תוכנית רדיו', \"מתי נולדה אנג'לינה ג'ולי\", 'בחר תפריט רדיו', 'עדכן אותי במה שקורה כרגע בדרום מזרח אפריקה', \"סדר את השירים לפי הזמר: תחילה אריג'יט סינג, אחר כך סוקהווינדר, ואז סוניד'י\", 'הפעל את השיר הבא בעוד חמש דקות', 'השמע את השיר האחרון מהפלייליסט האהוב עליי', 'על מה ולמי שלחתי מייל בשבוע שעבר', 'הראה לי את רשימת הפגישות הממתינות', \"איפה היה הקונצרט האחרון של אירוסמית'\", 'מתי יש לי את המבחן הזה', 'מה הם כל האירועים הקרובים', 'תעיר אותי בתשע בבוקר', 'נגן את \"Jumper\" של Third Eye Blind', 'מה השעה עכשיו', 'כותרות מ-bbc world', 'תנגן הווארד סטרן', 'לאיזה יום השבוע יש לי תוכניות', 'אני רוצה לשמוע קצת ראפ בבקשה', 'צייץ לשירות הלקוחות של insight cable ותגיד להם שאני מחכה בהמתנה כבר שלושים דקות', 'האם מזג האוויר היום יהיה מעונן', 'אנא הפעל את רשימת ההשמעה של המוזיקה המובילה שלי', 'אני רוצה להתחיל את ספר האודיו החדש הזה', 'איפה זה נמצא', 'האם יש לי תזכורות שממתינות בתור שלי', 'פרסם את מספר הטלפון המשפחתי באינסטגרם', 'הזמן בוולינגטון, ניו זילנד', 'לאילו ימים מוגדרים השעונים המעוררים שלי', 'אתה יכול להגיד לי את השעה בניו יורק', 'תזכיר לי להתקשר לכל המשתתפים', 'השיר הזה בשבילי', 'לנגן קצת מוזיקת \\u200b\\u200bרוק', 'התחל לנגן 96.5 אף אם בשעה 13:00', 'האם אמא שלחה לי מיילים', 'האם האוקיינוס השקט הוא האוקיינוס הגדול בעולם', 'האם אדל מתכננת לצאת לסיבוב הופעות', 'אדל הולכת לצאת לסיבוב הופעות', 'נגן את השיר \"I Walk the Line\" של ג\\'וני קאש', \"המשך את השיר מתוך ספר האודיו של מייקל ג'קסון\", \"צור אירוע חדש לכבוד יום ההולדת של ג'ון\", 'תזמן את האירוע שלי עם אדם במקום ובזמן', 'מה השעה בהונולולו', 'מה היו החדשות מה-4 במרץ 2017', 'בת כמה אדל', \"נגן עבורי שיר של מייקל ג'קסון מתוך ספר אודיו\", 'האם עליי ללבוש שמלה או סווטשירט היום', 'התכונן, אני צריך רצועת מוזיקה', 'טוֹב בִּיוֹתֵר', 'באילו סרטים כיכב קייסי אפלק', 'ברצוני להתקשר לשירות הלקוחות של אמזון', 'זה לא אפשרי', 'סמן את היומן שלי כלא זמין היום', 'האם יש אזעקה אחרי חמש בבוקר', 'אתה יכול לשחק אל תביא לי פרחים', 'לאן ראמה נסע בדרכו האחרונה', 'איפה נמצא המפל הגדול בעולם', 'תני לי מילות מפתח על יוסיין בולט', 'נגן שיר מרשימת הטראנס שלי', 'אני רוצה להאזין ל-941 בבקשה', 'השמע מוזיקה מתחנת אמן פנדורה המועדפת עליי', 'יש לי פגישה עם קבוצת הבנק העולמי ב-28 לחודש, אנא הזכר לי', 'איזה יום בחודש יוצא יום שלישי הבא', 'מה מזג האוויר בשבוע הבא בניו יורק', 'שלום, אתה יכול לתת את פרטי הקשר של מרכז שירות מסוים', 'תוכל לספר לי על מזג האוויר שם', 'האם יש לי מיילים מהעבודה', 'אזעקת העבודה שלי מוגדרת למחר', 'נא להשמיע אדום אף אם', \"אני רוצה שתקבע פגישה עם ברייס ג'סי וקרול למחר בתשע בבוקר\", 'תציד לי את החדשות הטריות על בראד פיט', 'תגיד לי מתי האירוע מתחיל', 'לפרסם סטטוס חדש', 'מה היה נושא המייל האחרון שלי', 'לחזור על האירוע הזה', 'מה המשוב של שירות הלקוחות', 'מה עוד ברשימה', 'אחרי השיר הזה, נגן מטאליקה', 'תזכיר לעצמך שצריך להזכיר לי את הפגישה ההיא', 'מה מזג האוויר בסידני', 'תזכיר לי שיש ארוחה עם הבוס היום ב-13:00', 'מהי מטרת האירוע', 'מיילים חדשים', 'אילו אירועים יש לי למחר', 'אני רוצה לשמוע את הספר שכתבה אמו של היורה בקולומביין', 'מהי המדיניות החדשה של דונלד טראמפ בנושא הגירה', 'אנא צור תזכורת ליום שישי בשעה שש בערב', 'אני רוצה להאזין לתוכנית הבוקר האהובה עלי במכונית בדרך לעבודה בבקשה', 'איך מזג האוויר השבוע', 'האם חם היום', 'יש עדכונים מחשבון הטוויטר של דונלד טראמפ', 'מה התאריך והשעה היום', 'אנא הצג מיילים חדשים', 'האם קיבלתי אימיילים מאמזון ביומיים האחרונים', 'אני אצטרך מטרייה היום אחרי השקיעה', 'מה התוכניות שלנו לשבוע הבא', 'מצא לי את ערוץ נשיקה אף אם', 'תקרא לי את המייל מאמא כולל הנושא', 'אני צריך תזכורת לפגישה של יום שישי', 'האם חם בחוץ עכשיו אני בהוואי', 'מצא לי את כל המיילים ממגדה עם המילה \"חגים\" בכותרת', \"אני רוצה שתנגן את השיר האהוב עליי של מייקל ג'קסון\", 'אני רוצה לדעת את מזג האוויר בנאשיק', 'הצג חדשות על הגירה', 'אני צריך שעון מעורר', 'היכן נמצא פסל החירות', 'מהם השינויים האחרונים המתרחשים היום בארה\"ב', 'נפגש ביום שישי הזה', 'מהו התאריך המדויק של ימי שני', 'אני רוצה לשמוע את השיר', 'התחל לנגן מוזיקה', 'תגדיר נסיעה קבועה למכולת בכל יום ראשון', 'האם מישהו נעצר בהפגנה היום בשיקגו', 'היכן מתחילים ההרים הסלעיים', 'כמה אחוזים מהכדור הארץ מכוסים במים', 'כתבו ציוץ שאומר למייסי שהם צריכים להיסגר במקום jcpenney', 'אנא השמע את \"Yesterday\" של הביטלס', 'הגדר תזכורת לאסוף ילדים בימי חול בשלוש אחר הצהריים', 'נא עבור לאדום אף אם', 'תנאי מזג האוויר ליום המחר', 'רענן את המייל שלי', 'מה מזג האוויר היום', 'אנא אמור לי איזה יום צפוי להיות גשום לפי תחזית מזג האוויר', 'מה יהיה מזג האוויר בשיקגו היום', 'תבדוק את המייל שלי בבקשה', 'מה התאריך היום', 'אנא אמור ל-dsw שאני מחזיר נעליים פגומות', 'מהי הטמפרטורה הגבוהה ביותר של דלהי', 'תביא לי תקציר של ספר האודיו החדש ביותר שיצא', 'האם קליפורניה נמצאת בין נבדה וניו יורק', 'האם סן פרנסיסקו קרובה לברקלי', 'הדלק את הרדיו לתדר 1053', 'הגדר שעון מעורר לחמש וחצי', 'הוסף אירוע ל-30 ביולי בשם \"יום הולדת\"', \"אנא צייץ עבורי על השירות הגרוע שנתנה מסעדת הטאג'\", 'קבע פגישה עם לורה', 'השמע את \"Kiss From a Rose\"', 'חדשות בנושא ספציפי ועדכני', 'אנא הירשם לעדכונים על חדשות חמות מארה\"ב', 'המשך את ספר האודיו \"Jai Ho\"', 'הראה לי את מזג האוויר של מחר במומבאי', 'מה השעה כרגע', 'הגדר שעון מעורר למחר יום שני בשמונה בבוקר', 'אל תשכח את הפגישה עם רבקה היום ב-18:00', 'שלח לי הודעה שעה לפני האירוע הבא ביומן שלי', 'רשום והשמע את כל השירים של האמן הנתון', 'בבקשה תן לי עדכונים לגבי קריקט', 'מה השעה בוושינגטון כרגע', 'אני רוצה לשמוע להיטי ריקוד עדכניים', \"מצא את הכתובת של יריד המדינה במירטל ביץ'\", 'מתי יום ההולדת של דייל', 'הוסף תאריך ושעה בלוח השנה עם האנשים האלה', 'האם אחד מהמיילים החדשים שלי הוא מאיימי', 'מה הטרנדים בטכנולוגיה היום', 'ספר לי על לוח הזמנים', 'צור קשר עם שירות הלקוחות', 'מתי קונצרט הנשיקה', 'אילו אירועים מתוכננים לי לעשות היום', 'החדשות של היום', 'נגן את הפתיח של Sword Art', 'האם כדאי לי לנעול מגפי גשם', 'האם עלי למרוח קרם הגנה', 'מה הטמפרטורה הנוכחית', \"השעה הנוכחית בשעון גריניץ'\", 'להשמיע את האלבום האחרון בלופ', \"פרסים שמייקל ג'קסון זכה בהם\", 'כל הפגישות בין העשירי לשלושה עשר במאי', 'אני רוצה להאזין לתחנת הראפ', 'פרסם בחשבון הפייסבוק שלי שהתארסתי', 'הגדר את ההתראה שלי ליום שלישי בשש בערב', 'תנגן את ליגת העל ההודית 2017', \"האם יש לי אימיילים לקרוא מג'ייסון\", 'הראה לי את האימיילים החדשים שלי', 'מה מזג האוויר בבית', 'איזה יום בשבוע זה', 'הוסף את האירוע הזה עם האנשים האלה', 'האם לסלינה גומז יש שערורייה', 'תזכיר לי לקרוא ספר בשבוע הבא', 'הקצו את יום זה לאירוע הזה', 'באיזו שעה יש לי תור לרופא השיניים ביום שני', \"נגן את השיר הטוב ביותר של ג'ימי הנדריקס\", 'האם יש אירועים בלוח השנה שלי לשבוע זה', 'אנא הודע לי כאשר דליה משיבה לאימייל שלי מהבוקר', 'תפתח את הטוויטר של רכבות הודיות', 'האם ווילי נלסון עדיין בחיים', 'הודע לי על השעונים המעוררים שהגדרת', 'האם ניפגש למסיבה של היום', 'בדוק אם יש אימייל חדש', 'בבקשה הוסף אירוע ללוח הזמנים שלי', 'מהו הזמן באיזור האוקיינוס השקט עכשיו', 'הוסף עבודה ליומן שלי בכל יום שישי', 'הפעל רדיו ועבור לתדר תשע מאות עשרים ושבע', 'מהו ההר הגבוה ביותר', 'צייץ לסמסונג כדי ליידע אותם שמכונת הכביסה שלי בוערת', 'תודיע לי על התור שלי לרופא השיניים בשתי בצהריים', 'קבע פגישה עם אלן למחר', 'אנא הגדר התראת תזכורת לשלוש אחר הצהריים בשבת', 'אילו התראות הוגדרו בבית', 'מה השעה באוסטרליה כרגע', 'פתח את הרדיו', 'איך מזג האוויר', \"מה השעה בלוס אנג'לס\", 'האם אני צריך להוציא מעיל הלילה?', 'האם ירד שלג בסוף השבוע הזה', 'לאירוע יש מספר אנשים', 'אני צריך שתקבע את תפילת שתים עשרה בצהריים לכל יום שישי', 'מהי תחזית בחמשת הימים הבאים', 'תפעיל את שמונה מאות שמונים ותשע', 'מהי הטמפרטורה הגבוהה ביותר לשבוע זה', 'מה השינויים האחרונים שמתרחשים היום בארה\"ב', 'מהן הכותרות האחרונות ב-cnn', 'מתי המשחק הבא של הלייקרס', 'לא הולך לרדת גשם נכון', \"כמה גבוהות ג'ירפות\", \"בת כמה ג'ניפר גארנר\", 'תצייץ לשירות הלקוחות של olx שלא קיבלתי את ההזמנה שלי שמספרה אלף מאה שבעים ושש', 'הגדר תזכורת ללכת להתאמן בחדר הכושר כל יום שישי בשמונה מאות בבוקר', 'כמה עולה כדור באולינג', 'השבוע מזג האוויר יהיה שמשי או לא', 'יש לך איזשהם חדשות מקומיות', 'תעדכן את הקריקט', 'מהי התחזית הנוכחית למיין', 'מהם ההרים הגבוהים ביותר באמריקה', 'תתחיל לנגן את רשימת השירים שלי', 'אני רוצה לשמוע אחד אפס שלוש נקודה אחד', 'שלח ציוץ ל-safeway על מים בגז שלי', 'טמפרטורה רגילה', 'מי בונה את מגדל פריז', 'מייל חדש', \"האם תוכל לשלוח הזמנה לפגישה למר צ'ן ביום שני הבא בשש מאות בערב\", 'מי הולך למסיבה', 'האם ספרד חולקת את הגבול שלה עם מרוקו', 'בדוק אם יש לי מיילים חדשים בבקשה', 'עבור לרשתות החברתיות ופרסם את הסטטוס הבא', 'היי חם מדי בחוץ מה הטמפרטורה היום אחר הצהריים', 'אנא הוסף קניות בקניון בעשרים ושש במרץ בשעה שתים עשרה בצהריים', 'תפעיל את רשימת ההשמעה', 'הצג דוח של bbc על הגירות', 'בדוק אם יש כתבות חדשות אחרונות ב-msnbc', 'הראה לי את ההתראות שלי', 'הפעל את הרדיו תנגן prambors עם עוצמת קול מקסימלית כשעון מעורר בבוקר', 'לקבוע פגישה עם תום ביום שלישי בתשע בבוקר', 'הראה לי אירועים שמתרחשים כרגע', 'שלוש עשרה דקות מעכשיו תזכיר לי לנסוע לפארק', 'תתריע לי בשלוש אחר הצהריים ללכת להופעה', 'יש אימיילים חדשים', 'בבקשה המשך את המוזיקה שלי', 'האם יש לי פגישות ב-30 במרץ', 'דיווח מזג האוויר של בוסטון', 'נא לקבוע בשמיני ביולי יש קונצרט מוזיקה בשדה לבן', 'אני צריך לדעת אם יש לי תזכורות חדשות', 'תודיע לי כשטראמפ בחדשות', 'אתה יכול לנגן את השיר האחרון שלי', 'תזכיר לי ללכת לפגישה שלי מחר', 'כמה אנשים מגיעים הערב לארוחת ערב ', 'תמשיך את מלחמה ושלום', 'אתה יכול בבקשה להפעיל את npr איפה שאני נמצא', 'מה יש בלוח השנה שלי', 'תן עדכון ברגע האחרון על הודעות מייל נכנסות בבקשה', 'האם הגדרתי התראה להיום?', 'הייתי רוצה לשמוע כל קלאסיקה מלבד באך או שוברט', 'האם יש לי פגישות היום', 'רק תודיע לי על אוכלוסיית הודו', \"תנגן את משחק הבייסבול בקולג'\", \"תנגן את להיות מאושר מאת אלה פיצג'רלד\", 'תראה לי את החדשות האחרונות על הבחירות', 'תצייץ דיווח על השגיאה לסמסונג', 'סקור את ההתראות שיש לי', 'האם אצטרך סוודר אחרי העבודה?', 'מזג האוויר בפלורידה השבוע', 'מהו מזג האוויר הנוכחי בניו יורק', 'השב לכל המיילים שהתקבלו בין עשר בערב לשבע בבוקר כל יום', 'מי היה האדם האחרון ששלח לי אימייל', 'ספר לי על מיילים חדשים', 'תעצור את הפסקת ההקראה של ספר האודיו היסטורייה של רומא', 'מה החדשות הבוקר', 'המשך לקרוא לי את מובי דיק ', 'תנגן מוזיקה של האמן הנתון', 'הוסף אירוע ליומן', 'שמעתי על חדשות טובות לגבי הספק החדש שלנו, אנא בדוק את החדשות ועדכן אותי', 'תזכיר לי על הפגישה הבאה שלי כמה שעות לפני הזמן', 'הודע לי מתי הפגישות שלי יהיו ביום שני', 'הוסף תזכורת בימי חמישי באחת עשרה ושלושים לפנות בוקר וקרא לזה שיעורי ריקוד', 'גלה עבורי מה הנושא של כל ספר של אוסוולד קאמרי', 'תגיד לי את התאריך', 'התראות', 'תוסיף אירוע', 'האם קיבלתי מיילים מהאדם הזה?', 'מחר באחת עשרה בבוקר תזכיר לי את הפגישה שלי בשלוש אחר הצהריים', 'האם אתה יכול בבקשה לקבוע את תפילת שתים עשרה בצהריים לכל יום שישי', \"לפתוח ולהשמיע מוזיקה מז'אנר הג'אז\", 'קבע תזכורת לשבע בבוקר לישיבת צוות בעיר', 'מה יהיה מזג האוויר היום בלילה', 'מהן כותרות החדשות האחרונות מהמקור החדש הזה', 'מה הסיכוי לסופות רעמים היום בבילוקס', \"צייץ ב-macy's שבועיים לאחר הרכישה וכל המכפלות השתחררו\", 'תמצא מיילים על השעות מהעבודה', 'השעה', 'אילו אירועים נותרו לי היום', 'הוסף אירוע חדש ליומן שלי', 'איזה אחוז מאוכלוסיית ארה\"ב קשור לשושלת המלכותית האנגלית בדרך כלשהי', 'מה יש לי בהמתנה', 'תנגן סרט טוב בטלוויזיה שלי', \"תתחיל מהפרק האחרון שלי של הספר של ג'ו \", \"היום יום הולדתו של ג'ון\", 'מה הכותרות מהחדשות של בוב', 'נא להגדיר שעון מעורר לכל הימים', 'שיר המנגינה של הסרט ddlj', 'תנגן am', 'תגן כמה שירים קרנאטים', 'תצייץ זמן המתנה ארוך ועובדים לא מקצועיים', 'מהן המידות של קוביית רוביקס', 'תנגן את הפלייליסט של האימון שלי', 'אתה יכול בבקשה לחפש את ספק החדשות החדש שלי עבור החדשות האחרונות', 'תדליק את הרדיו בבקשה', 'מה האימייל שנשלח על ידי איש קשר זה נקרא', \"ג'יין דו\", 'נא תנגן את האמן ראשון בתור', 'יו מה השעה הנוכחית', 'תשמיע את ערוץ הרדיו האחרון', 'מידע על כדור הארץ', 'האם אוכל ארוחת צהריים ביום שישי', 'תנגן את המוזיקה האהובה עליי', 'איך לוח הזמנים שלי', 'לנגן שירי ראפ', 'בדוק אם יש אימייל חדש', 'טמפרטורה בשעה זו', 'האם צפוי לרדת גשם ביומיים הקרובים', 'האם השלג יפסיק מחר לפני שבע בבוקר', 'פרסם את התמונה שצילמתי עכשיו בטוויטר', 'מה חדש היום', 'תן לי תזכורת בשמונה בערב למשחק', 'אילו התראות הגדרתי להיום', 'האם יש אימיילים שלא נקראו על ידי אדם זה', 'אני צריך ללכת לפגישה ביום שישי בצהריים אתה יכול להזכיר לי', 'תנגן green day', 'תעיר אותי בתשע בבוקר ביום שישי', 'כמה מדינות נמצאות באיחוד האירופי', 'האם הוחלט כבר על התקציב', 'סירי מה קרה בחדשות היום', 'האם אצטרך קרם הגנה היום?', 'נגן PDR ברדיו להקת am', 'היכן נמצאים ההרים הסלעיים', 'האם אני צריך את ציוד הגשם שלי', 'אנא ספר לי את השעה הנוכחית בניו יורק', 'בבקשה תן לי את הקלט שלך כדי לדעת את לוח הזמנים שלי', 'תנגן נשים קטנות', 'האם יש יום הולדת ביוני?', 'הוסף זמן מהדורת חדשות ללוח הזמנים היומי', 'לשדר את תוכנית הבריאות מהמטבח', 'הגדר שעון מעורר לאימון כדורגל בשבת בבוקר בשמונה בבוקר', 'אילו פגישות יש לי השבוע', 'זה נראה שמשי וברור היום זה נכון', 'בבקשה הפעל את התוכנית ב-xmtune', 'באיזו שנה נפטר רובין וויליאמס', 'איך יהיה מזג האוויר בעוד שבועיים', 'יש לי אימון בריגלי מחר בשש', 'בבקשה תגיד ל-kmart שהם שלחו את הפריט הלא נכון', 'כתוב בפתק לשלם את חשבון החשמל ולהזכיר לי ביום שבת בתשע בבוקר', 'מה השעה בשעון איזור ההרים', 'מה התוכנית להערב', 'הוסף ליומן בתאריך ובשעה אלו עם האנשים האלה', 'אני צריך שתוסיף את האירוע הזה ליומן שלי', 'אילו אירועים מתרחשים היום בין שתיים ארבע אחר הצהריים', 'מצא את ה-twitter handle של טום קרוז', \"תנגן מוזיקת \\u200b\\u200bג'אז\", 'שלום אתה יכול לקרוא את המידע לתאריך זה', 'כל דבר מעניין שיקרה ביום שישי הבא', 'אני רוצה לשמוע קצת רדיו פופ בבקשה', 'כל אימייל חדש מהעבודה', 'תראה לי את התאריך של היום', 'כמה רחוקה פלורידה מצפון קרולינה', 'תודיע \\u200b\\u200bלי על חדשות בינלאומיות', 'אילו אזעקות מוגדרות כעת', 'מהו התאריך של היום', \"האם קיבלתי אימיילים על יום ההולדת של ג'ארד\", 'קבע אירוע חג ההודיה ליום שישי', 'מה העדכון האחרון על איסור הנסיעה של טראמפ', 'בדרך לחדר כושר אנא פרסם בפייסבוק', 'תכוון את הנושא הטוב ביותר', 'שש בבוקר', \"נא לנגן את האלבום של מייקל ג'קסון\", 'תן לי את מזג האוויר השבועי הקרוב אליי', 'יוֹם רִאשׁוֹן', 'תודיע לי מתי אני בחוץ שלושה ימים מהאירוע הזה בלוח השנה שלי', 'האם יש לי פגישות מחר', 'האם יש לי פגישות מחר אחר הצהריים?', 'אני רוצה להמשיך את ספר האודיו שלי', 'לאיזה יום מתוכנן האירוע הזה', 'תנגן את התקליטור zeppelin houses of the holy', 'תפעיל את god of small things', \"אנא הוסף את הפגישה עם גב' בולנד ביום רביעי 8:00 בבוקר ללוח השנה שלי\", 'הוסף את התור שלי לרופא לחמישה עשר', 'בבקשה הפעל את הרדיו', 'האם יש התראות שהוגדרו עכשיו', 'מה חדש', 'אנא הפעל את רשימת ההשמעה של הפופ שלי', 'ספר לי את ההר הגבוה בעולם', 'תנגן מוזיקת \\u200b\\u200bהיפ הופ', \"היי ג'ון שלח לי איזשהו אימייל לאחרונה\", 'תשמיע לי שיר אופטימי דרך הרמקולים שלך', 'האם קיבלתי מיילים משרה?', 'מהן תחנות הרדיו של פלורידה', 'יש להשיב לכל הודעות האימייל שהתקבלו בין עשר בערב לתשע בבוקר', 'הראה לי את הפגישות של היום', 'מזג האוויר בבריסטול v. t.', 'אימייל חיפוש הודעות חדשות מ', 'האם יש לי משימות לא גמורות', 'האם אני יכול ללבוש מכנסיים קצרים היום?', 'האם קיבלתי מיילים מאבי?', 'אני רוצה לדעת את החדשות ממיאמי הראלד', 'אנחנו לא מצפים לגשם מחר נכון', \"קבע תזכורת לפגישה מחר עם ג'יימס\", \"מה קרה אתמול על סמוראי ג'ק\", 'צייץ ב-British Airways שהטיסה האחרונה שלי משיקגו ללונדון התעכבה', 'מגיע שלג הלילה', 'היי מה התאריך של היום', 'תפעיל נטפליקס ב-PS Four שלי', 'מה האחרון באירועים האחרונים המתרחשים עכשיו', 'צייץ @applebee העוף שלי היה נא #הרעלת מזון', 'בדוק עבורי מיילים חדשים שהתקבלו מפיטר', 'לחדש את ההשמעה', 'השבוע הראשון של מפגשי מרץ', 'אנא הוסף אירוע בלוח השנה', 'תשמיע את השיר הזה', 'הראה לי את עדכון החדשות האחרון ב-bbc', 'חדשות עולמיות', 'מה אני צריך לעשות אחרי ארוחת הצהריים היום', 'הגדר הודעה לעדכון חדשות בשעה שש', 'האם עלי להשאיר את החלונות שלי פתוחים הלילה?', 'האם יש אימיילים שלא נקראו ב-gmail', 'ספר לי מה זמן הווה במלזיה', 'מה יש באותו תאריך', 'מה התזכורות שלי היום', 'כמה גבוה הר roraima', 'שלח תלונה לטוויטר @', 'נא להשמיע לי את רשימת ההשמעה של המוזיקה הלטינית שלי', 'איך המידע על מזג האוויר', 'חוֹף', 'מהן החדשות המקומיות האחרונות לאזור גרינוויל', 'שלח לי את כל המידע על טיוטת יוסטון טקסנס בבקשה', \"ג'קי צ'אן נשוי\", 'הודע לי על החדשות על משחק הודו פקיסטן', 'מתי נולד פרנק סינטרה', 'למצוא איזה אבן', 'הראה לי את התאריך הנוכחי היום', 'אם יש מקום פנוי בבקשה קבע לי תזכורת להתקשר לאחותי לגבי קרן מכללה בין הפגישות שלי הערב', 'כל דואר שסומן כחשוב', 'זמן הזמן הוא מסיבת החג במשרד', 'לנגן רדיו עם מוזיקת \\u200b\\u200bרוק', 'הודע לי על כל הפגישות מחר', 'ספר לי את ההודעה האחרונה', 'אלקסה האם יש לי אימיילים חדשים', 'האם קיבלתי אימיילים השבוע?', 'אני רוצה שתקדם את האודיו קדימה ואז תמשיך', 'תזכיר לי יומיים לפני', 'תנגן imagine dragons', 'במהלך השעתיים האחרונות קיבלתי מיילים חדשים', 'להתקשר לביל כדי לשנות את מועד הפגישה שלנו', 'הודע לי אם אקבל מייל חדש היום', 'תנגן לי קצת היפ הופ', 'מהו השיא העולמי לשיער הארוך ביותר', 'האם אתה יכול לחזור על האירוע הזה', 'פתח התראה וצור התראה לעשר בבוקר', 'תנגן את האלבום של Bjork ששמעתי הכי פחות', 'יהיה מגניב אני עדיין עושה ראפ', 'תנגן one thousand nine hundred and ninety nine של פרינס', 'לנגן שיר ראפ', 'אני צריך שתמצא ערוצים טובים להאזין להם', 'מצא לי רדיו דיבור חוזר', 'לא שמעתי אף  king crimson  בבקשה הוסף את שבעת האלבומים הראשונים שלהם', 'אתה יכול למצוא את תחנת הרדיו ב-spotify שהאזנתי לה אתמול', 'אתה יכול לבדוק את השעה', 'הפעל רדיו ועבור לתדר בתשע מאות וארבעים ושלוש', 'לנגן שירים חדשים של  barenaked ladies', 'להגדיר את צליל ההתראה', 'כמה פעמים בן שלח לי אימייל', 'האם אצטרך ללבוש מעיל היום אחר הצהריים', 'זכור שאני צריך להגיש את המטלה שלי במתמטיקה הערב באחת עשרה', 'צייץ תלונה לשירות הצרכנים aldi', 'איך יהיה לי היום', 'נא לכוון לתשע מאות שבעים וחמש fm', 'באילו פרסים זכתה אריקה גרב אמש', 'קבע תזכורת לשתיים עשרה לארוחת צהריים', 'האם מרי הגיבה לי למייל כבר?', 'מה הטיימר ביפן', 'אם יש חדשות על פוליטיקה מה הם', 'כמה פגישות יש לי מחר', 'האם יורד גשם', 'האם אמה סטון רווקה', 'בדוק את מזג האוויר של העיר אלבמה', 'תנגן לי את המוזיקה של מדונה', 'תנגן over the rainbow', 'אני רוצה לשמוע את שירי הקאנטרי הטובים ביותר של שנות התשעים', 'רשימת אלבומים של ריהאנה', 'תראה לי את התזכורות', 'האם זה יום שבת השני בשתים עשרה', 'מהו התאריך הנוכחי בהודו', 'לנגן מוזיקה מ-v.t. v', \"רקע משפחתי של מייקל ג'קסון\", 'תזכורות', 'אני רוצה לשמוע כמה מנגינות', 'מצא לי את כל המוזיקה שהיא מוזיקה קלאסית', 'תתכוונן ל-npr', 'תשים שיר של סלין דיון', 'תשמיע מוזיקה מרשימת השמעה של מסיבה', \"ספר לי על משחק devil's hockey הבא ביום שישי\", 'האם עלי ללבוש שרוול קצר', 'על מה קיבלתי מייל השבוע', 'איזשהם סימנים לגשם', 'איפה ליון בעולם', 'התראה לעשר בבוקר', 'איזה תאריך הוא יום שישי השלישי של החודש', 'האם יש לי אימיילים שלא נקראו מכריס תומפסון', 'בבקשה הוסף מסיבה ב-chucky cheese ללוח השנה', 'מה הדבר האחרון ב-cnn', 'שלח לי הודעה על פגישה ביום רביעי תשע בבוקר', 'אולי מה מזג האוויר הנוכחי', 'האם הולך לרדת גשם בימים הקרובים בטוסון', 'לסמן את ינואר הראשון כאירוע שנה חדשה עבור כל יום', 'ספר לי מתי אני מקבל הודעות דוא\"ל חדשות מהמנהל לאורי', 'אני רוצה לשמוע את רשימת ההשמעה של הראפ שלי', 'באיזו שעה מתחילה הפגישה הבאה שלי', 'cnn', 'האם אני אמורה לקיים פגישה כלשהי היום', 'אלכסה תנגני מוזיקה הקשורה למוזיקה שהאזנתי לה הבוקר', 'מה השעה באזור הזמן המזרחי', 'תפעיל תוכנית חדשות', 'לנגן מוזיקת \\u200b\\u200bפופ', 'איך מזג האוויר ביוטה כרגע', \"האם יש מייל חדש מג'יי בתיבת הדואר הנכנס\", 'באילו אירועים ישתתפו חברי הפייסבוק שלי', 'הגדירו תזכורת לארוחת ערב בשש בערב ביום רביעי בגריל בונפיש', 'מי הוא מזכיר האוצר הנוכחי של ארה\"ב', 'דונלד טראמפ', 'לפתוח מיילים חדשים', 'האם מזג האוויר יהיה גרוע ביום ראשון', 'האם יש אירוע מסומן בספטמבר עשרים ושתיים', 'אנא הודע לי על החדשות העסקיות האחרונות', 'אילו הרי געש פעילים כרגע', 'לפייסבוק כתוב מנהל שקודם לאחרונה עבור הילסטד', 'ספר לי על החדשות', 'לנגן מוזיקה מאת קורן', 'לנגן שיר של  black eyed peas', 'תמשיך inkheart', 'מה השעה ביחס לניו יורק', 'תפעיל את שם תוכנית הרדיו', 'האם זה חם מדי ללבוש את סוודר הצמר שלי היום', 'פתח את נגן המדיה והשמע להיטים מובילים', 'ממשיכים מאיפה שהפסקנו בהתבדלות', 'יום שני חופשי אחרי הצהריים', 'תקרא את שמות האנשים ששלחו לי מייל היום', 'תתחיל לנגן fm109', 'הוסף אימונים ליומן בימים שני עד שישי מחמש עד שש בבוקר', 'מהו הנהר הארוך ביותר בספרד', 'אתה יכול בבקשה להגיד לי את השעה', 'הגיל של בראד פיט', 'פגישות בסוף השבוע', 'אולי מהו המספר הכולל של האוקיינוסים בעולם', 'בדוק אימייל לגבי הנושא', 'תצייץ שהשירות בדיינר של מו הוא נורא', 'בבקשה תעבור לתוכנית אירוח הספורט המקומית ברדיו', 'סטטוס ההתראה', 'תעקוב אחר מחאת הסלעים העומדים', 'תן לי את הזמן', 'הגדר שעון מעורר לעשירי בנובמבר עבור השעון', 'האם חם ולח בביאו היום', 'הוסף את יום ההולדת של מייק בשלישי במרץ ליומן שלי', 'תזכיר לי את יום ההולדת של שרה שלושה ימים לפני הזמן', 'מהו גובהו של מונאלי טאקור', 'מה השעה הנוכחית בבוסטון', 'אולי בבקשה תצייץ תלונה על חנות שאני מבקר בה', 'לנגן שירים אינסטרומנטליים רכים', 'כוון את השעון המעורר שלי לשמונה בבוקר', 'לחפש באזור', 'אל תיתן לי לשכוח שיש לי ועידת הורים ביום שני בארבע מאות אחר הצהריים', 'לנגן קצת מוזיקת \\u200b\\u200bפופ', 'מה מזג האוויר בשבוע הבא בפסדינה ', 'איך יהיה מזג האוויר היום אחר הצהריים', 'תזכיר לי במקום', 'cricket live scorecards', 'חמישים אלף מאתיים ושבע עשרה', 'האם אתה יכול להוסיף את האירוע הזה עם karl', 'כמה גדול המגדל של לונדון', 'תספר על החדשות האחרונות בעולם', 'מצא לי את הידיעה האחרונה על הפוליטיקה שלנו', 'תזכיר לי על הפגישה העסקית שלי בשלוש וארבעים וחמש אחר הצהריים', 'כמה חם היום', 'תצייץ תלונה', 'ספר לי מתי טראמפ נולד', 'הקפד להזכיר לי לשלם את החשבונות שלי מחר בבוקר', 'איפה המקום', 'מה השעה בקליבלנד אוהיו', 'תזרים את כל השירים מהרוק', 'אני צריך תזכורת להתקשר לאמא שלי בשלוש אחר הצהריים', 'הגדר את המעורר לשעה חמש בבוקר', 'הגדר את השעון המעורר לשש בבוקר מחר', 'האם אני צריך ללבוש מעיל', 'תנגן פלייליסט postal service', 'האם אתה חושב שזה יהיה בסדר ללבוש מכנסיים קצרים השבוע?', 'לעשות התראה ליום ההולדת שלי', \"איפה לוס אנג'לס\", 'מהן חדשות הכותרות האחרונות ממקור חדשות זה', 'תחדש את ההשמעה של zanes se chronicles', 'הגדר התראה לשבע וחצי בבוקר', 'צייץ לשירות לקוחות של freedom pop שאני לא מרוצה', 'התחל מוזיקה ברשימת השמעה', 'מה אומר השעון', \"נגן כמה שירים של מייקל ג'קסון\", \"כמה הודעות טקסט שלח לי ג'ון סמית' ב-12 החודשים האחרונים\", 'אני רוצה לשמוע את החדשות ב-tmz', 'האם קיבלתי מייל לגבי הצעת עבודה?', 'אפשר לבקש ממך להוסיף אירוע חדש ליומן שלי', 'ספר לי על הפגישות לאורך תקופה', 'אני רוצה להקשיב להופעה של בוב וטום', 'מי הולך לפגישה שלי בתשע בבוקר', 'סקירת התראות מוגדרות', \"בן כמה ג'ים קארי\", 'האם יש אימיילים מבית הספר על הכנס שלי', 'תוכל בבקשה להדליק את רדיו ה-am', 'מצא לי זמן לפגישה עם אלן מחר', 'צייץ לשירות לקוחות שהסחורה באיכות נמוכה', 'בבקשה תן את הגובה של לינדזי לוהן', 'פתח פנדורה והפעל רדיו הוייזר', 'תנגן את העשירייה הראשונה', 'אני רוצה לשמוע גלישה בארה\"ב', 'איך יהיה מזג האוויר מחר', 'איך החדשות בבריטניה', 'לנגן את scarlet letter', 'מהו ההר הגבוה ביותר באיטליה', 'כלכלה', 'שלח הודעה בפייסבוק לבקשות חברים ממתינות שרשימת החברים שלי מלאה ואני אצור פרופיל חדש בקרוב', 'אילו כתבות חדשות היו ב-cnn היום', 'האם אני צריך ללבוש מעיל מחר כשאני יוצא לעבודה?', \"תנגן עבורי מוזיקת \\u200b\\u200bג'אז\", 'מה מזג האוויר היום', 'האם יש לי התראות מוגדרות?', 'האם אדי מרפי עדיין חי', 'מי מוביל כעת בבחירות לפרלמנט', 'האם תוכל בבקשה לבדוק אם כיוונתי את השעון המעורר שלי למחר בבוקר', 'כמה ימים יש בחודש זה', 'צייץ @insightbb הכבל יצא שוב בשכונת הטרסה הגבוהה', 'ספר לי על פיורדים', \"באיזו שעה אני אמור לאסוף את ג'ון שוב\", 'איפה המסיבה תתחיל', 'נגן ספר אודיו מאיפה שהפסקנו', 'נא לנגן את השיר הבא', 'להפעיל תחנת רדיו אקראית', 'איזשהם חדשות מפתיעות', 'מה השעה באזור הזמן של האוקיינוס השקט ברגע זה ממש', 'להתכוונן לבוב וטום', 'אתה יכול להגיד לי את התאריך היום?', 'לנגן מוזיקה קלאסית ישנה', 'תיצור פגישה עם חבר', 'לנגן שירים של סופי', 'האם יש לי פגישות למחר?', 'מיילים נוכחיים', 'אלכסה מה קורה היום', 'הפעל פלייליסט שמח הבא', 'קבע תזכורת לפגישה מחר בתשע בבוקר', 'תגיד לי מתי התור הבא שלי לרופא', 'לכמה הודעות דוא\"ל אחרונות יש את השולח הזה או שורת הנושא הזו', 'היום להביא מטריה', 'שולחן צרכנים', 'הוסף מסיבת חגיגת נישואים ביום ראשון הזה', 'תראה לי רשימת מזג אוויר למחר', 'אתה יכול להראות לי רשימה של הפגישה שלי', 'אתה יכול להגדיר התראה לשבע בבוקר', 'מה האחרון', 'מהי בירת צרפת', 'אילו מיילים חדשים התקבלו', 'האם מזג האוויר קר', 'לשחק פויק', 'הפעל שירים שנוספו לאחרונה', 'הפעל את רשימת ההשמעה של מוזיקת \\u200b\\u200bהרוק שלי', 'להתחיל את המוזיקה האהובה עליי', 'מה השעה באזור הזמן ההררי', 'מה השעה בהונג קונג', 'ספר לי מה נציגי הקונגרס שלי מצביעים על נושאי בריאות הרבייה', 'אילו מדינות גובלות בניו המפשייר', 'מה השעה בניו יורק סיטי עכשיו', 'באיזה יום בשבוע יום ההולדת שלי השנה', \"האם יש לי מיילים מג'ו\", 'תן לי את עדכון החדשות מ-bbc', 'תן לי הודעה של שלושה ימים לפני הבחינה בכימיה בבקשה', 'מהו יום ההולדת של אדם גילכריסט', 'התחל רשימת השמעה חדשה של ליידי גאגא', 'כמה אני עסוק השבוע', 'תעיר אותי בשבע בבוקר', 'הגדר לוח שנה לתאריך ושעה עם אדם זה', 'תפעיל את הפלייליסט האלקטרוני שלי', 'רשום את הסלבריטאים שהיו בארצי בחמש השנים האחרונות', 'היי תנגן crazy מאת בריטני ספירס', 'הַלבָּשָׁה', 'בבקשה תעדכן אותי על מזג האוויר של השבוע', 'פרסם סטטוס בחשבון הטוויטר שלי', 'google home', 'אני הולך לקונצרט המשוטים בפריז בעשרים וארבע במרץ', 'תזכיר לי את הפגישה שלי בחמישה עשר', 'צייץ שירות לקוחות גוגל שהמוצרים שלהם נחותים', 'השיר הזה let in burn', 'פתח את Spotify ותנגן personal channel', 'באילו שעות הן הפגישות של היום', 'הודע לי מתי האירוע הבא יתרחש מהיומן שלי ושלח לי הודעה', 'בבקשה תגיד לי את השעה', 'תעיר אותי בארבע לפנות בוקר', 'בראשון למרץ הוא יום ההולדת של סוזן נכון', 'הוסף את חג המולד ליומן', 'איזה התראות יש לי', 'מה בלוח הזמנים שלי בשבוע הבא', 'תיצור אירוע עם מיקום בית ועם אירוע ערב ראש השנה', 'הגדר שעון מעורר לשמונה בכל יום חול', 'מה השווי הנקי של בוב סקרוט', 'מה השעה עכשיו ב-g.m.t', 'תנגן שירים של sia', 'האם זה כבר העשרים ותשע', 'איזה יום הוא העשרים במרץ', 'האם אני צריך מכנסיים', 'האם אני הולך להביא מטריה מאוחר יותר?', 'האם אני צריך להוציא את המטריה היום?', 'אני צריך לכתוב ביקורת גרועה עבור yahoo', 'הוסף את החתונה של מונאס אפילו ללוח השנה שלי ליום שלישי', 'איפה האוקיינוס \\u200b\\u200bהארקטי', 'פגישה עם אהובתי למחרת', 'אנא עדכן אותי לגבי התרחיש של היום', 'הוספתי כתובת דוא\"ל חדשה עבור ג\\'ו אתמול, תוכל למצוא אותה בבקשה', 'אלכסה תגידי לי את האוקיינוס \\u200b\\u200bהגדול בעולם', 'לשלוח תלונה לשירות הלקוחות של חברה זו', 'מקם את חמשת השירים המושמעים ביותר ברשימת ההשמעה שלי בתור שמתחיל במושמעים ביותר', 'הפעל מחדש את ספר השמע', \"מה קורה בקיימברידג'\", 'לנגן a rock', 'הוסף ליומן שלי שיחה יומית בחמש אחר הצהריים', \"האם יש לי אימיילים מג'ון בשבוע האחרון?\", 'תזכיר לי על פגישת המשרד מחר בשבע', 'אתה יכול להגדיר לי תזכורת ללכת לאימון הכדורסל של הילד שלי בכל יום שישי בערב', 'סיפור קורות חיים', 'הוסף שיחה שבועית אחת אחר הצהריים ליומן', 'האם עלי להביא איתי מטריה עכשיו', 'איפה נולדה קלי קלרקסון', 'לאיזו מדינה יש גבול להודו', 'תנגן את major tom מאת דיוויד בואי', 'האם snap הפך לציבורי כבר', 'אולי, אני צריך להעלות את ארוחת הצהריים של שבוע הבא ללוח השנה', 'אנא פתח את אפליקציית המוזיקה שלי ונגן games של disturbed', 'התחל ספר שמע שני המגדלים', 'האם אקבל מטריה מחר?', 'מידע גיאוגרפי', 'הוסף את תאריך ארוחת הערב של מחר ללוח השנה', 'הגדר שעון מעורר לשעתיים מהיום', 'אלכסה כמה גדול היקום בקילומטרים', 'מתי השעון המעורר שלי מוגדר', 'אתה יכול לקרוא לי את המיילים האחרונים שלי', 'מהי הטמפרטורה של היום', 'היי גוגל האם תוכל לשמור את יום שני הבא בלילה לדייט שלי עם קרל', 'על מה החדשות באפריקה', 'אוכל יינתן בתערוכה', 'הייתי רוצה שתצייץ עבורי בפורום תלונות צרכנים בהודו בנוגע לאיחור באספקה \\u200b\\u200bשל בלון גז', 'תגיש תלונה עבור aol', \"איפה נולד קית' אורבן\", 'התחל את רשימת שירי העם שלי מיד אחרי השיר הזה', 'איזה יום הוא העשרים החודש', 'באיזה יום בשבוע חל יום האהבה', 'אתה יכול לנגן שיר של aerosmith', 'אני רוצה תזכורת שחוזרת על עצמה כל שבוע', 'האם יש לי פגישה מחר', 'תראה לי את מזג האוויר הכי גבוה השבוע', 'תזכיר לי אם יקרה משהו אחר', 'מה השעה בניו יורק', 'בגלל מה מריל סטריפ מפורסם', 'איך משיגים', 'יש לי פתיחות בלוח הזמנים שלי למחר', 'האם אתה יכול למצוא את תוכנית Preacher Joe ברדיו הגוספל', 'האם סביר שיהיה גשם בתחזית היום', 'אמור לי את שעת ההתראה שהגדרת', 'כמה שלג ירד במיין מאז אתמול', 'אני צריך לקבוע פגישה עם אליסון ביום שני בעשר בבוקר', 'שים התראה בלוח השנה שלי כל שבוע', '#שֵׁם?', 'מה האקלים כאן היום', 'בבקשה תנגן בריטני ספירס', 'המשך את נגן ספרי שמע', 'תזכיר לי להוציא את האשפה', 'כמה דקות עברו מארבע אחר הצהריים', 'נא להעלות את המאמר בניו יורק טיימס', 'נגן את תיקיית bad religion', 'אשר שהגדרתי שעון מעורר לשש בבוקר', 'נגן npr ברדיו ברכב', 'מי עומד לנצח בבחירות הבאות בצרפת', 'האם אני הולך לשחות או לעבוד היום?', 'האם יש לי פגישות בסוף השבוע הזה?', 'לאיזו שעה מוגדרת ההתראה', 'היי הפעל לי רשימת השמעה של שירים של רהמן שיצאו בשנה הנוכחית', 'כמה מיילים יש לי', \"נגן מוזיקה של ג'ק ג'ונסון ברשימת השמעה\", \"כמה ילדים יש לג'קי צ'אן\", 'אילו אירועים מתוכננים השבוע', 'תאריך לידה של כוכב הקולנוע קיאנו ריבס', 'האם אתה מכיר את השחקן סוריה', 'מתי ההתראה הבאה', 'ספר לי על אגרה', 'הגדר את ההתראה לשבע בבוקר לעבודה', 'הפעל מחדש את americam gods', 'הודע לי כשיש חדשות בצינור דקוטה', 'איך מזג האוויר באיווה', 'נא לנגן כמה שירים לילדים', 'הודע לי על ימי הולדת של כל החברים שלי בפייסבוק', 'הקפד להזכיר על הפגישה מחר אחר הצהריים', 'תפעיל \"אנקת גבהים\" מאיפה שהפסקנו', 'תזכיר לי את הפגישה שלי מחר עשר בבוקר', 'ספר לי על כל תזכורת ממתינה', 'איך מזג האוויר בניו יורק סיטי', 'תזכיר לי שלושים דקות מוקדם שיש לי ועידה טלפונית ביום שלישי', 'בן כמה טום קרוז', 'אוקיי גוגל אני צריך פגישה עם מנהל הכספים ביום חמישי', 'אילו תזכורות יש לי כרגע', 'כוון רדיו כלשהו', 'בדוק אם יש התראה כלשהי אחרי חמש בבוקר', 'צייץ ל-comcast ותגיד להם שהשירות שלהם מושבת שוב', 'האם בחוץ יורד גשם', 'תזכיר לי ביום שני בשעה שתיים בצהריים לקיים פגישה עם אנדרו', 'ספר לי את הסיפורים המובילים בחדשות', 'הזן ללוח שנה בשבת הבאה בעשר בבוקר בבקשה', 'הוסף אירוע בכל יום שישי השני של החודש', 'התחל שיר ראשון', 'מי היא השחקנית האמריקאית הפופולרית ביותר', 'הייתי רוצה לשמוע שירי עם מאלף תשע מאות שישים ושמונה', 'ספר לי על ליסה אן', 'להשיב לאימייל הזה', 'ספר לי על העדכונים האחרונים של ניו יורק', 'האם ארוחת יום ההולדת נמצאת בלוח השנה ליום שישי', 'צייץ ל-comcast ותגיד להם שהשירות שלהם שוב מושבת', 'הראה לי את הרישומים של sachin tendulkar', 'הוסף ריצה ליומן שלי ליום חמישי', 'מה זה one night with paris', 'האם יש לי התראות לפני שש בבוקר', 'ספר לי את החדשות הטכנולוגיות האחרונות', 'נגן busdriver', 'מה הדבר הבא בלוח השנה שלי', 'כמה זמן נשאר עד שיגיע מות החום של היקום', 'הוסף ארוחת צהריים עם לורה ליום חמישי באחת', 'תגדיר ב-22 למרץ משחק בדמינטון בכיכר מריטה', 'סירי איך מגיבה התקשורת לקשריו הפוטנציאליים של טראמפ עם רוסיה', 'מה קורה לי היום', 'צייץ לחשבון שירות הלקוחות של starbucks', 'אני רוצה להאזין לרוק קלאסי', 'מתי מגיעה המשכנתא שלי', 'כל אימייל בשעה האחרונה', 'תזכיר לי יום לפני שהמכונית שלי אמורה להגיע ', 'אנא פתח את אפליקציית הטוויטר שלי ומצא את מדור התלונות עבור olive garden', 'אנא מצא את התחזית של היום', 'האם יש לי פגישה ביום שישי', 'הוסף אירוע חדש למחר בחמש אחר הצהריים היכרות עם שרה בחדר הכושר', 'אנא קבע פגישה עם ri בעשר בבוקר בראשון באפריל', \"תנגן את רשימת ההשמעה של הג'אז שלי\", \"אני רוצה שזה יקבע לי תור לרופא וכו'\", 'מזג אוויר כמו', 'כמה התראות מוגדרות כרגע', 'קח אותי לעוד מוזיקה של האמן הזה', 'הוסף פגישה מחר עם פמלה בשש', 'האם אתה יכול למצוא את השיר החדש ביותר של mgk', 'צייץ לי את התלונה על בורות בכביש', 'אני לא רוצה לשאת מטריה האם יהיה לנו גשם היום', 'הראה לי את התזכורות שלי', 'באיזה אזור יש לפחות אלף קילומטרים של מדבר פתוח', 'הפעל את רשימת ההשמעה של מוזיקת \\u200b\\u200bהריקודים שלי', 'מה עלינו לעשות כפרוגרסיבים לגבי הנשיא', 'הגדר שעון מעורר למחר בצהריים', 'אתה צריך לדעת על', 'הוא קולומבו על החוף של סרי לנקה', 'מה לוח הזמנים ביום שני הבא', 'אנא תדליק את הרדיו על תשע מאות שבעים ושלוש FM', 'נגן שיר של אמן frubs', 'מה קורה עם טראמפ', 'באיזה יום השנה יש את זמן האור הארוך ביותר', 'איך החדשות האחרונות', 'האם היומן שלי ריק', 'אילו אירועים תכננתי לשבועיים הקרובים', 'תן לי לראות את האימיילים האחרונים שלי', 'נא לרשום ליומן שלי פגישה עם ד\"ר ברנדן ליום שישי הזה בשעה שש בערב', 'שלח ציוץ לרשת הלאומית', 'מהו מזג האוויר הנוכחי במיאמי', 'מה יש בלוח הזמנים שלי השבוע', 'תודיע לי אם יש מפגש עירוני ביום שני', 'תשמיע את המלודיה מתוך ספר השמע', 'נא לכוון את רדיו ה-XM שלי ל-cnn', 'האם אני צריך קרם הגנה להיום?', 'מצא מאמרים חדשים על טראמפ אבל לא מ-Fox News', 'הגדר את ההתראה לשישי ביוני 2017 בחמש בבוקר', 'האם יש לי משהו מתוכנן היום בין שלוש לארבע אחר הצהריים', 'הוסף אירוע ללוח השנה שלי בגוגל עבור התאריך ה-22 במרץ בבקשה', 'לך לסיריוס ותנגן את ערוץ ההיפ הופ', 'איזו מדינה משתמשת הכי הרבה בפחם', \"ספר לי על מייקל ג'קסון\", 'מה השעה בקליפורניה', 'כמה תזכורות יש למחר', 'מהי תחזית מזג האוויר של סוף השבוע', 'תראה לי תזכורות למחר', 'כל מיילים אחרונים', 'הפעל את רשימת ההשמעה של הבוקר שלי', 'הפעל את רשימת ההשמעה שלי Shazam באפליקציית Spotify', 'חֲדָשׁוֹת', 'כתוב הודעה ל-payoneer ותגיד להם שהכרטיס שלי לא עובד', 'תשיג לי תחנת רדיו שמשמיעה מוזיקה קלאסית', 'כמה כפות יש בכוס', 'תציג את מזג האוויר לשבוע', 'כמה קלידים יש בפסנתר', 'אני חושב שדין אובידאללה ברדיו עכשיו', 'מה קורה לי ביום שישי הבא', 'מה השעה בדובאי', 'תזכיר לי את התור שלי לרופא השיניים בעוד שעתיים', 'סירי את יכולה לנגן את המוזיקה האהובה עליי', 'תייגו את הציוץ שלי לספק', 'מזג האוויר של היום מדהים', 'אני רוצה פרטים נוספים על מסיבת התה השנתית', 'מה שקורה בעולם כרגע', 'מה השעה בדה מוין', 'האם יש לי תזכורות ממתינות?', 'הגדר את האירוע על ריפיט', 'ליצור אירוע לוח שנה', \"בדוק מיילים חדשים מג'ים\", 'נגן אלבומים חדשים', 'לנגן שירי היפ הופ', 'הגדר שעון מעורר לשמונה בבוקר', 'האם הגיעו אליי מיילים בחמש השעות האחרונות', 'מה השעה בשוויץ', 'לכתוב תלונה ל-walmart', 'תזכיר לי אחרי חודש', 'מה היה תוכן ההודעה שנשלחה על ידי מאט', 'יום השנה של הבת שלי הוא יום חמישי שלח לי תזכורת', 'מה יהיה מזג האוויר היום', 'אני פשוט אוהב את אדל בבקשה תנגן את השירים המושמעים ביותר שלי שלה אחרי הרצועה הזו', 'ספר לי על מזג האוויר ביוטה', 'את מי אני פוגש בעבודה מחר', 'יש לי מייל חדש', 'הגדר אירוע לוח שנה שיחזור על עצמו מדי שנה בתאריך זה', \"נגן את כל השירים מהז'אנר הכחול\", 'אנא הפעל את אחת מהתחנות המתוכנתות מראש', 'אנא בדוק אימייל ממוסד הנישואין', 'פתח את אפליקציית ניו יורק טיימס', 'מהן כותרות החדשות המובילות כרגע', 'קבע פגישה דו-שבועית קבועה בימי שישי שלוש אחר הצהריים', 'חדש את ספר השמע \"שני המגדלים\"', 'תנגן איירין מ-tobymac', 'אני יכול לדעת מה השעה עכשיו', 'יש לי פגישת מכירות ביום חמישי בשעה שבע בבוקר אנא הודע לי והוסף ליומן', 'מוזיקה בבקשה', 'תזכיר לי מחר בבוקר את לוחות הזמנים שלי ליום שלישי', 'בבקשה תמצא לי מוזיקה', 'נגן מחדש את god of small things', 'מה החדשות האחרונות של BBC', 'נגן בשבילי את תוכנית אמריקן איידול', \"אני רוצה לשמוע שיר של ג'סטין ביבר\", 'מה השעה בשיקגו עכשיו', 'תרכוש את החדשות האחרונות', 'מה קורה בעולם בימים אלה', 'העשירי במרץ נוחת באיזה יום בשבוע', 'האם יש חדשות מרגשות מ-cnn', 'הפעל את רשימת ההשמעה של היוגה שלי', 'תזכיר לי על מפגש שש עשרה במרץ', 'תנגן 2112 של ראש', 'שים בלוח שנה מתי הפגישה הפיננסית שלי ביום שישי', 'מהו המספר הכולל של האיים בארצות הברית', 'ספר לי מתי האירוע מתרחש', 'האם עליי לתכנן את דרכי לצאת מהבית?', 'בשבוע שלאחר מכן חזור על אירוע זה בעשר בבוקר כל יום', 'מהן הכותרות בניו יורק טיימס', 'הגדר את השעון המעורר לשמונה בבוקר מחר', 'היי תוודא שאני אלך למסיבת יום ההולדת של שרה ב-12', 'תוכל לספר לי על ההתראות שהגדרתי', \"אני רוצה לשמוע ג'אז\", 'מה התאריך', 'קבע הודעה לפגישה שלי ב-12 בצהריים חמש עשרה דקות לפני כן', 'תנגן skyfall אחר כך', 'הגדר תזכורת למחר לפגישה עם אלן', 'תשחק זקן', 'ספר לי מי ינצח בבחירות הבאות לנשיאות', 'פתח את לוח השנה ועשה תזכורת לאירוע', 'איך מזג האוויר השבוע', 'אנא ספר לי על התראות קרובות', 'התחל את הרדיו בתוכנית y', 'מה השעה', 'מהי עיר הבירה של קולרדו', 'מהי כמות האוכלוסייה פר מייל באסיה', 'אתה יכול לצייץ lif על התרסקות האפליקציה שלהם', 'היכן נמצאים הסלעים', 'היום הוא', 'נא לנגן מוזיקת \\u200b\\u200bראפ', 'חדשות אחרונות של קונרו', 'אני רוצה לראות כל אחת מהתזכורות הממתינות שלי', 'תנגן רדיו', 'איזה חדשות יש לך היום', 'האם תוכל להזין אירוע ליומן שלי', 'היי תדליק את הרדיו', 'מהן החדשות האחרונות לגבי הכלכלה', 'מה מגמתי', 'מזג האוויר בפולטון מיסורי', 'שלח טוויטר למטאל שהם צריכים להפסיק לייצר צעצועים בסין', 'הוסף תור לרופא ביום שני בשלוש ללוח השנה', 'הגדר תזכורת לחמש עשרה דקות כדי לשנות את עומסי הכביסה', 'חדשות מזג האוויר', 'הכינו לי רשימת השמעה של jars of clay', 'נגן קצת מוזיקה', 'מתי הפגישה הבאה שלי ולמי אני פונה כדי לקבוע מחדש', 'החדשות האחרונות של תוכנית הטלוויזיה', 'מה השעה בקליפורניה', 'מה התאריך מחר', 'בבקשה תפתח את אפליקציית החדשות', 'תאזין ל-girl from impanema מאת פרנק סינטרה', 'קבע תזכורת לשתיים בצהריים לגבי הפגישה שלי', 'מה קורה היום', 'האם יש חג בעשרים ושתיים', 'חזור על שיר earth', \"למי נשואה ג'ניפר אניסטון\", 'תתריע אותי בשלוש אחר הצהריים ללכת להופעה', 'מה מזג האוויר עכשיו', 'אתה יכול להעלות את החדשות העדכניות', 'תזכיר לי לקנות מתנה פעם בבוקר ופעם בערב', 'אתה יכול לנגן ברדיו בבקשה', 'אירועים פתוחים השבוע', 'מה האחרון על דונלד טראמפ', 'צייץ בציטוט בטל ציטוט', 'התאריך נוכחי', 'תנגן לי הארי פוטר מהמקום שבו הפסקתי בפעם האחרונה להקשיב ', 'האם הגדרתי התראות', 'בת כמה קארי אנדרווד', 'מה מזג האוויר לשבוע הזה', 'מתי יום פטריק הקדוש', 'מי רצח את לינקולן', \"איך מזג האוויר בבייג'ינג\", \"אולי תוסיף ארוחת ערב עם ג'יין ב-12 בפברואר בשש בערב\", '#שֵׁם?', 'מי היא השחקנית היפה בעולם במאה הזו', 'תקרא לי עוד כמה רוצחים קטלניים', 'הפעל את רשימת ההשמעה לפני המשחקים', 'להגדיר תזכורת', 'מה מזג האוויר בטורונטו', 'נא להשמיע את ערוץ המוזיקה הלטינית המקומי ברדיו', 'להשמיע את שיר הפופ האחרון', 'אני רוצה ללמוד על דונלד טראמפ', 'בבקשה נגן help', 'להגדיר אירוע חדש', \"אנא קרא את הטקסט שקיבלתי זה עתה במסנג'ר\", 'האם עלי לנעול מגפי חורף כשאני הולך לחנות', 'כן אני רוצה לדעת עדכוני חדשות אחרונים', 'באיזה תאריך חג הפסחא השנה', 'מה שקרה לאחרונה בעולם', \"תבקשי מג'ון להצטרף אליי בעשירי בפגישה בקומה החמישית\", 'צייץ לאמזון על איחור באספקה \\u200b\\u200bשל הטלוויזיה שלי', 'תזכיר לי להתחיל את סיר החרס במאתיים אחר הצהריים', 'האם ירד גשם בצהריים', 'מה מפורסם באינדרנגר', 'הוא השמונה עשר ביום שני או יום ראשון', 'הפעל את רדיו הפנדורה שלי', 'איפה המקום הכי קר בעולם', 'האם אני צריך מטריה עכשיו', 'מה השעה של הפגישה שלי בתאריך שבת', 'איזה חלק של אנטארקטיקה שייך לארה\"ב', 'אני רוצה להקשיב ל-kevin and bean', 'הודע \\u200b\\u200bלי שעה אחת לפני הפגישה שלי', 'מה אומר היזם על חסרי בית במאמר של seattle times', 'איך מזג האוויר ביום כזה וכזה', 'האם מדד ה-UV יהיה היום מעל שמונה', 'בדוק אימיילים חדשים ביממה האחרונה', \"כמה אינץ' יש ברגל\", 'להמשיך לקרוא', 'מתי הנסיך מת', 'איזשהי הצעה לזמן טוב לפגישה של שעה השבוע', 'תאר אירועים מתוכננים', 'מתי האירוע הבא שלי', 'מה השעה עכשיו', 'אלכסה תספקי לי את זמני ההתראה שהגדרת', 'בדוק את מייל yahoo', \"נגן אלכס ג'ונס ברדיו\", 'בחר ונגן רק רוק נוצרי מאלף תשע מאות תשעים ומעלה', 'מהו הסיפור המוביל בשלב זה ב-Fox News', 'האם יהיה קר בימים הקרובים', \"תזכיר לי לאסוף את ג'ון משדה התעופה הלילה בשמונה\", 'הוא הסלבריטאי רווק או נשוי', \"אני רוצה לדעת אם יש לי אימיילים עם הכותרת תקציב מאדי ריצ'רדס\", 'כמה פגישות ערך מהטמה גנדי', \"יש לי פגישה מחר בשעה שתיים בצהריים עם ג'ון שים את זה בלוח השנה שלי\", 'מתי הייתה הפגישה האחרונה', 'אנא הזכיר לי את פגישת המורים שלי ביום חמישי בשלוש אחר הצהריים', 'תזכיר לי על פגישה בשבוע הבא', 'אנא הודע לי על יום השנה שלי', 'אנא בדוק אם יש אימייל חדש בתיבת הדואר הנכנס', 'עם מי הפגישה שלי', 'הוסף ליומן שלי את ארוחת הערב האופנתית של אמא בחמישי במאי', 'לוח הזמנים שלי פנוי היום', 'קבע תזכורת למחר בשעה שתיים בצהריים', 'קרא לי את החדשות מ-nsnbc', 'אתה יכול להגיד לי אילו התראות הגדרתי', 'מה יוצר חמאה', 'לפתוח אימייל', 'להוסיף אירוע', 'ספר לי על חדשות הספורט האחרונות', 'בבקשה תזכיר לי שאני צריך לאסוף היום את הבגדים שלי מהמנקה', 'שלום מה השעה עכשיו', 'הודע לי על חדשות מזג האוויר האחרונות', 'התחזית של היום', 'באיזו שעה השמש שוקעת', 'להגדיר את ההתראה', \"תראה אם ג'ון פנוי לפגישה ביום שני\", 'האם יש חדשות עדכניות על הבחירות לנשיאות', 'חדשות סלבריטאים', 'תראה לי את הביוגרפיה של הנסיך', 'היי מה יש עכשיו בחדשות העולמיות', \"ספר לי מה השעה בג'קרטה\", 'אמור לי מי שולחי המיילים שלי', 'שחקי במשחק miami heat and warriors', 'תוכל בבקשה לומר לי מה השעה הנוכחית', 'קבע פגישה עם המורה של הבן שלי ליום שישי', 'האם יורד גשם מאוחר יותר היום', 'תזכיר לי שלושים דקות לפני הפגישה שלי מחר בשלוש אחר הצהריים', 'איך מזג האוויר היום', 'כן או לא הטמפרטורה של מחר אמורה להיות חמה', 'איזשהו אירוע בלוח השנה שלי היום', 'השמע את השיר הזה בשתים עשרה בבוקר', 'ספק הפניות תקפות עם מידע כדי לעזור לאנשים להבין חשיבה ביקורתית ולתת קרדיט היכן שמגיע קרדיט במקום להנציח חדשות מזויפות ועובדות חלופיות', 'ספר לי מה השעה בטוקיו', 'אילו מיילים הגיעו מאמא', 'צייץ ביקורת שלילית לשם החברה', 'האם קיבלתי דואר בשעה האחרונה', 'כמה שעות חלפו מחצות בעיר', 'ניהול סטטוס פייסבוק', 'איך נראית תיבת הדואר הנכנס שלי כרגע', 'בעיר אחרת מה השעה', 'האם קיבלתי משהו חדש מהבוס שלי?', 'אייפון', 'האם יש משהו בלוח השנה שלי ביום שישי בבוקר אחרי שאני מגיע לעבודה', 'האם יש לי דואר', 'תזכיר לי על בדיקת העיניים שלי בוולמארט ב-26', 'הודע לי על התאריך של היום בפורמט אמריקאי', 'שחק גברת עכשיו', 'ספר לי מה טרנדי כרגע', \"תלונה לשירות לקוחות של פיצה Domino's\", 'קבע תזכורת ל-15 במרץ והזן שם כפגישה', 'תודיע לי אם קורה משהו בנושא', 'אני הולך עם משקפי שמש שחורים או לא', 'דחה את ההתראה שלי בחמש עשרה דקות', 'מה מזג האוויר בשבוע הזה', 'זה הפגישה מחר במשרד המרכז העירוני', 'הוסף תזכורת ליום הולדת בארבעה בספטמבר', 'לנגן את השיר footloose', 'אירוע חוזר נוסף ליומן', 'הוסף תאריך ארוחת צהריים ליומן שלי ב-15 במרץ, בין שתים עשרה בצהריים עד אחת בצהריים', \"האם יש אימיילים חדשים מג'ון בתיבת הדואר הנכנס שלי עכשיו\", 'להשמיע שירים של titanic', 'מה אזור הזמן בקובה', 'תזכיר לי על פגישה בשמונה בבוקר עד שתים עשרה בצהריים', 'האם אני צריך לקחת מטריה היום?', 'מהי המשמעות הגיאוגרפית של הודו', 'הגדר שעון מעורר בעוד שעה', 'נגן את כל שירי הפופ האחרונים', 'אנא בדוק התראות', 'מהן החדשות העיקריות ב-la times עכשיו', 'מצא את מסת השמש', \"אוקיי גוגל האם אנג'לינה ג'ולי עזבה את בראד פיט\", 'תגיד לי את התאריך והשעה', 'תנגן מוזיקת \\u200b\\u200bרוק בבקשה', 'אני רוצה לשמוע תוכנית אחת ב-lastfm', 'מה החדשות בזמן האחרון', 'בשלושת ימי ראשון הקרובים תזכירו לי שיש לי שיעור יוגה בצהריים', 'מתי התחילה מלחמת העולם השנייה', 'הודע לי על החדשות האחרונות על דונלד טראמפ', 'אתה יכול לספר לי על היום', 'מה התוכניות שלי להיום', 'תן לי את השעה המקומית של לונדון', 'התראה', 'מתי הפגישה שלי עם משאבי אנוש', 'בן כמה רוד סטיוארט', 'איך מזג האוויר בסיאטל', 'היי siri הפעלי לי רשימת השמעה אוטומטית המבוססת על שירים שנשמעו באפליקציית gaana השבוע', 'הגדר שעון מעורר לשתיים בצהריים', 'אתה יכול להעלות את תוכנית הרדיו הבאה של i heart music', 'מה הבא בלוח השנה שלי', 'מהי תחזית מזג האוויר של השבוע', 'מה טראמפ עשה עכשיו', 'מצא רדיו', 'הגדר אירוע לוח שנה חוזר', 'מה קרה בניו יורק טיימס סקוור אתמול בצהריים', 'תעשה התראה לארבע אחר הצהריים', 'כמה אוקיינוסים יש', 'תמשיך את pride and prejudice', 'הפעל את רשימת השמעה מדינה', 'האם גשום באזור שלי', 'הגדר אירוע בלוח השנה', 'התקדם מנקודת ההשהיה האחרונה של ספר האודיו שלי', 'ספר לי מילות מפתח על יוסיין בולט', 'עבור לפייסבוק ואז עבור לפוסט של לורי: יום הולדת שמח לורי! בעדכון שלה', 'מי הוא שחקן הכדורגל הגבוה ביותר בכל הזמנים', 'הצג את כל האימיילים שהתקבלו לאחרונה עם חותמת זמן', 'האם אוכל לקבל סיכום על החדשות האחרונות המתרחשות בעולם', 'שירות לקוחות ממיקרוסופט מעולם לא התקשר אליי בחזרה', 'הגדר אירוע חוזר ביומן שלי', \"החדשות האחרונות מג'רזי\", 'ספק לי את החדשות האחרונות בעולם', 'האם אמור לרדת גשם הלילה', 'האם שמשי', 'כמה ארוך הנילוס', 'האם הר האוורסט הוא הגבוה ביותר בארצות הברית', 'אילו אזעקות הגדרתי ליום חמישי', 'מה היו תנאי מזג האוויר בלקנאו בתשעה בפברואר אלפיים ושבע עשרה?', 'מה יש לי להיום', 'תן לי את הכותרות מסקיי ניוז', 'באיזו שעה אנחנו מסתכלים עכשיו', 'אנא הפעל מחדש את סיפורה של שפחה', 'בבקשה תן לי עדכון על כדורגל', 'היי האם קיבלתי מיילים חדשים', 'אני רוצה להאזין ל-99.5', 'בבקשה ספר לי מה השעה בטוקיו יפן', 'אני צריך שעון מעורר לשמונה בבוקר', 'הוסף ליומן כל שנה ב-2 במאי הוא יום ההולדת של מרי', 'מה הכותרות מ- la times', 'נגן firefly מאת מורא מאסה', 'להפסיק את המוזיקה', 'אתה יכול לתת לי ביט', 'האם זה יום גשום וסוער', 'היי פרסם את התמונה האחרונה שלי שצילמתי בפייסבוק עם הכותרת marry christmas', 'אני צריך קרם הגנה היום', \"האם קיבלתי אימייל עבודה מג'ף?\", 'הוסף את הפגישה שלי בגוגל אופיס מחר בעשר בבוקר', 'להנות עם כוכב רוק', 'להקשיב לשיחת על ספורט', 'שריפה בקולומבוס אוהיו', 'נגן שיר', 'צייץ תלונה על בורות בכביש', 'איזה יום היום', 'מה מזג האוויר עכשיו בחוץ', \"באיזו תוכנית טלוויזיה נמצאת ג'ניפר אניסטון\", 'איפה הנהר הקרוב', 'השוו את מזג האוויר בבית וסן אנטוניו טקסס', 'הפעל את רשימת הפלייליסטים המובילים שלי', 'תזכיר לי את הפגישה ביום שלישי', 'מפות גוגל', 'מה השעה בבוסטון', 'מהן הפגישות הזמינות במרץ', 'האם יש מאמר על דובי קוטב', 'תעיר אותי בחמש וחצי', 'אלכסה אני צריכה מטריה היום?', 'כמה דברים תכננתי הערב', 'האם אתה יכול לנגן מוזיקה של פינק פלויד', 'פתח אירוע ביומן', 'האם יש חג המולד ב-22', 'האם מתוכננת לי מסיבה בסוף השבוע הזה?', 'זה אירוע חשוב נא לציין בלוח השנה שלי', 'נגן את כל השירים האהובים עליי', 'אנא הגדר שעון מעורר לפגישה הבאה שלי עם הצוות בשלוש אחר הצהריים ביום שישי הבא', \"בבקשה תזכיר לי את יום ההולדת של דודי ג'ו כל רביעי במאי\", 'אנא פרסם הודעה זו לדף הפייסבוק שלי', 'מה הטמפרטורה היום', 'לשחק ריצת קסם לאחר שלושים דקות', 'תאריך ההצטרפות', 'בבקשה תקרא לי את החדשות של היום', 'אני צריך להודיע \\u200b\\u200bלקבוצה הקטנה שלי שהמיקום השתנה', 'תיזום מוזיקה קלאסית', 'תזכיר לי מדי יום באחת עשרה בבוקר את הפגישה עם הבוס', 'אתה יכול להגיד לי את השעה כרגע', 'מה קורה היום', 'מהי המחלוקת האחרונה על דונלד טראמפ', 'תודיע לי בעשר בבוקר בבקשה', 'אתה יכול לנגן hunt for red october', 'אני צריך התראת תזכורת באחת', 'האם קיבלתי אימיילים בשעה האחרונה', 'תן דיווח חדשות אחרון על החטיפה בניו יורק', 'אני צריך לדעת את כל הודעות האימייל מאנשי הקשר הקשורים לנושא', 'מצב מזג האוויר', 'google רציתי לשמוע את רשימת ההשמעה של מוזיקת \\u200b\\u200bהקאנטרי שלי', 'תזכיר לי אחרי שעה ללכת לקניות', \"לשחק בקוד דאווינצ'י\", 'בת כמה מיילי סיירוס', 'שלח תלונה על טלוויזיה חכמה לשירות הלקוחות של Sony', 'בבקשה תגיד לי אם תהיה שמש ללא עננים ביום שישי השבוע', 'להתקשר לשרה', 'פּוֹפּ', 'צייץ לוג שגיאות לסמסונג', 'הודע \\u200b\\u200bלי על אימייל מדייב לגבי הפגישה', 'כל אימייל חדש', 'נגן מנגינות', 'ששלח לי מיילים השבוע', \"מה מזג האוויר הנוכחי בניו ג'רזי\", 'הקפד להתקשר לבייביסיטר לדייט בערב יום שישי', 'החדשות של היום', 'אני צריך תזכורת לפגישה שלי בחמש אחר הצהריים', 'צייץ שירות נורא', 'באיזו שעה השעון המעורר שלי מוגדר למחר בבוקר', 'אתה יכול להעלות את הסלפי האחרון שלי באינסטגרם שלי', 'מה יכול להיות השעה בהודו', 'אתה יכול להזכיר לי על הפגישה שלי מחר?', 'נגן hottel california אחרי השיר הזה', 'האם עלי למרוח קרם הגנה היום?', 'איזה צעד ריקוד הוא הכי מושך', \"מה המרחק במיילים מלוס אנג'לס קליפורניה לאוסטין טקסס\", 'אני צריך שתגדיר התראה', 'ספר לי מה השעה ביפן', 'נגן hopsin מהפלייליסט האחרון שלי', 'הפעל את רשת הספורט להוקי', 'נא לקבוע את האירוע ביום שלישי', 'היי מה השעה עכשיו בלונדון', 'מה הזמן עכשיו בניו יורק', 'נגן warned של tech n9ne', 'ציין את מסיבת יום ההולדת של שרה ב-12', 'מה קוד הלבוש להערב', 'תזכיר לי כשאיש קשר מתקשר', 'איך זה הולך להיות היום', 'האם תאריך האירוע הזה נכון', 'האם יש לי אימיילים אחרונים מהמועדפים שלי לאנשי הקשר', 'נגן ערוץ קלאסי בסיריוס', 'ציוץ למייסי תלונה על פקיד המכירות שלהם', \"האם תוכל לרשום לי בלוח השנה שג'ון סי ואשתו נפגשים איתנו מחר בארבע אחר הצהריים\", \"תן לי את הגיל של צ'אק נוריס\", 'מהו דוח מזג האוויר השבועי', 'הפעל רשימת השמעה מספר שבע', 'מה קבעתי לשבוע הבא', 'יש לי פגישות מרובות היום הזכר לי במרווח של שלושים דקות לפני תחילת כל פגישה', 'אילו התראות מוגדרות לשבוע זה', \"גלה אם אדי ריצ'רדס שלח אימייל לגבי בקשות התקציב\", 'נעלמה לי היום המטריה', 'בינה מלאכותית', 'מתי טסלה תגיע לעיר שלי', 'סובב את הרדיו ל-kiss fm', 'אני רוצה סוף סוף לקרוא את טרילוגיית מאדים', 'אני רוצה לשמוע את מטאליקה בפלייליסט הרוק שלי', 'מה קרה בביירות הבוקר', 'נא להגדיר את המעורר לשמונה בערב ביום רביעי בערב', 'נגן crazy של בריטני ספירס', 'להוסיף התראה', 'נא לציין את השעה הנוכחית בהודו', 'כמה גבוה מל גיבסון', 'האם יש לי פגישות השבוע?', 'מה השעה בעיר ההיא', 'באיזו שעה הפגישה הבאה', \"בבקשה הוסף את החמישי למרץ כיום ההולדת של ג'ון\", 'לנגן קצת רוק רך', 'התאריך היום בבקשה', 'מה השעה בשיקגו', 'תזכיר לי כל שנה בתאריך הזה ', 'נגן thinking out load עכשיו', 'אנא ספק מידע גיאוגרפי על טייוואן', 'כל יום רביעי פעם בשבועיים הזכר לי ללכת לקניות', 'הייתי רוצה לשמוע את rush limbaugh ברדיו i heart', 'נא לבדוק מיילים במהירות', 'האם עלי להביא איתי עוד מים היום', \"היי מה האג'נדה של התאריך\", 'אולי תראה לי כמה חדשות מ-bbc', 'להפעיל את הרדיו ', 'מה החדשות ב-bbc news', 'נגן rein in blood של סלייר מחר בחמש בבוקר כדי לוודא שאני באמת מתעורר', 'פתח חדשות על bp oil', 'האם אני צריך לעשות משהו אחר כך', 'מהו הרכב הציפורניים שלנו', 'תְלוּנָה', 'מזג האוויר מעונן', 'מה קורה השבוע', 'טמפרטורת השקיעה היום', 'אנא ספר לי את מזג האוויר עבור וושינגטון DC', 'הפעל את ביורק', 'מה השעה בלונדון', 'פתח את שר הטבעות ונגן', 'נא לנגן את כל השירים של ברונו מארס', 'תן לי את התאריך של יום שני בשבוע השלישי של החודש', 'כמה קר', 'מיהו האדם מאחורי השיר של טיילור סוויפט back to december', 'מה התאריך ליום שני הבא', 'אילו פגישות מופיעות בלוח השנה שלי היום', 'השתמש בתוכנית זו', 'בבקשה תגיד לי אם יהיה שלג בסוף השבוע הזה', 'כמה קר יהיה ביום שלישי הבא', 'אני רוצה לנגן את ספר האודיו good grief', 'אלכסה המשיכי את joe book מאיפה שהפסקתי בפעם הקודמת', 'ספר לי על לוח הזמנים שלי לחודש הבא', 'חדשות מקומיות מ-bay news nine', 'איזו צורה יש לכדור', 'מה השעה לפי שעון מרכזי סטנדרטי', 'מה קורה בחדשות העולם', 'מה השעה בחוף המערבי', 'מה מזג האוויר', 'מי הוא הנשיא הנוכחי של ארצות הברית', 'מאה וחמישים אלף מאתיים ושבע עשרה', 'אתה יכול להמיר את הכסף הזה שלי', 'הגדר את השעון המעורר בעשר בבוקר', 'האם הולך לרדת גשם היום', 'אני רוצה לשמוע את הפלייליסט שלי מהאמן הזה', \"מזג האוויר בבוסטון, מסצ'וסטס\", 'כל החדשות האחרונות על צפון קוריאה', 'אנא הזכירו להשיג סופגניות לפגישה', 'כמה גבוה פרנק גוגינס', 'אני רוצה לדעת מה השעה', 'נא לנגן את המוזיקה שלי', 'תסביר לי את ספר דניאל', 'בדוק את אפליקציית מזג האוויר כדי לראות אם', 'מהי התוכנית להיום', 'מה השעה בפריז', 'אני רוצה נושאים על החדשות האחרונות', 'לעבור ל', 'נגן את תחנת רדיו של הרוק', 'קח אותי לערוץ הרדיו הפופולרי ביותר', 'קרא לי את הכותרות האחרונות מהאתר New York Times', 'בן כמה טראמפ', 'קרא לי כותרות לחדשות בינלאומיות', 'כל האירועים הקרובים', 'מה התאריך הנוכחי היום', 'בדוק את היומן שלי להיום', 'ספר לי את אירועי היום', 'התלונן במסעדה על האוכל שהוגש לי', 'נגן why do you sing מאת קירק פרנקלין', 'רשימת האלבומים של ריהאנה', 'לבדוק מיילים מאמא', 'האם יהיה שמש בקליפוניה', 'ספר לי על נרנדרה מודי', 'פתח מפה', 'בדוק מיילים מ- mgccc', 'אתה יכול לשים את זה בפייסבוק', 'שים את summer lovin במקום השלישי בתור שלי', 'מצא לי את מצב מזג האוויר הנוכחי', 'ספר לי מה השעה במוסקבה', 'אילו פגישות התרחשו בין אחד בינואר ל-12 בינואר', 'האם אני יכול לשמוע את חמישים הלהיטים שאתה יכול לשמוע עכשיו ברדיו?', 'אנא בדוק את השעה', 'מה קרה היום בחדשות', \"רשום מיילים מג'ים להיום\", 'כל אירוע rccg march אמור להתווסף ליומן שלי', 'האם יש משהו חדש בתיקיית המייל שלי', 'אני צריך התראה לתשע בערב', 'ספר לי מתי רעידת האדמה הגדולה הבאה תפגע בקליפורניה', 'נגן את השיר האחרון של אמינם', 'ציוץ לשירות לקוחות של verizon', 'מה קורה מחר בלילה', 'מה קורה בפוליטיקה', 'מתי יום השנה שלי', 'פתח שירים של פרינס', 'ב-25 בינואר נקבע פגישה ל-12', 'אמור לי את השם של תחנת הרדיו שאני רוצה לשמוע', 'תזכיר לי לשלוח את המצגת היום באחת בצהריים', 'בבקשה בדוק את היומן שלך, עשיתי כמה דברים.', 'מהי הטמפרטורה הממוצעת במרץ בפנסילבניה ואיך זה בהשוואה לעשר השנים האחרונות', 'אנא ספק את המידע המפורט על האירוע הבא', 'פתח את פנדורה ונגן מוזיקה לאימון', 'כמה קר מזג האוויר כרגע', 'צור אירוע חג המולד  ב-25 בדצמבר שנת 2017 והגדר אותו לתזכורת חוזרת', 'הוסף אירוע בלוח השנה ותזכיר אחרים', 'אני צריך תזכורת כל יום בשעה שתיים לבדוק מה עם אמא שלי', 'נגן את תחנת הרוק שלי בפנדורה', 'האם מחר יהיה חם', 'נגן את כל השירים של מרטינה מקברייד', 'קבעי תאריך לארוחת צהריים ליום שלישי הבא בצהריים עם שרה בבלאק אנגוס', 'תזכיר לי להיפגש חמש דקות לפני הזמן', \"נא לציין את התאריך הראשון בפברואר 2017 ולקבוע את התזכורת בחמש אחר הצהריים לקבוע פגישה עם מר ריצ'רד\", 'העלה לוח שנה וקבע פגישה עם ri ב-1 באפריל בעשר בבוקר', 'בן כמה מורגן פרימן', 'האם יהיה חם בעוד שעתיים', 'תפעיל את בוב וטום', 'זיהום אוויר', 'התחל שוב ספר שמע', 'נגן את פלייליסט \"walking\"', 'מה התאריך של מחר', 'השמע את המוזיקה שהורדתי', 'מה שמו של האגם שהתייבש עם השנים', 'נא לנגן את להיטי שנות הארבעים המובילים בפנדורה', 'איפה הכי חם עלי אדמות', 'רק ראה עבורי את ההתראות שהגדרת היום בבוקר', 'מה לוח הזמנים שלי היום', 'מה יהיה מזג האוויר של מחר במיקום זה', 'נגן לי american idol עכשיו', 'האם אצטרך מגפי גשם', 'מה לעשות הלאה', 'בבקשה תן לי את כל העדכונים על הבחירות', 'הגדר תאריך זה לתזכורת חוזרת', 'אנא קרא את המייל האחרון עבורי', 'יש לי פגישה חשובה ביום ראשון הקרוב בצהריים בשעה שתיים. אל תשכח להזכיר לי', 'נא לכתוב תואם', 'אני צריך להגדיר אירוע חוזר ביומן שלי בבקשה', 'האם יש לך עדכונים על ריק', 'תגיד לאדם שאני רוצה לפגוש אותו היום', 'תראה לי את השעה עכשיו בבוסטון', 'כמה אונקיות יש בקוורט', 'בדוק את הדואר שלי אם קיבלתי מיילים חדשים', 'מה השעה עכשיו באזור הזמן המזרחי', 'אני צריך התראה ליום ראשון בשמונה בבוקר, אתה יכול בבקשה להגדיר לי אחת', 'מה היה האירוע המתקרב', \"מה השעה בז'נבה\", 'מהי המדיניות הכלכלית של טראמפ', 'באיזה יום חל ליל כל הקדושים השנה', \"קבע תזכורת לפגישה עם ג'ון ביום רביעי בתשע בבוקר\", 'האם איינשטיין היה נשוי', 'האם יש יותר משני פגישות לרופא בלוח השנה שלי', 'התראה חמש אחר הצהריים ביום שלישי', 'האם יש אימיילים חדשים', 'מצא לי מוזיקת \\u200b\\u200bשנות השמונים', 'תתחיל להתלונן ל-walmart', 'מתי ההתראה שלי תידלק בבוקר', 'להשמיע את השירים המושמעים ביותר שלי', 'מחרתיים יתקיימו כל הפגישות', 'נגן את התוכנית הבאה של האוורד סטרן ברדיו', 'נא להשמיע את השיר joy to the world', 'פשוט קבע פגישה עם הבוס שלי', 'מה השעה בניו יורק', 'תן לי את רשימת המטלות שלי להיום', 'מהי תחזית מזג האוויר השבוע', 'אפשר לדעת את השעה בלונדון', 'מצא בבקשה את חדשות השבוע על חקיקת הגירה בארה\"ב', 'מהי המדינה הקרה ביותר בארה\"ב', 'תזכיר לי לקנות בשר חזיר כשאני בחנות בפעם הבאה', 'הפעל את הרשימה מהמועדפים שלי', 'תנגן את הספר שלי', 'האם קיבלתי מייל מרוהיט', 'אני צריך את הכובע שלי היום', 'פתח את התמונה בפוסט', 'אני צריך את האירוע הזה במחזור חוזר ביומן שלי', 'גוגל מי היה הנשיא האחרון שלא היה בבעלותו כלב', \"כמה גבוה לברון ג'יימס\", 'הוסף שנה טובה ללוח השנה', 'תפעיל daft punk', 'צייץ לשירות לקוחות שהם צריכים לשאוף להיות יותר מסבירי פנים', 'תגיד לאמא שהערב יהיה מאוחר', 'קבע כל פגישה עבור האירוע הזה ביומן שלי.', 'כל פגישה בין שש לשבע בערב', 'מזג האוויר למחר', 'המשך השמעת ספרי שמע', 'חזור על אירועים על הפתק', 'אני צריך תזכורת חוזרת בכל יום שני בשעה 3:30 אחר הצהריים', 'פרסם סטטוס פייסבוק \"מאורס\"', 'אני צריך חדשות ספורט', 'האם יש לי התראות מוגדרות', 'הודע לי על אירועים קרובים', 'מה קורה עם חדשות בינלאומיות', 'האם יש הודעה חדשה מאדם א', 'מי הם הגיטריסטים הגדולים בכל הזמנים', 'הודע לי יום לפני מרוץ הסוסים בסנטה אניטה ב-7 במרץ', 'תן לי את הזמן בלונדון עכשיו', 'השהה את קורות החיים', 'תן לי לשמוע מוזיקת \\u200b\\u200bפופ או שיר', 'תעלה פוסט לפייסבוק שאני בבית', 'הגדר טיימר בחמש בבוקר שבעה ימים בשבוע', 'מה הגודל של תיק Cinch מתקפל, ואיך הוא נראה', 'להוסיף פגישה עם אמא שלי ליום ראשון הבא', 'מה חדש בתיבת הדואר הנכנס שלי', 'לקבל חדשות מ-reddit', 'כתוב אותי למסיבת יום ההולדת של שרה ב-12', 'היי מה השעה באורלנדו פלורידה', 'האם יהיו ימים עם 70 מעלות בשבוע הבא', 'בבקשה השמע לי שיר מהרשימה האהובה עליי', 'אתה יכול להזכיר לי ללכת לחנות הפינתית ביום שלישי', 'האם יש לי מיילים ', 'לצייץ יום רע בסטארבקס', 'אתה יכול בבקשה לבדוק את מזג האוויר בקנזס', 'שים תקליט', 'האם יש לי מיילים חדשים?', 'מה התוצאה של ריק היום', 'בבקשה תן לי את התאריך של היום', 'מה קורה בזמן ניו יורק', 'הפעל בערבוב את רשימת ההשמעה שלי של שירים איטיים מ-Spotify', 'מה שמו של האיש הגבוה ביותר', 'הפעל רדיו 66.5', 'ספור לאחור ליום ההולדת של אחי', 'בבקשה תן לי אזהרה של שעתיים לפני הפגישה הבאה בשבת', 'תזכיר לי ללכת לקנות מהמכולת דברים למסיבה ביום ראשון', 'מצא חדשות על ברקזיט', 'אני צריך לדעת מה השעה', 'שעה לפי שעון GMT', 'פגישה נא להגדיר תזכורת', 'כמה זמן היה בריאן קרנסטון ב-breaking bad', 'הגדר שעון מעורר למשך 12 שבועות מהיום בשמונה בבוקר', 'מה התשובה לחיים', 'צייץ תלונת לקוח לאתר הרכבת התחתית', 'להשמיע לי שיר', 'תוצאות הספורט', 'מה הזמן בפריז', 'לנגן שיר all the small things', 'חבר שלי שולח לי דוא\"ל לבדוק', 'צריך שעון מעורר ליום ראשון בחמש בבוקר', 'אני רוצה לשמוע ספר מאת טורי היידן', 'צייצי תלונת לקוח על השירות במסעדת LongHorn Steakhouse, אלכסה.', 'פתח את אפליקציית Sirius והפעל את הערוץ הקלאסי', 'מה הטמפרטורה בחוץ עכשיו', 'אתה יכול לבדוק את השעה העדכנית כדי שלא אאחר לפגישה שלי?', 'תמשיך את שר הטבעות', 'איך הדברים בעולם', 'בבקשה תגיד לי מה השעה עכשיו בקנדה', 'אני אהיה בפיצה האט בעוד עשר דקות ואשאר שם במשך ארבעים הדקות הבאות, סדר לי אובר שיוכל להוריד אותי בבית', 'הפעל את רצועה שמונה מ- google play music', 'טופס מבחן באנגלית שנשלח בדוא\"ל ממרשה', 'הגדר תזכורת בלוח השנה', 'פרסם מאמר בפינטרסט', 'ספר לי מאוחר יותר על', 'הגדר לי שעון מעורר למחר בשבע בערב', 'האם דן שלח לי אימיילים כלשהם', 'בשלב הבא אני רוצה לשמוע shine down', 'כותרות החדשות בטקסס', \"ספר לי על צ'אק נוריס\", 'נגן את השיר הכי טוב שלי', 'הראה לי את רשימת החברים שיש להם יום הולדת אתמול ולא איחלתי להם', 'למה גוטסה ירה במהטמה גנדי', 'תן לי לראות אילו מיילים קיבלתי', 'טֶמפֶּרָטוּרָה', 'תעיר אותי בשש בבוקר', 'נא להודיע \\u200b\\u200bלי מתי אני צריך לצאת לוועידה', 'פתח את שם האלבום', 'כמה הודעות nhhk חדשות קיבלתי לשבוע זה', 'אל תיתן לי לשכוח את תור לווטרינר של רובר ב-25', 'תזכיר לי כל יום שישי ללכת למשחק הכדורסל של הבן שלי', 'תן לי לראות את ההתראות שלי', 'השמע את כל התוכניות הקשורות לשירי רוק ברדיו', 'איזשהם מיילים חדשים', 'שלח לי עדכונים על מחאת הסלעים העומדים', 'רדיו 989 בבקשה', 'לאשר את שעת ההתראה', 'הוסף את אחותי ליומן לפדיקור ביום שישי', 'מהי הטמפרטורה הנוכחית במיאמי', 'אנא ספר לי את החדשות האחרונות מהעולם', 'הזמן בניו יורק', 'bbc', 'אוקיי גוגל הוסף הודעה מהחדשות של בוב על מזג האוויר', 'מהי נקודת הרתיחה של מים', 'איזה יום בשבוע הוא ה-25', 'פרסם בפייסבוק את אירוע יום ההולדת שלי', 'נגן מוזיקה לילדים', 'האם יש לי התראות', 'הוסף את הפגישה עם טל ביום חמישי הקרוב ליומן.', 'מהו יום ההולדת של טיילור סוויפט', \"תנגן את ספר הג'ונגל\", 'האם אני פנוי ביום ראשון?', 'אתה יכול להזכיר לי לבדוק את הבגדים שלי בעוד שעה', 'תביא לי דואר חדש', 'כמה שעות נותרו עד לשעת הצהריים?', 'אמור לי למתי הוגדרו ההתראות הבאות ', 'תוכל בבקשה לקבוע פגישה עם אדם זה', 'מה השעה עכשיו', 'נגן את כל השירים של metallica ב-shuffle', 'תן לי את התזכורות', 'השמיעי מוזיקה מתוך רשימת השמעה', 'פתחי את אפליקציית מזג האוויר', 'מה הדבר הבא בלוח הזמנים שלי', 'העלה חדשות פוליטיות היום מה-cnn', 'תנגן purple haze', 'תנגן מדונה like a virgin', 'נגן תוכנית שיחה על טיפול בילדים', 'צייץ תלונה לאפל שחיי הסוללה שלהם נוראיים', 'מה משקלו של פיל', \"מאיפה ג'סטין בייבר\", 'תסביר לצייצנים אחרים כמה נורא שירות הלקוחות שלהם בחנות המקומית', 'האירועים של היום', 'האם אבא שלח אימיילים לאחרונה', 'האם יהיה שלג ביום שלישי', 'באיזו שעה מתחילה הפגישה', 'האם עכשיו צהריים בפריז', 'תודיע לוונדי שאני שונא אותם', 'מה השעה', 'כמה חם עכשיו בחוץ', 'קבע הודעה במרץ השלישי על פגישת החברה', \"איך הקריירה של ג'ניפר גארנר מתנהלת?\", 'היכן ממוקמת קנזס', 'צייץ תלונת צרכן', \"הוסף פגישה עם ג'ון דונלדסון ליומן שלי \", \"תזכיר לי על הפגישה שלי עם ג'ו בעשר ביום שני\", 'מה אני צריך לזכור להיום אחר הצהריים', 'איזה יום הוא יום שישי השלושה עשר השנה', 'אני רוצה להגדיר התראה לשבת הזו בעשר', 'צייץ ל-@wendys שאני לא אוהב את המוצר שלהם', 'האם יש לי התראות מוגדרות להיום?', 'ספר לי מתי נולד מרטין לותר קינג', 'אם יורד גשם אני לא אלך לעבודה', \"כמה יכול כריס המסוורת' להרים בלחיצת חזה\", 'מה יהיה מזג האוויר ביום שישי', 'מה השעה באזור הזמן הזה', 'תראה לי את התוכניות שיש לי היום', 'מה השעה בסין עכשיו?', 'האם אצטרך מעיל הבוקר?', 'תנגן רשימת השמעה של אימון', 'ספר לי חדשות מה-CNN עכשיו', 'אתה יכול להפעיל את פנדורה', 'בבקשה תזכיר לי להוריד את הקפה מהכיריים בעוד עשר דקות', \"אני רוצה להאזין לשירים של אריג'יט בבקשה תכוון את זה\", 'לשחק animal farm', 'ספר לי את מזג האוויר של השבוע', 'הגדר תזכורת לפגישה', 'בוא נוסיף משהו בלוח השנה ליום שלישי', 'מה קורה בחדשות', 'נא להפעיל התראה שלוש שעות לפני אירוע מתוכנן', 'כמה גדולה אוהיו', 'מהו העומק של הנקודה העמוקה ביותר בגרנד קניון', 'האם יורד גשם עכשיו', 'תגיד לי ללכת למכולת אחרי העבודה', 'היום החמישי במרץ, נכון או לא', 'פשוט תעדכן אותי מהו השטח של יבשת אסיה', 'טופוגרפיה מלבורן', 'נא תנגן לי את השיר הבא', 'באיזה יום הפגישה', 'קרא את האירועים הקרובים שלי', 'דייט עם אהבה למחרת', 'אירועים מתוזמנים - מידע נוסף', 'תביא לי את החדשות על הפגישה של היום', 'האם יש לי אימיילים מקתרין?', 'מתי נולד אלברט איינשטיין', 'עשר בשבע', 'פגישה מחר בשלוש בצהריים, תזכיר לי ארבע שעות לפני הפגישה הזו.', 'אתה יכול בבקשה לבדוק אם אני פנוי ביום חמישי אחר הצהריים אם כן הוסף תזכורת ללכת לפסטיבל האוכל', 'בין האחד במאי לשלושים ואחד בדצמבר התרחשו פגישות', 'כל הדואר חדש', 'בבקשה תנגן לי את השיר smile', 'ציין את השלוש עשרה באוקטובר השנה כיום הולדתי', 'מה השעה הנוכחית בלגוס ניגריה', 'מה השעה בסין עכשיו', 'פתח את הרדיו בתדר 99.5', 'אלכסה מי זה בוב דין', 'מדריך צעד אחר צעד כיצד לשמור מוזיקה', 'תזכיר לי להתקשר לסבתא שלי ביום ראשון', 'האם סנאפ מצליחה אחרי ההנפקה', 'האם ניתן לעיין בחדשות האחרונות על תחזית מזג האוויר האחרונה לשבוע', 'לנגן מוזיקת \\u200b\\u200br&b', 'האם הגדרתי התראות כלשהן בבוקר', 'צור הערה ביומן: תערוכה בשנת 2017, מיסה ב-25 במרץ', 'הוסף אירוע ב-21 באוגוסט בתשע בבוקר', 'רענן מייל', 'מה היה התאריך בשני ימי רביעי הקודמים ', 'בן כמה ריאן ריינולדס', 'ציין את מזג האוויר בעיר שלנו', 'איפה פסל החירות', 'היי, יש לי מיילים מבוב על הבולדוג', 'מה קורה בעולם', 'עֶרֶב', 'איך מזג האוויר היום', 'האם יש מיילים שלא נקראו בתיבת הדואר הנכנס שלי', 'אנא הראה לי את מזג האוויר המקומי', 'להתחיל מחדש את הספר \"מורשת\"', 'בבקשה הוסף את Superbowl ליומן', 'גוגל זה הפגישה שלי ביום חמישי עם רופא השיניים שלי', 'שים רדיו מנגו', 'תן לנו חדשות על הבחירות של הנשיא', 'נגן מטאליקה ב-shuffle', 'תעשה התראה לחמש אחר הצהריים ביום שלישי', 'כמה הודעות מייל חדשות נוספו מאז שבדקתי לאחרונה', 'מה החדשות האחרונות מ-cbs', 'בראשון באוקטובר בשתיים אחר הצהריים ארוחת צהריים עם אן', 'נא לעקוב אחר איך מתנהלים הדיונים הנשיאותיים', 'שים לב לאירוע שלי עם אדם בדייט במקום', 'מהו התוצר המקומי הגולמי שלנו', 'מה יש לי היום', 'האם קים קרדשיאן הלכה לתצוגות האופנה של פריז השנה', \"התחל את רשימת ההשמעה של הג'אז שלי\", 'איזה יום בשבוע הוא ה-24', 'סרוק את תיבת הדואר הנכנס שלי עבור כל הודעות מייל חדשות מרוברט', 'מה שנקבע לסוף השבוע בעוד שלושה שבועות', 'האם קיבלתי אימיילים במהלך השעתיים האחרונות', 'מה העדכון האחרון בנוגע להוריקן קתרינה', 'האם תוכל בבקשה לצייץ שבקולנוע גבו על בקבוק מים של קינלי יותר ממחיר הקמעונאות המרבי?', 'האם יורד גשם בטורנטו', 'האם יש לי פגישות בקרוב', 'אני רוצה להאזין לפרק החדש של סם האריס', \"אבינאש, בוא איתי לסרט 'קומנדו' ב-5 באפריל.\", 'מה האירועים הקרובים', 'בבקשה תזכיר לי את האירוע במיאמי מחר.', 'אני רוצה לשמוע כל קלאסיקה מלבד באך או שוברט', 'ספר לי מה השעה בקנברה', 'מה התזכורות שלי לחודש הזה', 'תראה לי כמה חדשות מ-bbc', 'פתח את האתר bbcnews.com', 'ספר לי מה השעה בבוסטון', 'לבדוק מיילים', \"אני רוצה לשמוע את ז'אנר מוזיקת \\u200b\\u200bהג'אז האהוב עליי\", \"אני צריך ללבוש ז'קט בבוקר\", 'תפעיל תחנת רדיו בשבילי', 'אלכסה את יכולה לנגן את המוזיקה האהובה עליי', 'תזכורות', 'אילו דמויות מדובבות שיחק אלן טודיק?', 'מהו המצב הנוכחי של פתרון תורת היחסות הכללית עם פיזיקת הקוונטים', 'השמיעי את השיר האהוב עלי ראשון בלופ', 'הוסף פגישה לארוחת צהריים עם ליסה ב-2 בינואר בשעה שתים עשרה וחצי בצהריים', 'אולי תראה לי את ההתראות שלי', 'תזכיר לי את הפגישה עם המורה שלי היום עד חמש אחר הצהריים', 'פרסם עדכון סטטוס בפייסבוק', 'הפעל את כל השירים מהפלייליסט המועדף', 'נא להגדיר תזכורת לימי שלישי בתשע בבוקר', 'האם עלי ללבוש כפפות הלילה', 'מה האירוע הבא בלוח השנה שלי', 'בבקשה תראה לי את התאריך של היום', 'נגן את השירים האחרונים של סלינה גומז אחרי השיר הזה', 'מתי יום שני השלישי של החודש', 'האם הטמפרטורה תהיה מחר מעל חמישים', 'מהו היקף כדור הארץ', 'אל תיתן לי לשכוח להתקשר לאלכס', 'אלכסה מנגנת רוק קלאסי', 'המשך את ספר האודיו שהאזנתי לו לאחרונה', 'אולי אתה יכול לצייץ עבורי לשירותי אמזון על כך שלא סיפקו את המוצר שלי בזמן', \"נגן את 'הולה הופ' הבא.\", 'מייק ישלח לי אימייל מחר, אתה יכול בבקשה להגדיר התראה חמש עשרה דקות לאחר קבלת המייל הזה', 'יש שלג בתחזית', 'קבע פגישה ביום שני עם פיטר פרנסיס אחר הצהריים', 'התחל לנגן את ספר האודיו היפה והחיה', 'האירועים שלי', 'האם יש לי מייל חדש', 'מסיבת יום ההולדת של מרי הלילה?', 'אני צריך לדעת מהם האירועים המתוכננים לסוף השבוע', 'תנגן את השיר הבא שבחרתי', 'תשמיע לי את השיר', 'תקרא על החדשות האחרונות בעולם', \"תזמן את הפגישה שלי עם מר ג'ון הופקינס מחר באחת בצהריים אחרי ארוחת הצהריים\", 'פתח את רשימת ההשמעה החמישית', 'דווח על רשימת ההופעות בקונצרט עם שעת ההתחלה של כל אחת.', 'תן לי את חדשות הספורט של היום', 'פתח רדיו.', 'מתי החג הבא', 'האם היום יום הולדת לאחים שלי?', 'אני צריך שתפעיל ערוץ רדיו 890FM', 'שַׂמֵחַ', 'תביא את זה למכשיר שלי', 'הפעל את רשימת ההשמעה MP מההתחלה', 'האם יש לי אירועים מתוכננים היום', 'תן לי את החדשות האחרונות על דונלד טראמפ.', 'כמה גבוה טום קרוז', 'מהי התחזית המורחבת', 'כמה ימים נשארו עד עשרים וחמישה במאי', 'שנה סטטוס', 'האם יש לי משהו מתוכנן הלילה?', 'קבע אירוע יום נישואין ליום שלישי', 'תעלה את לוח השנה של גוגל ותוסיף אירוע לחמישי במאי', 'תגיד לי איזה יום היום בשבוע', 'תאריך הלידה של קיאנו ריבס', 'מהי בירת סין', 'כמה עצמות יש בגוף אדם', 'הודע לי מתי אני אמור להשתתף במופע הריקודים בחמישי במרץ', 'איך הנוף במרוקו', 'אני רוצה להגדיר שהאירוע חוזר על עצמו', 'הגדר שעון מעורר לשעה תשע בערב ביום חמישי', 'תתלונן שהמכשיר הנייד שלי במרכז השירות יותר מדי זמן', 'מה הגורם לתופעות במשולש ברמודה?', 'בבקשה תשאיר אותי מעודכן בטכנולוגיה', 'מה מחירי הנפט היום לחבית נפט גולמי', 'נֶחְמָד', \"כמה פעמים היה ריצ'רד ניקסון נשוי\", 'מה חדש אצל הספק החדש', 'בדוק אם יש אימיילים מהבוס שלי', 'החדשות האחרונות', 'פעילות טרור', 'מזג האוויר היום', 'שלום לכולם', 'נגן מוזיקת חג מולד בסגנון ישן', 'תן לי לשמוע מוזיקה דתית חדשה', 'בבקשה הגדר אירוע ליום שני', 'הפעל עבורי את ספר האודיו הזה', 'הפעל את המוזיקה ברשימת ההשמעה האלקטרונית', 'בדוק אם יש אימיילים חדשים בגוגל', 'מה השעה עכשיו', 'מהי העלילה של הסרט האחרון של will smith', 'באיזו שעה התור שלי מחר', 'הראה לי את מזג האוויר של מחר באזור זה', 'תחזית מזג האוויר', 'מה המצב הנוכחי של משא ומתן של הברקזיט', 'תביא לי את החדשות המובילות מהפינגטון פוסט', 'מה מזג האוויר באוסטין ב-16 במרץ', 'האם יש לי זמן פנוי בסוף השבוע הזה?', 'אתה יכול להזכיר לי את הפגישה היום בארבע אחר הצהריים', 'אתה יכול לכוון את השעון המעורר שלי לשבע וחצי בבוקר', 'השתמש בפייסבוק כדי לפרסם', 'קבע תזכורת ל-15 במרץ כפגישה', 'השמע לי את הארי פוטר מהנקודה שבה הפסקתי להאזין', 'מזג האוויר לשמונה הימים הבאים בסן אנטוניו טקסס', 'האם תוכל ליצור אירוע חדש עם האנשים האלה בלבד', \"צור אירוע חוזר ליום ההולדת של ג'ון ביומן\", 'האם אני צריך לדאוג שמפלסות השלג יכסו את הרכב שלי בכניסה לחניה ביום שלישי?', 'ספר לי על הפגישה השבוע', 'בבקשה תגיד לי מהי הנוסחה להיקף של מלבן', 'מה קרה אתמול בין השעה שלוש לארבע אחר הצהריים', 'תודיע לי על הפגישות לאורך כמה ימים', 'עבור לרדיו', \"פגישה עם ג'ו בשבוע הבא ביום שלישי\", 'נגן כל דבר של מטאליקה', 'נגן את \"I Love You\" ואז את \"Happy\" לאחר מכן', \"ג'ֶאז\", \"האם אוניברסיטת גריניץ' שלחה לי מייל\", 'עדכן את תיבת הדואר של Outlook', 'מהו יום שישי הראשון של החודש הבא', 'באיזו שעה מתחיל הפסטיבל באופן רשמי', 'מי זה אובמה', 'האם ידוע לך אם ירד גשם היום', \"תוכל להוסיף את האירוע הזה עם ג'ואי\", \"כמה יכול כריס המסוורת' להרים בלחיצת חזה\", 'אימיילים אחרונים', 'מה יהיו הטמפרטורות בשבוע הבא', 'ספר לי את החדשות', 'תגיד לי את המיקומים של הפגישות שלי להיום', 'צור אירוע ריק בלוח השנה לשבת הבאה בשעה עשר בבוקר', 'אנא הזכירו ליום ראשון הזה ללכת למיסה', 'הייתי רוצה לדעת על ההתראה ששלחת.', 'אתה חושב שאני יכול לנעול סנדלים או שכדאי לי לנעול נעלי ספורט הערב בשעה שבע?', \"סירי, פתחי את טוויטר וצייצי ל-@ScapingYards: 'פספסתם את כל הצד של הפטיו השמאלי כששטפתם בלחץ.'\", 'תזכיר לי על מפגש', 'אני רוצה לעשות משהו מצחיק כל יום בבקשה הגדר תזכורת', 'בוא נשמו את החדשות מ-cnn', 'תדליק לי את הרדיו', 'מהי תחזית מזג האוויר של היום', \"בן כמה צ'ר\", 'לקבוע פגישה עם אל ביום שלישי', 'מה ההתראה הבאה שלי', 'רשום את יום ההולדת של אחי בלוח השנה שלי לרביעי ביולי', 'האם שעון המעורר שלי מכוון לשש בבוקר', 'הוסף ליומן פגישת משרד לשלושת הימים הבאים', 'מה יהיה מזג האוויר בשבוע הבא', 'באיזו שעה השעון המעורר שלי יתכבה היום', 'מתי התור שלי לרופא השיניים', 'מהו מזג האוויר הנוכחי בדנוור', 'תתקשר אלי בשש בבוקר', 'אנא צייץ ב- bestbuy שאני לא מרוצה מהשירות שלהם היום', 'נגן מוזיקה מלודית', \"אני צריך לשמוע עכשיו את השיר 'Notorious Thugs' של Bone Thugs\", 'יש לרשום את כל האירועים ביומן שלי לחודש מרץ', 'אני יכול לקבל את הזמן', 'מה קורה היום בעולם', 'תעשה קצת רעש', 'הצג את האימייל האחרון מאת מארק', 'חפש חדשות על ידוען', 'כתוב בטוויטר ששירות הלקוחות במיקום הזה הוא נורא', \"תראה לי את האימייל האחרון של ג'ק\", 'מה השעה בדנבר', 'תפעיל את ההתראה שלי', 'דוא\"ל על שדרוג לינוקס עבור קרלוס', \"אני רוצה להאזין לאלטון ג'ון בהופעה חיה\", 'תמיד קבע פגישה עם פיל ביום רביעי בערב בשעה חמש ביומן שלי', 'אנא בדוק את תיבת הדואר הנכנס שלי ותגיד לי אם יש הודעות חדשות', 'תפעיל את שיר הביטלס מתוך ספר אודיו', 'כל יום רביעי בערב בחמש אחר הצהריים תזכיר לי לפגוש את פיל', 'אתה יכול לנגן מוזיקת \\u200b\\u200bאימו בבקשה', 'אני צריך להכיר את ההר הגבוה בעולם', 'תכנן את התרכובות הכימיות הדרושות ליצירת סוכר שלא גורם לסוכרת או לעלייה במשקל, אך גם לא מעניק טעם כימי', 'תשמיע מוזיקה מהפלייליסט שלי', 'נגן את רצועת המוזיקה Ride', 'מה יש לרוהן לומר על נישואים כשהוא פוגש אותי היום', 'ספר לי בבקשה לאיזה יום מוגדרת התזכורת לאירוע', 'מה התחזית', 'תקריא דואר אלקטרוני בנושא כימיה', 'מה מתוכנן לשלוש השעות הקרובות', 'הגדר לי שעון מעורר למחר', 'הגדר התראה לתזכורת', 'אני צריך שהפגישה הזו תפורסם בלוח השנה', 'קבע שעתיים בלוק זמן פנוי בשבת', 'כמה קומות יש לבניין האמפייר סטייט', 'הפעל את הפרק האחרון של המוסך התת-קרקעי של סטיבן הקטן', 'תזכיר לי בלילה לפני התור לרופא', 'איפה הפגישה שלי היום ב-12 בצהריים', 'האם יש לי אימייל חדש מריאן', 'תן לי עובדה גיאוגרפית על וילנה', 'איך היה מזג האוויר השבוע', 'קבע לי תזכורת למפגש עם מועדון הנשים ביום ראשון אחרי הכנסייה', 'העלה את סדר היום שלי', 'האם מזג האוויר אמור להיות נחמד היום', 'כמה קילומטרים זה בין אילינוי ללואיזיאנה אלכסה', 'חדשות העולם הנוכחיות', 'אלקסה נגן את רשימת ההשמעה השנייה שלי', 'צייץ לשירות הלקוחות של איקאה את ההודעה הבאה: \"אני לא מרוצה מהמוצר החדש\"', \"כמה משלם אלטון ג'ון עבור חליפותיו\", 'אנא שים את ערוץ אפ-אם תשעים ושלוש נקודות שמונה', 'מה החדשות מהמקור', 'עם מי יש לי פגישה בתשעה עשר בינואר אחרי הצהריים', 'הטלפון החדש ביותר של סמסונג', 'הבא לי כותרות ראשיות', 'האם יש לי מיילים חדשים', 'תזכיר לי בשעה חמש אחר הצהריים שיש לי פגישה', 'פרסם את זה בפייסבוק שלי', 'האם נותרו תזכורות', 'הפעל את תחנת הרדיו המקומית', 'בדוק את לקוח הדוא\"ל', 'איך לוח הזמנים שלי היום', 'הזכר לי שיש לי פגישה בשבע בערב', 'אני רוצה לשמוע את מהדורת הבוקר', 'אני צריך לקחת מטריה הערב', 'באיזו שעה יש לי מסיבה של סוזן', 'תן לי את כל מה שאתה יודע על בוב דין', 'שזאם', 'האם אני צריך מעיל גשם היום', 'האם יהיה שמשי בסוף השבוע הזה', 'האם טום שלח לי דוא\"ל', 'סירי פתחי את טוויטר וצייצי  \"תפרי השטיח שלכם נפתח תוך פחות מחודש\"', 'מה השעה בחצי המזרחי של ארצות הברית כרגע', 'מהי אוכלוסיית פלורידה', 'אני רוצה לדעת את החדשות המקומיות האחרונות של העיר', 'הוסף את שיעור הספינינג שלי ליומן בשבת בשעה שבע בבוקר', 'תן לי את לוח הזמנים', 'תזכיר לי כשאמא שולחת לי דוא\"ל', 'האם קים קרדשיאן נשואה', 'תן לי את מצב מזג האוויר של מנהטן', 'קבע מחדש פגישה', 'צייץ: \"אני מרגיש טוב\" בטוויטר', 'הגדר אירוע חוזר בלוח השנה', 'האם רוברט שלח לי מיילים חדשים', 'תן לי את החדשות הכי חשובות של היום', 'אני צריך להביא מעיל היום', 'אנא הזכר לי בשעה חמש אחר הצהריים שיש לי אירוע בשעה שמונה בבוקר', 'מה השעה בקליפורניה', 'חדשות סלב', 'קר בחוץ', 'ספר לי על האירועים שלי', 'אנא מצא חדשות חדשות', 'היי סירי מה השעה', 'האם יורד שלג בסיאטל', 'האם יש רוח היום', 'המשך את השיר מתוך ספר השמע מאת מדונה', 'איך המצב בשיקגו', 'באיזו שעה מתקיימת הפגישה שלי לפרויקט', 'ההתראות שלי', 'מה עם אשווין', 'תביא לי קצת מוזיקה', 'צור תזכורת לאירוע לפגישה עם מונה ביום שלישי', 'האם תוכל לספק את האירועים הקרובים שלי', 'התריע לי שלושים דקות לפני הפגישה שלי בשעה שלוש אחר הצהריים מחר', 'פתח את אפליקציית החדשות המקומית', 'נגן מוסיקה של דייוויד גואטה', 'בני כמה הילדים של קים קרדשיאן', 'הודעה על מדיניות הממשלה החדשה', 'איך האקלים היום', 'הוסף את האירוע הזה ליומן שלי', 'נגן שבעת ההרגלים של אנשים אפקטיביים', \"אנא שלח הודעה כאשר ג'ון עונה\", 'הגדר פגישה שבועית ליום שישי בשעה תשע בבוקר', 'היכן ממוקמת הודו', 'האם יהיה חם יותר בשבוע הבא', 'כמה קר בחוץ', 'הזכר לי את זמן הפגישה בשעה שבע בערב ביום שני הבא', 'הזמן בבקשה', 'ספר לי על ההיסטוריה של אמזון', 'אני צריך לדעת אם יש לי תזכורות חדשות', 'האם יש לי פגישה ביום רביעי הבא', 'נגן \"אהבה אחת\"', 'אילו תזכורות יש לי היום', 'העלה טופס תלונה', 'הייתי רוצה לדעת יותר על האירוע המתוכנן', 'פתח אירוע חוזר', 'כותרות ארה\"ב היום', 'האם זה הולך להתחמם בקרוב', 'אמור לחברה שהשירות שלהם גרוע', 'מה יש בלוח השנה שלי החודש', 'איזה אזור זמן הוא אריזונה', 'אנא הגדר לי תזכורת למשהו בזמן כלשהו', 'הזכר לי לפני יום שני', 'מהו הנשיא השש עשרה', 'כותרות ספורט בבקשה', 'האם יש סערה כרגע', 'כמה קלוריות יש בתפוח', 'האם יש דוא\"ל חדש', 'צייץ לשם החברה שלא קיבלתי את ההזמנה שלי בזמן', \"הוסף ליומן מסיבת יום הולדת מחר בשעה שתיים בצהריים לג'יין בביתה\", 'הפעל ערוץ רדיו עשר', 'האם קיבלתי מיילים לאחרונה', 'איך מזג האוויר השבוע', 'האם יש מיילים חדשים משם', 'מה התאריך היום', 'ספר לי עוד על הבחירות לנשיאות', 'האם עדיף להשקיע או לחסוך', 'האם לדעתך ירד גשם היום', 'האם תוכל לקבוע לי תור לתספורת בראשון לאפריל בססקאטון', 'מה מיצגים סרטים ורודים', 'שנה הגדרות התראה', 'האם תוכל ליצור אירוע לליל שישי עם אמי, מאיה ומקנזי', 'מדיניות חדשה', 'הגדר שעון מעורר לזמן', 'מה השעה במוסקבה עכשיו', 'אילו שעונים מעוררים יש לי מתוכננים למחר', 'איזו מדינה תוכל להמיר את הסכום הגבוה ביותר מתוך אלף דולר אמריקאי', 'תזכיר לי לשלם את החשבונות שלי בתחילת כל חודש', 'מה הערך הגיאוגרפי של הר הגעש הגדול', 'פתח התראה', 'כמה מעריצים יש לאותו אדם בערך', 'הגדר שעון מעורר להעיר אותי בשעה שש בבוקר מחר', 'תזכיר לי שיש לי פגישה בשלוש אחר הצהריים מחר', 'הייתי רוצה לשמוע את רשימת ההשמעה שיצרתי לחתונה שלי', 'חפש דוא\"ל מהבוס שלי מייקל', 'האם יום האם נופל ביום ראשון', 'מה החדשות', 'יהיה נחמד אם תפרסם סטטוס בשבילי', 'מצא לי שיר פופ טוב', 'תוכל לבדוק את התזכורות ולהגיד לי מה עוד נותר', 'צייץ עבורי תלונה על עבודת הניקוז', 'אני רוצה להאזין למוזיקה קלאסית', 'האם תוכל להוסיף שיעור הוקי ימי ראשון ליומן שלי כאירוע חוזר', 'איזה משחק וידאו כדאי לי לשחק עכשיו', \"האם מייקל ג'קסון באמת מת\", 'תביא לי את אוסטין בסיריוס', \"כמה גבוה ג'וב בראיינט\", 'מה תחזית מזג האוויר', 'מה יהיה מזג האוויר מחר במומבאי', 'השמע את רשימת ההשמעה של דיוויד בואי', 'מה האירועים הבאים שלי', 'מהי הטמפרטורה הנוכחית באוסטין', 'הגדר שעון מעורר לשעה חמש בבוקר', 'איפה הפגישה של יום שלישי בבוקר', 'כמה עמוס לוח הזמנים שלי היום', 'מה האירועים הקרובים', 'מה הופיע בחדשות לאחרונה', 'האם אתה יכול לנגן מוזיקה אקוסטית ללא פרסומות', 'הצג לי כתבות על האייפון 8 החדש', 'קבע אירוע', \"הישגיו של סאצ'ין טנדולקר\", 'פרסם את המיקום הנוכחי שלי באינסטגרם', 'ספר עוד על האירוע', 'הבחירה שלי לשחק אובייקט מהאחרון', 'אני רוצה להאזין למוזיקת \\u200b\\u200bגוספל', 'אנא קבע תזכורת לשירותי כנסייה בימי ראשון בשעה 11 בבוקר', 'מה קורה עם הנשיא טראמפ', 'הגדר שעון מעורר לשעה 12', 'חזור על התזכורות שלי מאתמול', \"השמע את בילי ג'ואל\", 'הזהר אותי כשהטמפרטורה החיצונית מגיעה ל-68 מעלות', 'הראה לי תחזית', 'קבע אירוע ביומן שלי בכל יום שלישי', 'פתח את טוויטר הקלד את התלונה שלי ופרסם לשירות הלקוחות', 'הגדר את השעון המעורר שלי לשעה 8 בבוקר', 'מה קורה בעולם כרגע', \"נגן לי רדיו פרמבורס כשהג'ינה ודסטה משדרים\", 'ברדיו', 'השמע לי את בוהמיאן רפסודי', 'האם יש לי מיילים חדשים היום', 'האם יש משהו בלוח השנה שלי', 'מהו היום האחרון של החודש', 'הוסף ליומן את ה-1 באוקטובר בשעה שתיים בצהריים לארוחת צהריים עם אן', 'האם אני צריך ללבוש מעיל גשם היום', \"קרא לי מאמר חדשות על ג'ף סשנס\", 'האם מזג האוויר רע בניו יורק כרגע', 'האם אתה יודע איזה יום היום', 'מה בלוח השנה שלי היום', 'הגדר התראה לפגישה עם הבוס', 'מה קורה היום עם סוריה', \"האם אצטרך ז'קט\", 'הצג את החדשות', 'הזכר לי על פגישה למחר', 'השמיע מוזיקה בשבילי', 'לוח הזמנים שלי', 'אלכסה נגני את רשימת ההשמעה של המדינה שלי', 'מזג האוויר השבוע', 'עזור לי לדעת את הרקע של האדם מורגן פרימן', 'איך מזג האוויר בשיקגו', 'באיזה תיכון למדה האלי ברי', 'מה הסיכוי לברד השבוע', 'השג חדשות אחרונות', \"מה יום הולדתו של ג'סטין ביבר\", 'האם יש פגישות צוות בלוח הזמנים החודש', 'העבר תלונה בנוגע לבעיות במהירות האינטרנט', 'האם אני צריך למרוח קרם הגנה כשאני הולך למועדון גולף', 'עדכן את הסטטוס שלי', 'קבע את ה-21 באפריל בכל שנה כיום הולדת של אבא', 'נפגשים בשמונה בבוקר עד שתים עשרה אחר הצהריים', 'איזה צבע  כדורסל', 'הפעל מוסיקה', 'האם יש מיילים חדשים', 'אנא ספר מה יהיה מזג האוויר בוושינגטון הבירה לשבוע הקרוב', 'האם ירד גשם', 'אנא צור שעון מעורר חדש', 'מהי בירת וושינגטון', 'הוסף יום תשלום ללוח השנה שלי לכל יום חמישי שני', 'אני רוצה למצוא מוזיקת \\u200b\\u200bרוק טובה', 'אם החבילה שלי מראה שהיא מיועדת למסירה מחר, תוכל להגדיר שעון מעורר שעה לאחר מכן? תודה', 'הגדר שעון מעורר חצי שעה לאחר זמן הארוחה שלי', 'תן לי פרטים על מזג האוויר ב-15 במרץ', 'היי גוגל אמור לי אילו שעונים מעוררים מוגדרים עבורי', 'מה התאריך היום', 'עצוב', 'מה השעה בשעון', 'איך נראית התחזית לחמישה ימים בניו יורק', 'פרסם תמונה זו בטוויטר', 'הוסף לתזכורות שלי לצפות בסרט החדש היום בשעה תשע בערב', 'ה-29 במרץ נופל על איזה יום', 'אחרי השיר הזה נגן אווירה', 'צייץ עבורי את התלונה על מניעת מחלות', 'מה קורה בחדשות העולם', 'הודע לחנות ההמבורגרים שהם טעו בהזמנה שלי והייתי צריך להמתין שעה נוספת', 'האם אני צריך מעיל היום', 'האם תוכל להוסיף את ארוחת הערב ליום ההולדת של אחי ב-23 במרץ ב\"רסק\"', 'מה קרה עם זה', 'ספר לי את העדכונים האחרונים של ניו יורק', 'מה הגובה של הר האוורסט', 'כמה אני מאחר', 'מה המיקום של קנטאקי', 'האם יש משהו שאני צריך להיות מודע אליו', 'אילו פגישות יש לי היום', 'הזכר לי שאני צריך לראות את האנה בנוגע לפרויקט המתמטיקה שלנו ביום שלישי הבא בשעה עשר בערב', 'השמע רדיו', 'האם יורד שלג כרגע', 'האם יש לי מיילים', 'האם פארק ילוסטון הוא הפארק הגדול ביותר', 'מה יש לי בלוח הזמנים לבוקר מחר', 'האם התקבל מייל עם קובץ מצורף', 'הזכר לי בזמן לבצע משימה', \"תוכל לבדוק אם קיבלתי מייל מג'ון\", 'ספר על המיילים החדשים שלי', \"פרסם שאני הולך למקדונלד'ס במנהטן\", 'אנא שים את התמונה הזו באינסטגרם שלי', 'האם השעון המעורר שלי מוגדר לשבע בבוקר', 'פתח את האפלקיציה והמשך לנגן את הספר שהאזנתי לו', 'האם יש לי מיילים מרוברט', 'האם אני צריך להשתמש בקרם הגנה לפני שאני נפגש עם חבר שלי לארוחת צהריים', 'הצג את האירועים הקרובים שלי', 'נגן שיר חדש של ריהאנה', 'האם יורד גשם היום', 'האם הטמפרטורה תהיה מעל נקודת הקיפאון ביום רביעי', 'צייץ לביביבי שבורגר קינג יקר מדי', 'תעבור על תוכן דוא\"ל', 'מצא לי חדשות על הנאום של טראמפ', 'מארבע לשש מתי יש לי הפסקה', 'אני אשתתף בחתונה של לילי בשבוע הבא עם החבר שלי אנא הוסף זאת ליומן שלי', 'אילו שעונים מעוררים מוגדרים עבורי', 'צור תזכורת חוזרת לשיעור היוגה שלי בכל יום בצהריים', 'תוכל לומר לי מה התאריך היום', 'תוכל לומר לי מה הטמפרטורה לשבת בלילה', \"האם אני צריך ז'קט אחר הצהריים\", 'נגן את רשימת ההשמעה', 'צור אירוע', 'קבע פגישה עם העובדים שלנו בנוגע לבונוס', 'אנא רשום את השולחים של המיילים שהתקבלו בשלושת הימים האחרונים', 'מה קורה בחדשות', 'השאר ביקורת שלילית על חברה', 'האם יש לי מייל חדש מריאן', 'התחל את רשימת פסקול הסרטים שלי', 'מה מזג האוויר בקוד דואר 32,234', 'מוסיקה שתיים', \"מהיכן ג'ורג' וו. בוש\", 'אני רוצה לקבל התראה שעתית על חדשות פיננסיות', 'באילו סרטים שיחק קלאנסי בראון', 'ספר לי מה קרה היום בין שמונה לתשע בבוקר', 'אני רוצה להאזין לרשימת השמעה ללימודים', 'הוסף אירוע ליומן', 'מה היה נושא המייל האחרון שלי לטום', 'מה השעה כרגע בניו יורק', 'אנא קבע את אירוע הפגישה הרגיל לנסיעות העבודה שלנו', 'איך מזג האוויר יהיה השבוע', 'הזכר לי ללכת לישון לפני אחת בלילה בכל יום', 'נגן את כל השירים הלטיניים האהובים עלי', 'כן אני רוצה לבדוק', 'מה התאריך היום', 'אילו פגישות היו לי בשבוע שעבר', 'נגן את עשרים וחמשת הלהיטים המובילים', 'הודע לי כאשר שכר הדירה שלי מגיע לתשלום', 'כמה גבוה הר האוורסט', 'הוסף אירוע \"מועדון הספרים בבית של דבי ביום רביעי בלילה\"', 'איך מזג האוויר כרגע', 'אמור לי את החדשות האחרונות מ-בי בי סי ספורט\\n', 'אנא הגדר שעון מעורר לפגישה של מחר בשעה שבע בבוקר', 'התחל את רשימת ההשמעה המועדפת עלי', 'אני רוצה שעון מעורר לשש בבוקר בכל יום', 'האם אני צריך מעיל קל או כבד היום', 'אילו שעונים מעוררים מוגדרים עבורי', 'כמה עולה אייפון 15', 'הצג לי את כל המיילים שהתקבלו לאחרונה', 'מתי נולד בריאן אדמס', 'נגן שיר', 'תזכיר לי כל יום בחמש בבוקר', 'צור אירוע עם שעון מעורר לפגישה בעוד שעתיים', 'האם יש לי מיילים בשעה האחרונה', 'הגדר שעון מעורר חדש לשעה חמש בבוקר', 'הראה לי מיילים חדשים', 'נגן את תוכנית הבוקר מאתמול', 'נגן סרט טוב בטלוויזיה שלי', 'אנא הזכר לי את תור הרופא שלי ב-13 ביולי', 'השמע שיר דיסקו', 'יש לעדכן את היומן שלי עם כל אירועי מרץ', 'הגדר שעון מעורר לתשע בערב', 'תן לי את הזמן בוושינגטון', 'תזכיר לי בשעה חמש אחר הצהריים', 'האם עלי לחבוש כובע היום', 'הזכר לי לכתוב אימייל לאחותי', 'הזמן לי כרטיס טיסה למאדים בשנה הבאה', 'נגן שיר', 'תוכל לקרוא לי את התזכורות הבאות שלי', 'צור שעון מעורר להעיר אותי בעוד חמש שעות', 'נגן מוזיקה שנוספה לאחרונה', 'אלקסה, נגן את רשימת ההשמעה האחרונה שלי', 'מזג האוויר בעיר הולדתי', 'איפה משולש ברמודה', 'תאריך נוכחי', 'האם מזג האוויר נורמלי היום', 'המשך לנגן מאיפה שהפסקתי בספר ', 'האם המלחמה בסוריה הסתיימה', \"נגן ג'אז מהאלבום האחרון של ג'ניפר\", \"מהם עשרים הלהיטים המובילים בג'אז\", 'מה השעה', 'הצג את לוח הזמנים שלי להיום', 'האם יש סיכוי לשלג ביום רביעי', 'בדוק את כל המיילים החדשים וסמן אותם בכוכב', 'נגן את השיר שלא שמעתי מחודש שעבר', 'בחר תחנה שתרצה', 'הזכר לי שיש לי פגישה עם קסי לאירוע אולה שמתקיים מחר', 'אלכס אמר לי שהוא ישלח אימייל בנוגע למחיר המכונה, אנא בדוק אם הוא הגיע', 'תוכל לומר לי מה מזג האוויר באלבמה מחר', 'תוכל לומר לי מה השעה', 'הוסף אירוע ליומן וחזור עליו', 'שאל את החבר שלי איך מזג האוויר שם', 'האם מזג האוויר רגוע היום', 'ארגן פגישה ביום חמישי', 'אנא עדכן אותי לגבי השעה הנוכחית בלונדון', 'מיילים חדשים שהתקבלו בשעה האחרונה', 'איזה יום בשבוע הוא ליל כל הקדושים', 'השמיעו מוזיקה קלאסית', 'צור אירוע חדש בכל יום שישי בצהריים', 'נגן את רשימת ההשמעה המוטיבציונית שלי', \"נגן את המוזיקה של ג'סטין ביבר\", 'מה התאריך של מחר', 'מה חדשות הבידור הכי לוהטות', 'האם אני עובד ב-24 בחודש', 'הזכר לי את היום שבו האירוע הזה אמור להתקיים', 'איזה תאריך היום', 'השמיעו מוזיקה נבחרת', 'אני צריך לדעת מה התאריך היום', 'היסטוריה של אברהם לינקולן', 'הסבר על בוב דילן', 'אסוף את כל השירים שלי של מדונה', 'פתח ספר', 'דלג לשיר הבא', 'חזור על פעולה יומית', 'מה מזג האוויר במיניאפוליס', 'כמה קלוריות שרפתי בין שלוש לחמש היום', 'תוכל לפרסם את העסק שלי בפייסבוק', 'הודע על כל ימי ההולדת בשבוע הבא', 'אני רוצה לדעת מה מזג האוויר בסן פרנסיסקו', 'תן לי את דוח מזג האוויר לשבוע זה', 'ביום שבו פרויקט אחד צריך להיות מוכן האם לבתי יש הופעה', 'פגישה בלוח השנה של יולי', \"כתוב תגובה למייל של ג'ון\", 'האם יש מיילים שלא נקראו מאנשי הקשר שלי', 'מה הטמפרטורה כרגע בניו יורק', \"באיזו שנה נולד צ'אק נוריס\", 'הוסף תזכורת לאירוע בלוח השנה ליום חמישי בשעה שבע בבוקר ותן לה את השם \"פגישת מכירות\"', 'איך מזג האוויר הנוכחי בוושינגטון הבירה', 'תן לי את מזג האוויר עבור מרסד בשעה שלוש אחר הצהריים', 'בדוק אותי בבית בפייסבוק', 'כמה שוקל תפוז', 'תן לי עדכונים על המצב בצרפת', \"בני זוג של אנג'לינה ג'ולי\", 'הפעל קצת מוזיקה', 'יש לי פגישה בשעה שתיים בצהריים?', 'הגדר שעון לשעה תשע בבוקר בסופי השבוע', 'תן לי את החדשות על האייפון', \"מה תחזית מזג האוויר בבייג'ין\", 'האם יש מיילים חדשים מאז שעזבתי', 'ה-22 במאי הוא יום ההולדת שלי ואני רוצה לדעת איזה יום הוא ה-23 במאי', 'איך מזג האוויר', 'האם מזג האוויר יהיה חם או קר מחר', 'בדוק את הדואר עם הנושא', \"השמע מוזיקת ג'אז רגועה\", 'השמע \"אני שורדת\" של דסטיני\\'ס צ\\'יילד', 'האם ירד גשם במנילה מאוחר יותר', 'ארגן פגישה להיום בבוקר', 'מה התזכורות שעדיין ממתינות', 'האם מחר תהיה טמפרטורה חמה', 'השמע מוזיקת ראפ', 'השמע חזרות בבקשה', 'מה תחזית מזג האוויר להיום', 'בת כמה מדונה', 'מישהו שלח לי מייל היום', 'מה שלום בן הזוג של אובמה', 'יש לי מיילים חדשים', ' מה מזג האוויר בעיר הולדתי', 'השמע את רשימת ההשמעה שלי לאימונים בספוטיפיי', 'קבע פגישה עם פיטר פרנסיס ליום שני בשעה שתיים בצהריים', 'ספר לי בקצרה על משחק הכדורגל של היום', ' תזכיר לי לבדוק את התנור בעוד חמש עשרה דקות', 'השתמש בכפתור השמעה הפסקה', 'האם ירד גשם בערב', 'הצג לי את מזג האוויר בדאלאס', 'האם אני צריך לקחת מטריה הערב', 'היי פרסם את התלונה שלי במיקרוסופט בטוויטר', 'מה בחדשות היום', \"איך מת מייקל ג'קסון\", 'אנא הגדר שעון מעורר בשבילי', 'אשר שעון מעורר למחר בבוקר', 'הבא רדיו', 'הצג תזכורות להיום', 'אנא אמור לי את הנקודות העיקריות של פגישת מאתיים שלי מהצהריים', 'מה השווי הנקי של הסלבריטאי', 'אנא אשר את השעון המעורר הבא', 'בדוק חדשות עדכניות', 'אנא המשך את השיר הנוכחי של מסטי', 'מה הסיכוי לגשם היום', 'בדוק אם יש לי דוא\"ל כלשהו', 'מוסיקה אר אנד בי', 'אני צריך לדעת מה השעה כרגע בעיר ניו יורק', 'השמע את \"אלוהי הדברים הקטנים\"', 'האם המייל מכריס עוסק בעבודה', 'השמע את קלאריטי מאת זד', 'תזכיר לי את הפגישה עם מיס בולנד ביום רביעי בשעה שמונה בבוקר ביום שלישי בשעה שבע בערב', 'קבע שעון מעורר לשבע בבוקר', 'צייץ תלונה לשירות לקוחות', \"אני רוצה חמש שעות פנויות ליום הולדת של ג'ן בשבת הזו\", 'הפעל את הרדיו', 'כמה ילדים יש לסנדרה בולוק', \"בן כמה יו ג'קמן\", 'חבר ציוץ ליוטיוב', 'אני רוצה לשמוע שיר מאת סוני ושר, תוכל להשמיע את זה', 'היום שמשי', 'מה קורה כאן', 'מהם השעונים המעוררים שלי', 'האם יש לי הודעות בתיבת הדואר הנכנס שלי בבקשה', \"גוגל מייקל ג'קסון\", 'פרסם בפינטרסט על מתכון העוף החדש שלי', \"אני צריך לקבוע פגישה עם ניית'ן ביום שני בשעה תשע בבוקר\", 'הודע לי שעתיים לפני הפגישה שלי', 'ספר לי על שון קונרי', 'ביום חמישי בשעה שלוש אחר הצהריים יש ישיבת מורים שאני צריך לזכור אותה', 'השמע את הפלייליסט ששמענו אתמול בלילה', 'צור פוסט', 'פתח חדשות', 'כמה תזכורות ממתינות יש לי', 'השמע מוזיקה של טיילור סוויפט', 'קבע פגישה על ידי שאלתך', 'הפעל את הרדיו שלי', 'תזכיר לי על הפגישה של מחר בערב', 'הראה לי מזג אוויר של ימי הולדת', 'צייץ תלונה לעירייה המקומית', \"אשמח לשמוע כל שיר שנתתי לו חמישה כוכבים של סרז' גינסבורג\", 'עוזר, השמע בבקשה שיר של רויקסופ\\n', 'האם זה יהיה סוער היום', 'התחל את ספר האודיו שלי מהמקום שהפסקתי', 'נגן עבורי את התוכנית אמריקן איידול', 'הזכר לי על הפגישה שלי בשעה שלוש מחר, ארבע שעות מראש', 'היום יום ההולדת של בעלי', 'פרסם הודעה בפייסבוק', 'ביום ההולדת של אחותי שלח לה פרחים', 'זמן לאימון', 'ציוץ תלונה לדומינו', 'כתוב ציוץ לחברה הזו', 'מצא את כל המיילים שמכילים את הנושא הבא', \"אנא ספר לי מתי מסיבת יום ההולדת של ג'ני\", 'אנא הזכיר לי ללכת לחדר כושר בכל יום שני בבוקר ביום ראשון בערב', 'כמה זה הררי בסקרמנטו', 'מצא לי את החדשות הכי חשובות של היום', 'מה ההתראות שלי', \"יש להקה טובה שמנגנת הערב בתשע בבר ג'אז בר אני רוצה ללכת\", 'מה התאריך בשבת הבאה', 'יש לי פגישה מחר בבוקר בשעה עשר אנא הזכר לי', 'אילו אירועים יש לי לשבוע הקרוב', 'הזכר לי את הפגישה שלי בשעה שתיים', 'הוסף אותי ליום שלישי העשרים ואחת בשעה עשר עם אל', 'מה ההר הגבוה ביותר בעולם', 'מתי נולדה מדונה', 'נגן מוסיקה שאני אוהב', 'איזה אירוע הוא הבא', 'האם יש לי משהו מתוכנן לשעה אחת בצהריים ביום שני הבא', 'האם יירד גשם ביום שישי', 'אנא פתח את אפליקציית המוזיקה והמשך לנגן', 'פרסם בפייסבוק שאני בבית', 'בדוק את החדשות האחרונות', 'קרא לי את לוח השנה שלי לחודש', 'מה אורך נהר אמזון', 'פרסם הודעה זו בפייסבוק', 'פגישות חוזרות בימי שני', 'האם אני צריך לאסוף את הילדים מאיפשהו היום', 'מה מידות מזרן קווין', 'מה הולך להיות התרופה לסרטן', 'אנא החלף לערוץ רדיו קלאסיק', 'הצג לי את לוח השנה שלי', 'תן לי חדשות טריות', 'היי גוגל חם מדי בחוץ מה הטמפרטורה אחר הצהריים', 'האם תוכל לנגן מוזיקה בבקשה', 'מה מזג האוויר השבוע', 'הוסף את ויליאם זה יום ההולדת שלי הבא', 'האם יש היום אירוע כלשהו בלוח השנה שלי', 'נגן גבעות ווטרינג מהמקום שהפסקתי', 'אני צריך לזכור להגיע לחנויות לפני שהן נסגרות', \"בואו נקשיב לאיזה ג'אז\", 'הוסף אירוע ליומן שלי', 'האם יש ימי הולדת בלוח השנה שלי', 'מה עומד על סדר היום להיום', 'מה רכס ההרים הגבוה ביותר בעולם', 'ספר לי על התזכורת הכי ישנה', 'מי זאת טיילור סוויפט', 'האם בראו אלסקה מעל קיפאון במהלך השנה', 'מה היה יום הולדתו של מרטין לותר קינג', 'הצג שעונים מעוררים', 'מתי יום הבנק', 'היום זה איזה יום', 'כמה רחוק אטלנטה', 'אנא המשך לקרוא את \"משחקי הרעב\"', 'מה השעה בדאלאס', 'מה צבע השמיים', 'היי יש לי מיילים חדשים', 'אתה יכול להזכיר לי ללכת לפגישה עם רופא שיניים יום אחד לפני כן', 'השמע לי רשימת השמעה אוטומטית מבוססת על שירים שנשמעו באפליקציית מוסיקה השבוע', 'הוסף אירועים', 'מידע על אירועים קרובים', 'רענן את תיבת הדואר האלקטרוני', 'הוסף אירוע חדש ללוח שנה וקרא לו אנה', 'מה השעה עכשיו בניו יורק', 'נגן שיר הנושא של טיטאניק', 'תכנית ווי ברדיו בי בי סי', 'מצא לי את החברה המושלמת', 'שלח הודעה לחברי הקבוצה ולהזכיר להם את התאריך החדש לפגישה', 'אנא הגדר שעון מעורר לטלפונים הניידים שלי', 'בדוק את תיבת הדואר שלי ותיידע אם יש מייל לאחר שבע בבוקר היום', 'אני רוצה להאזין לתחנה 101.1', 'השמע את הפלייליסט החדש של בוב דילן', 'אתה יכול לפתוח ביטלס', 'השמיע מוזיקה', 'תזכיר לי לקחת את הדואר בעוד עשר דקות', 'אתה יכול לראות אם יש לי מיילים חדשים', 'מה ברדיו', 'אנא השמע חדשות', 'אנא השמע רוק', 'תפתח ספוטיפיי ותשמע מוזיקה לאימון', 'התאריך של היום', 'איך מזג האוויר בטורונטו', 'מה תכננתי היום', 'תן לי את השעה בפיניקס אריזונה', 'מה יש בחדשות תשע', 'מה הזמן המרכזי', 'מתי ההופעה הכי קרובה בפורד', 'צייץ תלונה לשירות הלקוחות של בית הסטייק הארוך ', 'מה בירת טנזניה', 'המיקום הוא המשרד שלי', \"תוכל לבדוק אם ג'ון כבר השיב למייל שלי\", 'אילו שעונים מעוררים מוגדרים בבוקר', 'השמע שיר מהספר שמע של אלביס פרסלי', 'נגן רק מוסיקה קלאסית', 'האם יש לי מיילים מהונגבין', 'אנא מצא דוא\"ל מחברתי טיפאני', 'מה קווין ספייסי עושה', 'איזה יום היום', 'אנא צייץ שדיירקט טי-וי יש להם שירות לקוחות נורא', 'מה מזג האוויר לידיי', 'תזכיר לי לבדוק חדשות בוקר', 'נגן שיר של ראפ ורוק אחד אחר השני', 'אני רוצה להאזין לרדיו', 'כמה גרמים יש בכוס חמאה', 'אנא אמור לי את התאריך של היום הראשון של החודש הבא', 'כמה שוקלת מכונית ממוצעת', 'אני רוצה לשמוע שיר אחד', 'מוסיקה אחת', 'אילו תאריכים חשובים יש לי בלוח השנה החודש', 'תספר לי על מזג האוויר בניו יורק', 'תספר לי על חייו המוקדמים של דונלד טראמפ', 'האם היה מייל לגבי ההזמנה השגויה באתר סי', 'כותרות אחרונות', 'קבע פגישה עם המנהל מחר בשעה שתיים בצהריים', 'כוון ל-935 ברדיו', 'אתה יכול לנגן את השיר \"אהבה\" בשבילי בבקשה', 'התרע אותי ב', 'כמה ארוך נהר הנילוס', 'נגן שירי פופ', 'תאמר לי מה מזג האוויר הנוכחי בניו יורק', \"האם אני צריך ז'קט בערב\", 'קבע לי תזכורת למפגש משרד לשלושת הימים הבאים', 'ספר לי על מזג האוויר הנוכחי', 'הצג לי אילו זמני שעון מעורר הגדרתי לשבוע', 'תספר לי מה קורה השבוע', 'מה עושה קלינט איסטווד בימים אלו', 'תגיד לי מה השעה כרגע', 'מה השעה בפריז', 'עשה לי שעון מעורר לשמונה ארבעים וחמש בבוקר', 'אנא קבע לי תזכורת למסיבת המשרד בשבת הבאה', 'תאמר לי עשר דקות לפני הפגישה', 'האם יש לי תזכורות בלוח השנה שלי', \"מה התאריך של הצגת בית הספר של ג'סטין\", 'תקרא אירועים קרובים', 'יש לי ארוחת ערב עם אחותי בשבת', 'גוגל האם יש לי פגישות בלוח השנה שלי ליום שישי', 'כמה פגישות יש לי היום בין תשע לחמש אחר הצהריים', 'לאילו שעות שעון מעורר שלי מכוונים', 'נגן שיר \"עיניים רעבות\"', 'הפעל את רדיו מנגו', 'מידע על סלב', 'האם יש לי משהו מתוכנן למחר', 'האם יהיה מחר יום סוער', 'אנא אמור לי אם יש לי מיילים חדשים', 'על מה האירוע בתשע עשרה במרץ בשעה שתיים', 'איזה יום בשבוע היה ארבעה בפברואר ', 'מה השעה בשיקגו', 'האם יש לי משימות היום', 'תעשה לי שעון מעורר לבוקר', 'פתח תוכנית זו', 'הפעל תשעים שבע', 'תוכל לנגן את ספר האודיו האהוב עליי של קינג קונג', 'הפעל את תחנת הרדיו של פופ', 'אוקיי גוגל איך יהיה מזג האוויר בעשרים במרץ אלפיים ושבע עשרה', 'יש לך את השעה', 'קבע שעון מעורר לשעה עשר בבוקר מחר ותן לו תווית פגישה', 'מי מונה לסגן המושל של אוטר פראדש', 'מה השעה בדאלאס', 'כוון רדיו', 'ספר על האירוע של יום המחרת', 'הראה את החדשות של היום על הגירה', 'אלכסה תנגני את  \"מסזבת ריקודים של פנדורה\"', 'ספר לי על האירועים הקרובים שלי', 'בעשרים ושלושה במרץ אני צריך ללכת לפגוש את הדודה שלי', 'האם מחר יהיה חם', 'כמה זמן נותר לפגישה הבאה שלי עם הרופא', 'מה השעה כרגע באוקיאנוס השקט', 'הגדר תזכורת לשעה שלוש', 'גוגל מיוזיק מצא לי קצת מוזיקה של אניה לשמוע', 'בדוק את ההודעה החדשה בתיבת הדואר הנכנס', 'מזג אוויר בדאקה', 'בדוק את סדר היום שלי להיום', 'זקוק למידע על אירועים לפני סיום המשמרת', 'מה המסה של מיקרוגל', 'כווני למופע הבוקר של קורן בבקשה', 'מהי עובדה גיאוגרפית באזור זה', 'פגישת משימות', 'פתח את התזכורות שלי', 'נגן לי את תחנת הרדיו מספר אחת', 'הפעל את התקליט החדש של מליקה', 'הצג את השעה הנוכחית', 'איפה העשרים ושניים נופל בחודש הזה', 'האם אוכל לייבש את הבגדים שלי על הקו', 'שנה את תחנת הרדיו', 'האם אני פנוי ביום שישי אחר הצהריים', 'אני רוצה תזכורת לפגישה של העורך ביום חמישי בשעה שתיים', 'חדשות מהעיר', 'מה מתוכנן להיום', 'אתה יכול לנגן שירים על פרידות', 'תזכיר לי על הפגישה עם רופא השיניים בלילה הקודם', 'מה קורה בחוץ', 'מה השעה באנגליה', 'תזכיר לי להתקשר לבנק ביום חמישי הבא', 'הוסף תזכורת לרביעי באפריל ללכת לרופא השיניים', 'מה בירת ניו יורק', 'מי בן הזוג של אובמה', 'תן לי לדעת על חדשות הבחירות', 'כמה שעונים מעוררים יש לי', 'חזור לספר האודיו', 'נגן את השיר שנמצא בסרט רנגון', 'קבע פגישה עם מר פורמן ליום חמישי בשתיים אחר הצהריים', 'תלונה למחלקה על איכות האוכל', 'מה קרה בשבוע שעבר', 'הפעל את החדשות', \"היי איך יהיה מזג האוויר היום בלוס אנג'לס קליפורניה\", 'קבע פגישה עם טניה שלי בכל יום חמישי בשעה עשר בבוקר', 'הוסף מסיבה בניו יורק לסוף השבוע הזה', 'מה האוכלוסייה של אלבמה', 'מהם המיילים החדשים שלי', 'אני רוצה שתשים את השיר \"היזהר\"', 'נגן לי מוזיקה של מדונה', 'האם יהיה שלג השבוע', 'הראה לי מה השעה', 'אתה יכול לתת את התאריך היום', 'תזכיר לי לצאת לקניות כל שבוע', 'מחר יום ההולדת של אמא שלי', 'תאריך', 'בבקשה רשום את כל השעונים הפעילים', 'מה תכננתי ליום שישי', 'תן לי לדעת אם יש אימיילים נכנסים בשעה האחרונה בבקשה', 'היום הוא יום שמש או לא', \"צור אירוע ליום ההולדת של ג'ון\", 'קרא לי את השעונים המעוריים', 'כמה רחוקה סיאטל', 'הפעל שיר \"גלישה בארצות הברית\"', 'תגיד לי מה היו החדשות של היום מספק החדשות', 'תדליק את הרדיו לתחנת קיס אף אם', 'החדשות האחרונות על מכוניות', 'אתה יכול לסנכרן את לוח השנה שלי עם מארק', 'מהו הנהר הארוך ביותר בכדור הארץ', 'תן לי עיתון', \"אני רוצה להאזין לג'ורג' סטרייט\", 'לחץ על שמור', 'רענן תלונה זו', 'אלכסה תדליקי את תחנת פי די אר איי אם', 'תזכיר לי להתקשר לבת שלי דבר ראשון ביום חמישי לאחל לה יום נישואין שמח', \"ג'ונתן רוצה להיפגש בימי ראשון בשעה אחת עשרה אתה יכול להזכיר לי במוצאי שבת כל שבוע\", 'האם החמישה עשר באפריל הוא בסוף השבוע', \"האם קיבלתי תשובות מג'אן\", 'האם יש לי אימייל חדש מהחברה שלי', 'תוסיף את השיר גולד דיגר לרשימת ההשמעה', 'נגן לי מוזיקה', 'תתכונן לפגישה לפני תחילת האירוע', 'מה השעון המעורר הבא שלי שנקבע', 'מה מזג האוויר לשבוע הלימודים', 'אתה יכול להגיד לי מה השעה', 'איך מזג האוויר מחר', 'איפה נולד מרלון ברנדו', 'כמה שניות נותרו כדי להשלים את השעה הזו', 'בדוק אימיילים שנשלחו לאחרונה מאמא', 'מיילים', 'האם תוכל לפרסם זאת לפייסבוק שלי אני אוהב אותך', 'תן לי עדכונים על המרוץ למועמדות לנשיאות', 'הראה שעונים מעוררים', 'בדוק את השעון המעורר של הפגישה היום', 'פתח נגן מדיה והפעל את הפלייליסט שלי לחדר הכושר', 'בן כמה טוני בנט', 'מה קורה בכדורגל היום', 'האם יש לי מיילים', 'האם תוכל לעדכן אותי במה שמתוכנן לי השבוע', 'מה הרדיוס של המכתש הגדול ביותר על כדור הארץ', \"באיזו שעה אני פוגש את ג'ון מחר\", 'אנא צייץ את התלונה הבאה', 'כתוב ציוץ על בורגר קינג שמביע את אי שביעות הרצון שלי', 'תזכיר לי ללכת לחדר הכושר בכל שני ושלישי', 'שחק בחזרה בשחור', 'תחזית מזג האוויר לשבוע הזה', 'הראה לי את המיילים האחרונים ביותר', \"מזג האוויר באוגוסטה ג'ורג'יה\", 'קרא לי את המייל האחרון מסטפן ושינוי השמן', 'שלח ציוץ על התלונה שלי על המשאית שלי לעיכול הצרכן', 'תאריך ושעה', 'האם ירד שלג', 'האם יש לי תזכורות', 'האם יש רומנים של איליאנה דקרוז', 'מה החדשות האחרונות על אופנה', 'האם תוכל לספר לי את הסיפורים החדשים ביותר על הבית הלבן', 'מה תוכל לספר לי על הריקוד ביום שישי', 'האם יש לי מסיבה מחר שמורה בלוח השנה שלי', 'מתי הפסקת הצהריים שלי', 'האם יש לי דוא\"ל חדש מאריק', 'צייץ תלונה על מערכת ניקוז לקויה', 'שלח לי תזכורת לפגישה שלי הערב', 'האם יש שעון מעורר פעיל', 'האם עלי לקחת מטריה היום', 'השמיע מבחר של מוזיקה קלאסית', 'איפה ראלי', \"נגן מייקל ג'קסון מהפלייליסט שלי\", 'מה האזור הגיאוגרפי של מדגסקר', 'העבר תלונה לסימרן על איכות האוכל', 'בת כמה קים קרדשיאן', 'האם תוכל לחפש על טראמפ', 'אני רוצה לסיים להאזין לספר \"1984\" מהנקודה שבה הפסקתי', 'האם תוכל לספר לי למי יש יום הולדת בפברואר', 'קבע אירוע בלוח השנה וחזור על האירוע כל יום', 'שנה את אירוע יום ההולדת של אמא לחזור כל שנה באותו יום', 'תן רשימה של כל הפגישות היום אחרי שלוש', 'נגן את הפלייליסט ראפ שלי', 'מה החדשות האחרונות על העולם הזה', \"מה תאריך הלידה של צ'אנינג טייטום\", 'מתי מתחילה הפגישה ביום שני', 'הגדר התראה לפגישה', 'תזכיר לי לקחת את התרופה שלי כל יום בשבע בערב לשבועיים הקרובים', 'אחותי בדיוק ילדה', 'כוון את השעון המעורר לזמן', 'הודע לי על הפגישה ביום שלישי', 'צור שעון מעורר לחמש בערב', 'האם מזג האוויר קר שם', 'קרא לי את החדשות המעודכנות ביותר בבי-בי-סי', 'ספר לי חדשות הטכנולוגיה האחרונות', 'השניים עשר ביולי הוא יום ההולדת של בולה ויש לעדכן את לוח השנה שלי עם תאריך זה', \"רד אף אם צ'יט צ'אט כיוונון אוטומטי\", 'כוון שעון מעורר למחר בשתיים אחר הצהריים', 'צייץ לשירות הלקוחות של וולמארט', \"היי נגן לי שיר פופולרי בז'אנר אר אנד בי\", 'איפה נמצאת דרום אסיה', 'בבקשה שים את מסיבת יום ההולדת שלי בלוח השנה', 'ראה את תיבת הדואר הנכנס שלי עבור דואר שקיבלתי משרה', 'מה החדשות האחרונות על איסור הנסיעות', 'ספר לי הכותרות האחרונות ', 'הרץ דואר אלקטרוני אחרון', 'הגדר תאריך חוזר בלוח השנה שלי', 'כוון שעון מעורר לשתיים בלילה', 'קבע תזכורת בלוח השנה לשעה שתיים עשרה בצהריים תחת הכותרת פגישת צהריים', 'קרא את המיילים של פרד', \"מאיפה ג'ון סינה\", 'כתוב עשר מילים באינסטגרם', 'הוסף פגישה במשרד בשעה אחת עשרה בבוקר', 'בבקשה כוון שעון מעורר להיום', \"איך נראה מזג האוויר בלוס אנג'לס\", 'יש לי פגישה מחר בשעה חמש אחר הצהריים עם צוות הפיתוח אל תשכח להזכיר לי שעה קודם לכן', 'פגישות', 'נגן חדשות', 'מה השעה בבקשה', 'האם יש מיילים מקאסי על טום', 'תחזור לנגן את \"האלים האמריקאים\"', 'נגן את התחנה המועדפת עליי', 'אלכסה ציין את מזג האוויר בעיר שלנו', 'האם מזג האוויר מעונן הלילה', 'רוק קלאסי', 'הפעל את פנדורה', 'מה חמשת הנושאים הראשונים באימייל', 'בדוק ומחק מיילים זבל בשבוע האחרון', 'מה יש בארבע עשרה בצהריים שאני יכול ללכת עם התאומים בני השנתיים', 'פתח דוא\"ל למיילים שלא נקראו', 'התחל לשדר ברדיו', 'האם יש לי פגישות אחר הצהריים של יום שישי', 'חינוך', 'אנא נגן מוזיקה', 'לוח הזמנים של היום', 'ספר לי חדשות מרעישות בניו יורק', 'אני צריך להוסיף אירוע בחמישי במאי 2017 בגושן למסיבת הסיום של דני', 'תזכיר לי על הפגישה שלי מחר בשלוש אחר הצהריים', 'קבע תזכורת ב', 'נגן ספוטיפיי', 'כמה קלוריות יש בתפוז', 'האם עליי ללבוש מעיל בחוץ', 'הגש תלונה למטרה', 'בבקשה תגיד לי את השעה', 'תראה לי את המייל האחרון שלי', \"האם ג'ון שלח לי תגובה במייל כבר\", 'מה המצב ומה הכלכלה של הודו כרגע', 'האם יש לי תזכורת', 'קבע פגישה עם הונגבין', \"האם יש לי מייל מחברתי רייצ'ל\", 'פתח את האפליקציה של סי-אן-אן שלי וקרא אותה בשבילי', 'שנה את השיר הזה למקום הראשון', \"תוכל להזמין את מר צ'ן לפגישה ביום שני הבא בשעה שש\", 'מה קורה בעולם', 'תזכיר לי לשלם שכר דירה כל חודש', 'האם מזג האוויר השתנה ליום רביעי', 'איפה ילוסטון', 'הפעל איזו תחנת רדיו', 'נגן פלייליסט מוזיקה קלאסית', 'מה האירועים שלי היום', 'האם יהיה קר מחר', 'תגיד לי משהו על', 'חזור על תזכורת לחג המולד', 'נגן משהו אקראי מאפליקציית המוזיקה', 'בבקשה תעדכן אותי במידע האחרון על בחירות הדראפט של יוסטון טקסנס', 'מהי העיר הגדולה בעולם', 'כמה ימי הולדת יש בעשרים ושלוש', 'האם יש לי משחק כדורגל בסוף השבוע', 'תן לי את מזג האוויר של חמשת הימים האחרונים', 'איפה אשווין', 'כמה מיילים חדשים יש לי', 'מה הבירה של ניגריה', 'אחרי השיר הזה מסתיים אני רוצה לשמוע את \"מלון קליפורניה\"', 'מה חדש בתעשיית המשחקים', 'נגן שיר לפי בחירתך', 'האם יירד גשם בשבת', 'האם מזג האוויר יהיה נחמד בשבת', \"נגן ג'אז\", 'נגן פלייליסט של \"מארון פייב\"', 'אתה יכול בבקשה לתת לי סיכום של כותרות החדשות האחרונות', 'מה נמצא בלוח הזמנים שלי להיום', 'מהפלייליסט שלי סנן שירי תפילה ונגן עכשיו בשבילי', 'הצג תזכורות', 'תזכיר לי כל יום שלישי ללכת לניקוי יבש', 'מתי התור של הרופא ביום שישי', 'תראה לי את המיילים שלי מהשעה האחרונה', 'חדשות מקומיות עולמיות', 'תגיד לי על הר ראשמור', 'הפעל רדיו בי-בי-סי', 'האם יש לי מיילים חדשים מפול', 'פרסם את הסטטוס הזה לחשבון המדיה החברתית שלי', 'שמור את תור הרופא שלי בלוח השנה', 'זמן בניו יורק בבקשה', 'שנה את הסגנון מרוק לקלאסי', 'אני צריך אירוע שייכלל עם האנשים האלו בלבד', 'חדשות תרבות פופולריות', 'נגן מוזיקת \\u200b\\u200bריקוד אלקטרונית אחרי זה', 'צייץ לשירות הצרכנים שהכמות לא נכונה', 'מה החדשות האחרונות על דונלד טראמפ תספר לי על הצהרות שנויות במחלוקת של דונלד טראמפ', 'אתה יכול לנגן מוזיקה של איי אר רחמן', 'התראה אם יש תגובה חדשה מהבוס', 'מוזיקה אהובה', 'באילו סרטים ניל ווקר השתתף', 'מתי יום ההולדת של הבת שלי', 'תן לי חדשות בינלאומיות', \"האם אני צריך לשים ז'קט כשאני יוצא החוצה\", 'איך מזג האוויר בחוץ זה מעונן', 'למה הפוליטיקה הפכה כל כך מפולגת לאחרונה', 'קבע ארוחת צהריים עם אמא ביום שלישי של החודש הזה', 'חשב את חוק אום על פי הערכים האלה', 'תזמן פגישה ל-25 בינואר', 'מה הטמפרטורה בחוץ', 'מהו היום הארוך ביותר בשנה', 'תעשה לי שעון מעורר לחמש בבוקר מחר', 'מה התחזית למחר באזור נאוהרוויל החיצונית', 'קרא לי מיילים חדשים', 'האם קיבלתי מיילים חדשים', 'מה מצב תיבת הדואר הנכנס שלי', 'מהי בירת דנמרק', 'אנא ספר לי איפה היריד הולך להיות השנה', \"האם יש מיילים חדשים של רוברט ג'ונס\", 'קח אותי להודעות דוא\"ל מהבוס שלי', 'תודיע לי על מזג האוויר היום', 'כמה מדינות', 'תגדיר תזכורת ל-12:30 לפגישה עם הבוס', 'חדשות פוליטיות בעלות חשיבות ליום', 'באיזו שעה מתחיל הפסטיבל', 'נגן לי שיר אקראי', 'ואז הקש על אישור', 'האם יהיה קר מספיק לכפפות מאוחר יותר הלילה', 'מה התזכורות הקרובות', 'תביא לי עדכונים על הסקרים בבחירות', 'תכנן אירוע לכל יום רביעי', 'אתה יכול לקרוא את הפגישות שלי היום', 'האם היו לי תוכניות מאוחר יותר היום בשמונה בערב', 'האם הגדרתי את אזעקת הבית שלי', 'מתי זה יקרה', 'באיזו שעה הקונצרט של שיין דאון הלילה', 'מה מזג האוויר היום', 'הוסף חתונה ללוח השנה שלי', 'הגדר שעון מעורר לשעתיים מהעכשיו', \"הצג את כל ההודעות שלא נקראו מחשבון הג'ימייל שלי\", 'באילו מקומות הייתי ב-15 הימים הראשונים של החודש הזה', \"בבקשה תזכיר לי על הפגישה עם ג'ולי בחמש הערב\", 'תביא לי את החדשות הטכנולוגיות האחרונות', 'עבדול קלאם נשיא', 'איך מזג האוויר', 'שלח את ההודעה הזו לטוויטר', 'המשך לשיר הבא בבקשה', 'שלום האם תיבת הדואר שלי התעדכנה', 'מיילים חדשים', 'פתח מילות שיר בשם', \"תוכל לבדוק בבקשה את הג'ימייל שלי עבור הודעות חדשות\", 'חזור על האירוע הזה בכל יום שישי בלוח השנה שלי', 'האם מחר חמישי', 'אובך סגול', 'נגן את השיר האחרון', 'תתלונן למשרד על התור הארוך מדי', 'פרסם תגובה מהטלפון שלי בפייסבוק', 'קרא לי את התזכורות הבאות להיום אחר הצהריים', 'במשך כמה שנים חיית מהטמה גנדי', 'יש לי שעון אירוע תזכיר לי', \"כמה גבוה צ'נינג טייטום\", \"כמה שירים כתב מייקל ג'קסון\", 'רכבים חדשים שהושקו', 'נגן אר אנד בי', 'אנא קרא לי את החדשות האחרונות ממחווה בוסטון', 'נגן את תחנת ההיפ הופ של קנזס סיטי', 'הזן אירוע ליום שני בלבד', 'תנגן לי מוזיקה', \"האם קית 'ריצ'רדס מת\", 'תציג דוחות עדכניים של בי-בי-סי', 'לך לפנדורה, מצא את תחנת הרדיו של טוונטי ואן פיילוטס ותנגן בבקשה', 'האם עליי לנעול סנדלים', 'אנא שלחו ציוץ ל\"אריה אוכל\" על כך שאין להם שירותים נקיים', 'אילו אירועים נמצאים בלוח השנה שלי', 'קיבלתי מיילים מאמא לאחרונה ', 'האם יש לי פגישה היום', 'תודיע לי כשיהיה עשר', 'האם ליל כל הקדושים נופל ביום שישי השנה', 'תוכל לקבוע לי פגישה', 'הפעל את הרדיו בבקשה', 'אני צריך לקבוע שעון מעורר למחר בשעה 12 בצהריים כדי להזכיר לי לקחת את התרופה שלי', 'בדוק מיילים אחרונים ותספר לי את השולחים והנושאים שלהם', 'קבע לי שעון מעורר בשמונה בבוקר', 'קומקאסט גרועים תכתוב את זה בחשבון הטוויטר שלהם', 'מתי השעון המעורר שלי מכוון', 'מתי היום החם הבא', 'תעלה תמונה לפייסבוק', \"תנגן לי את כל המוזיקה בסגנון ג'אז\", 'תוכל לשים לי מוזיקת רקע', 'עדיין לא קיבלתי את חדשות היומיות שלי תוכל לסכם לי קצת', 'מה החדשות האחרונות על אובמהקר', 'תוכל להשהות להחזיר אחורה ואז להמשיך את האודיו', 'אנא הפעל את נגן המוזיקה', 'תספק חדשות חמות בעולם', 'אנא הודע לי על התאריך של היום', 'האם ה-5 בדצמבר נופל ביום ראשון', 'קרא לי הודעות חדשות במייל', 'אילו מיילים אחרונים יש בתיבת הדואר הנכנס שלי בבקשה', 'נגן את רשימת ההשמעה האהובה עליי', 'קבע תזכורת חודשית לתשלום שכירות', 'תנגן שיר \"באס דרייבר\"', 'תנגן \"ראן\"', 'תנגן את השיר הבא ברשימה', 'תזכיר לי ללכת לשיעור הוקי כל יום ראשון בצהריים', 'דוח מזג אוויר חודשי', 'האם קיבלתי מיילים מקווין ומה הוא אמר', 'מה הנושאים הטרנדיים בעולם', 'האם יש לי דוא\"ל חדש מהעבודה מאז אתמול', 'האם קיבלתי מיילים חדשים', 'אני צריך לארגן פגישה עם שרה מחר', 'שים שירי אהבה', 'האם אני אצטרך קרם הגנה אחר הצהריים', \"אתה יכול לנגן קצת ג'אז\", 'רדיו חדשות', 'חפש מיילים חדשים', 'פתח את אפליקציית פנדורה ', 'אילו תזכורות ממתינות לערב היום', 'תנגן לי מוזיקה בבקשה', 'שם אדם', 'דו\"ח מזג האוויר של השבוע', 'הוסף את האירוע הזה ללוח השנה שלי', 'האם התאריך היום הוא התשיעי', 'תזכיר לי כל בוקר בשבע לקחת את הוויטמינים שלי', \"בטוויטר של אמזון תצייץ תלונה על איכות הג'ינס שלי\", 'תראה לי את כל השעונים המעוררים הפעילים שלי', 'רכבים', 'נגן מוזיקה בערבוב סדר', 'בבקשה הוסף פגישה בעבודה ללוח השנה', 'תצייץ לפיצה האט שהשליח שלהם מאחר בשעה', 'כוון את השעון המעורר שלי לשש וחצי בבוקר מחר', 'תראה לי את השעונים המעוררים שהגדרתי', 'מצא תחנת רוק קרובה', 'האם אמא שלחה לי אימיילים', 'האם אתה יכול להזכיר לי להוציא את הפחים ביום חמישי', 'חדשות פוליטיות', 'מה מזג האוויר להיום', 'חזור לקרוא את הספר \"קריאת המוח\"', 'סירי מה הגובה של דנבר קולורדו', 'בדוק את האימיילים שלי מהשעה האחרונה', 'תלוי בתפקיד שאליו אתה מכוון זה ישפיע על התשובה שלך', 'סירי מה התאריך', 'שקט מדי כאן', 'תציג לי את האירועים להיום', 'האם כדאי לי להביא נעלי שלג', 'איך מזג האוויר כרגע', 'מה חדש לגבי טראמפ', 'תן לי מיילים אחרונים', 'האם יורד שלג עכשיו', 'איך יהיה מזג האוויר בשבת', 'האם היומן שלי פנוי ליום חמישי', 'איך נראה לוח השנה שלי לשבוע הבא', 'דווח על הודעות דוא\"ל אחרונות', 'חפש מוזיקה קלאסית ונגן', 'ציוץ איש מכירות גס רוח', \"האם המפגש של יום שני בשמונה בבוקר כולל את צ'אק אינגרמן\", 'תן לי את החדשות מהמקור', 'מה מזג האוויר היום', 'מה קורה בבחירות', 'דווח תלונה לשירות לקוחות \"אל-ג\\'י\" על המזגן', 'קבע פגישה בשבע בערב', 'בדוק את המיילים החדשים שלי בתיבת הדואר', 'טוב', 'פגישת פופאפ', 'קבע מסיבת שכנים לשבוע הבא', 'מה היה הסרט האחרון שבראד פיט כיכב בו', 'הזכר לי בעבודה לקבוע פגישה עם דייב ביום שישי', 'תגיד לי את החדשות האחרונות מ\"סי-אן-אן\"', 'באיזו שעה מתחיל המשחק', 'מה הנהר הארוך ביותר בעולם', 'קרא לי כותרות חדשות', 'מה הנושא הכי מדובר היום', 'האם יש לי דוא\"ל חדש', 'עדכן אותי', 'בבקשה ספר לי על עובדות היסטוריות על הודו', 'מה מזג האוויר באוסטין', 'נגן את הפלייליסט של מוזיקת הקאנטרי שלי', 'בחודש מרץ מה הפגישות הזמינות', 'הפעל ערוץ רדיו חדש', 'אני רוצה ללכת להקרנת סרט חיצונית בסוף השבוע הזה תזכיר לי', 'אני רוצה להאזין לרדיו ארבע', \"קבע ב-2 בינואר על משחק הכדורגל של מנצ'סטר\", 'מה השעה של ההתראות שלי', 'מה החדשות החדשות ביותר כרגע', 'מה השעה עכשיו בוושינגטון', 'איפה הגרנד קניון', 'האם קר בחוץ', 'באיזו שנה נפטר אלביס', 'איזה יום בשבוע חל ה-4 ביולי השנה', 'מתי הפגישה הבאה שלי', 'נגן לי את עשרת השירים המובילים של השנה', 'נגן מוזיקה של להקות בנים', 'כותרות החדשות הראשונות בבקשה', 'שיר של פינק אף אחד לא יודע', 'הראה לי את רשימת ההתראות', 'שאל את שירות הלקוחות של אמזון מתי אני יכול לצפות להחזר שלי באמצעות טוויטר', 'ספר לי את הדוא\"ל האחרון שלי', 'קבעי תאריך לארוחת צהריים ביום שלישי הבא בצהריים עם שרה בבלק אנגוס', 'כשיסתיים השיר הזה נגן את הוטל קליפורניה', 'צייץ תלונה לצרכן', 'השעה הנוכחית בניו יורק', 'צייץ תלונה לאפל על האייפון 7 שלי', 'ציוץ על מה ניתן לעשות בשביל זה', 'נגן לי שיר של מדונה מהאודיובוק', 'התראות דוא\"ל חדשות', 'מוזיקת מיתרים ופסנתרים אבל רק גיטרה אקוסטית לא חשמלית בבקשה', 'נגן את הפלייליסט האחרון שנוגן', 'פתח תחזית מזג אוויר', 'מה החדשות האחרונות מ\"בי-בי-סי\"', 'תזכיר לי על כל האירועים בלוחות השנה', 'מה מתוכנן היום', 'מה התאריך הנוכחי', \"מה השעה בלוס אנג'לס\", 'האם יש לי אימייל חדש', 'איפה המפלים הגבוהים ביותר בעולם', 'קרא מידע על אירוע בלוח השנה ב-19 במרץ בשעה שתיים', 'שלח הודעה לחבר', 'ספר לי את מזג האוויר עבור ברייטון פאה החדשה', 'מצא מישהו', 'התחל לנגן שוב', 'כמה התראות הוגדרו', 'מה הבירה הפיננסית של קנדה', 'הראה לי אירועים שהוספו לאחרונה', 'קבע לי התראה לשש בבוקר', 'אני רוצה לשמוע את הרדיו ', 'מה מזג האוויר בגרנד ראפידס מי עכשיו', 'אנא קבע פגישה עם בריאן בילינגס בחשבונאות', 'האם יש לי פגישה לארוחת צהריים מחר', 'אני צריך את הפרטים על לוח הזמנים הבא שלי', 'היי בבקשה תזכיר את הפגישה הבאה עם הבוס שלי זה יהיה בשעה אחת עשרה בבוקר ביום שני הבא', \"נגן את הלקוח מאת ג'ון גרישם\", 'מה היה הדיווח על מזג האוויר להיום', 'האם יירד גשם בשבת', 'האם תוכל לתת לי דיווח על מזג האוויר', \"מה השעה למסיבה של ג'ימי\", 'האם תוכל להתחיל את ריאן סיקרסט', 'קבע שעון מעורר לבוקר מחר בשעה שש בבוקר', 'בבקשה תתחיל את הפלייליסט של הי לואיס והחדשות', 'תזכיר לי בזמן האירוע', 'אני במצב רוח למוזיקה קלאסית', 'אנשים מבטלים חופשות באייווה בגלל דברי הקונגרסמן', 'האם הלילה ירח מלא', 'תודיע לי כשיעברו שלוש שעות', 'האם מתקיימים אירועים מקומיים כלשהם הערב', 'אני צריך שתזכיר לי ללכת לחנות מחר', 'מה קרה בחדשות לאחרונה', 'אני אוהב להאזין למוזיקה הינדוסטנית', 'האם הים השחור אמיתי', \"עם מי ג'נט ג'קסון יוצאת או נשואה כיום\", 'אתה יכול לספר לי על המזרח התיכון', 'מתי התור לרופא', 'בין השעות עשר בלילה לשבע בבוקר כל האימיילים שמתקבלים צריכים להיות נענים', 'צייץ שאני חולה היום', 'נגן פלייליסט חדש של גאגא', 'מה מזג האוויר בטורונטו היום', 'מה השעה עכשיו ', 'מוזיקה לד זפלין בתים הקדושים', 'סיימתי את זה פעם אחת', 'מה יהיה התאריך ביום רביעי הבא', 'בצע אירועים', 'פגישה ביום שלישי בצהריים', 'יש חדשות מאגנס', 'תזכיר לי את הפגישה הזו בקרוב', 'נגן שולהי', 'האם יש לי משהו ביום שבת בשעה חמש בערב', 'מוסיקה שלוש', 'התחל לנגן דאבסטפ', 'האם תוכל להגיד לי מה השעה בסן פרנסיסקו', 'ספר לי מה בלוח הזמנים לשביעי ביולי', 'האם מסיבת יום ההולדת של ווייאט בשעה עשר בלילה', 'נגן ליידי גאגא', 'מתי ליל כל הקדושים', 'כנסייה עם אמא ואבא ביום ראשון', 'מזג האוויר בסן אנטוניו טקסס', 'צור פגישה ביום חמישי אחר הצהריים לבדיקת תקציב', 'מחר יום שמש נכון', 'הוסף פגישה עם פרנסין לשעה שתיים מחר', 'כמה כוכבים קיבל סוואט ', 'תגיד לי ממי קיבלתי את האימייל האחרון', 'נגן את הפלייליסט הראשון', 'האם יש לי אימיילים מרוברט', 'צור התראה ליום הולדת מחר בשעה עשר בבוקר', 'אילו פגישות יש לי ביום חמישי הבא', 'מצא הודעות דוא\"ל שלא נקראו שהתקבלו מפיטר היום ', 'המשך ספר אודיו לאחרונה', 'איזה יום יהיה שמשי', 'מה יש בלוח הזמנים שלי היום', 'נגן את מועדון ארוחת הבוקר', 'האם אני מוזמן למשהו', 'תזכיר לי שאני צריך להיות בספרייה שבוע מהיום בשעה חמש', 'אני רוצה לצייץ תלונה לטארגט', 'כמה מדינות יש מצפון לאלסקה', 'נגן שיר מהמועדפים', 'האם חם או קר בחוץ', 'איך אנחנו מארגנים התנגדות לטראמפ', 'איפה מתקיימת פגישת אקמי ביום שישי', 'מה התיאור של ההתראה בשעה אחת עשרה בבוקר', 'האם יש סיכוי לגשם במיסור כדי להפיג את החום', 'תוודא שאין לי כלום לעשות ביום שישי', 'מה ההר הגבוה ביותר בטוסון', 'האם תהיה שקיעה בשעה חמש וחצי מחר', \"הוסף תזכורת להיום בערב לאסוף את החבילה מג'ייקס בריסטו\", 'מהם כותרות החדשות להיום', 'עדכן את הסטטוס שלי במדיה החברתית', 'הפעל את הרדיו', 'שימי את הרדיו על \"רדיו שתיים\"', 'מה השעה עכשיו', 'מה הייתה הטמפרטורה בניו יורק הבוקר', \"בן כמה צ'אק נוריס\", \"האם ג'ון סמית' שלח לי אימייל חדש\", 'בבקשה תעיר אותי בשעה שמונה בבוקר', \"אני רוצה לשמוע את השיר היט'נס מאת טוונטי וואן פיילוטס\", 'תתחיל לנגן את האלים האמריקאים מהנקודה שבה עצרתי', 'מהו התאריך של מחר', 'אני צריך להוסיף אימון בייסבול ביום שבת בשעה שתיים בצהריים', 'בבקשה קבע פגישה למחר בלוח השנה שלי', 'שלח תלונה לוולמארט בטוויטר', 'אל תיתן לי לשכוח את המפגש של מחר עם שילה', 'תשים את השיר יום הולדת שמח כשיר הבא', 'התאריך הנוכחי בבקשה', 'השעה בקהיר בבקשה', 'נגן מוזיקה שאהבתי', 'נגן את הרדיו', 'בבקשה צייץ לנייקי שהמכנסיים שלי נקרעו אחרי הכביסה הראשונה #לאמרוצה', 'תזכיר לי על הפגישה מחר בשעה שתיים בצהריים', 'הראה לי את מספר השירות ללקוחות של מקדונלדס', \"הראה את המייל האחרון מג'ון\", 'תגיד לי את הדיווח על מזג האוויר להיום בעיר אלבמה', 'קרא דוא\"ל', 'מצא לי את תחנת ה-\"אן-פי-אר\" המקומית', \"כמה רחוק סן פרנסיסקו מלוס אנג'לס\", 'איפה סטיבן שפילברג גר', 'הנאה', 'אני רוצה לשמוע \"רדיוהד\" בבקשה', 'קבע התראה לכל יום שלישי בחודש מרץ בשעה שמונה בבוקר', 'האם תוכל לנגן את מוזיקה אינסטרומנטלית ', 'האם יש תזכורת שהיא הכי דחופה', 'השעה והתאריך הנוכחיים בבקשה', 'תשימי את הפודקאסט \"החיים האמריקאיים\" ברדיו באוטו', \"בבקשה תגידי לי מתי החתונה של מר ג'ים\", 'מה השעה כרגע באוסטרליה', 'איך היום בחוץ', 'תתחיל את קובץ האודיו של \"סיפור על שתי ערים\" מהנקודה שבה עצרתי', 'תנגני לי את השיר \"היופי של הצלב\" מאת קריסטל לואיס', 'נגן מוזיקת רדיו בשבילי', 'איזה יום זה יום משכורת', 'נגן את המוזיקה הפאנקית ההיא', 'קבעי את התדר של הרדיו', \"בדוק את מזג האוויר של העיר שמתחילה באות הא'\", 'תגיד לי איך הגיאוגרפיה באזור זה', 'שנה את ההתראות שלי לשעון הזמן של הר ההר', 'האם חתולים יכולים לאכול דגים', 'הרגע הוספתי את החדשות של בוב יש משהו חדש שם', 'גוגל צייץ \"למקדונלד\\'ס ברחוב רסדה יש שירות נורא\"', 'מזג אוויר באטלנטה', 'אני צריך לקבוע תזכורת ללכת לפגישה בעבודה ביום שישי בשעה שתיים בצהריים', 'קבעי אירוע ליום רביעי ליום הולדת', 'מה השעה עכשיו', 'תגידי לי מה קורה מחר', 'פתח את רשימת ההשמעה', 'רצועות מוזיקה חדשות', 'אילו פגישות יש לי בשבוע הקרוב', 'ביום חמישי הבא אני צריך תזכורת להתקשר לבנק', 'האם יש לי תוכניות להיום', 'האם אני צריך למרוח קרם הגנה היום', 'האם איימי שלחה לי אימייל חדש', 'האם אני פנוי בשעה חמש בערב ביום ראשון', 'אני צריך תשעים ותשע נקודה חמש בבקשה', 'תמשיכי אודיו', 'בדוק דוא\"ל מג\\'ון', 'הפעילי שיר של אנריקה איגלסיאס אחרי זה', 'חדשות טכנולוגיה חדשות', 'מה השעה', 'אני באמת מרגיש מדוכא עכשיו האם תוכלי לנגן את השירים שהכי השמעתי כדי לעודד אותי', 'האם חג המולד של שנת אלף תשע מאות שבעים ושתיים היה בסוף שבוע', 'תצייץ תלונה לשירות הלקוחות של אמריקן איגל', 'תוסיף פגישת צהריים עם ליסה לשני בינואר בשעה שתים עשרה וחצי', 'האם יש לי תזכורות להיום', 'הפעילי את ד\"ר דמנטו ונגני אותו ליד המיטה שלי', 'תוסיף אירוע עם האנשים האלה', \"כמה אנשים גרים בטג'יקיסטן\", 'תביא לי את החדשות מאתר \"יו-סי\"', 'תזכורת חדשה לשעה שלוש אחר הצהריים', 'האם יש לי פתחים בלוח הזמנים שלי למחר', 'תזכירי לי על ההתראות שלי להיום', 'מהם סיפורי החדשות המובילים בעולם', 'האם אני בחופש בעבודה ביום הזיכרון', 'קבעי התראה לשעה חמש בבוקר', 'האם אני יכול לצאת בלי מטרייה', 'מהו האירוע הבא בלוח השנה שלי', 'תוכלי להזכיר לי להוציא את הזבל ביום שלישי', 'בבקשה תעדכני אותי על החדשות הנוכחיות בפוקס ניוז', 'ננו טכנולוגיה', 'תזכורות לתשלומי כרטיסים', 'בבקשה תנגני מוזיקה של א. ר. רחמן', 'האם קבעת התראה לשעה חמש בבוקר', \"מי היה ג'ון דילינג'ר\", 'תזכירי לי על הפגישה הבאה מראש', 'שלושה ביולי בלוח השנה', \"בבקשה תנגני לי שוב את השיר של מייקל ג'קסון\", 'תזכירי לי את יום ההולדת של הילד שלי', 'מה החדשות מ-\"סי-אן-אן\"', 'האם יש לי תזכורות', 'מה יש לי בלוח הזמנים היום משעה שתים עשרה בצהריים עד שתיים אחר הצהריים', 'אני רוצה לשמוע את השירים של אדל', 'רשמי את כל ההתראות שנקבעו', 'קבעי התראה לתזכורת לאירוע הזה שחוזרת עשר פעמים', 'תציגי את האימייל האחרון מאמא', 'מה החדשות באזור שלי', 'תוכלי לנגן את הספר האודיו האחרון שלי', 'תפתחי את הרדיו', 'מה השעה לפגישה שלי עם הרופא השבוע', 'מה התחזיות לטמפרטורות אחר הצהריים', 'ספרי לי על הרקע המשפחתי של סלינה גומז', \"בתור מה אלן דג'נרס מפורסמת\", 'תנגני את הסרט \"שני המגדלים\"', 'בחמישה באפריל איזה יום בשבוע זה', 'תפעילי את ההתראה הראשונה שנקבעה שלי', 'תכנסי ללוח השנה ותזמני אירוע', 'האם אני צריך את ציוד הגשם שלי', 'תזכירי לי על פגישה ביום שלישי עם לקוח בשעה עשר בבוקר', 'פתח את לוח השנה וצור אירוע חדש', 'היום חמישה במרץ', 'מהי התוכנית הנוכחית עם הבחירה הגבוהה ביותר של הצופים בטלוויזיה', 'אני רוצה לשמוע שיר', 'גוגל מהי הטמפרטורה בחוץ', \"פאוויל הכין את הפגישה עם ג'ון\", 'תפתחי תזכורת על פגישת המנהלים בשבוע הבא ביום שלישי', \"האם קיבלתי אימייל מג'ן אתמול בלילה\", 'אני צריך התראה לשעה חמש ושלושים בבוקר מחר', 'תפרסמי פוסט באינסטגרם', 'תזמני מסיבת יום הולדת עם אל רוז ואיימי בלוח השנה שלי', 'תנגני את השירים הכי חדשים בשבילי מהרשת', 'האם אצטרך לקחת מטריה איתי היום', 'הגדר שעון מעורר לחמש ושלושים בבוקר', 'תגדיר שעון מעורר לשבע בבוקר מחר', 'האם הבוס שלי שלח לי אימיילים חדשים היום', 'אני רוצה לשמוע את תחנת הרדיו הזו עכשיו', 'האם יש מיילים חדשים מאבא שלי', 'תביא לי סיכום של ספר האודיו הנמכר ביותר החודש', 'האם כדאי לי לקחת מעיל לבירמינגהם הערב', 'מה השעה באזור הזמן המרכזי', 'איזה אימיילים שלא נקראו יש לי', 'האם ה-18 במאי מכיל ימי הולדת', 'הפעל רדיו', 'תנגן ספר אודיו של סאם האריס', 'מה מתוכנן למחר', 'האם אני צריך לשים קרם הגנה היום', \"האם יש לי מיילים מג'יין דו\", 'מה הטמפרטורה בחוץ', 'מה התחזית לשבוע הזה', 'מה החדשות האחרונות', 'תגדיר לי תזכורת יומית בבקשה', 'תחזית מזג האוויר השבוע', 'תגיד לי על אימיילים חדשים', 'שלח סקירה לקויה לדף הזה', 'תעדכן את תמונת הפרופיל שלי בפייסבוק לתמונה שצילמתי במשרדי גוגל אתמול', 'תעביר לתחנה שמונה ותשעים נקודה ארבע', 'מה השעה הנכונה', 'תנאי מזג האוויר למחר', 'הצג אימיילים חדשים מקייטי', 'האם יש אירועים מתוכננים לשבוע הזה', 'מצא מיילים מבוב על הבולדוג', 'תכתוב בטוויטר שטראמפ כזה חמור', 'לוח אירועים חתונה של מונה יום שלישי', 'מתי אני אמור להיפגש עם ברברה לארוחת צהריים השבוע', 'תספר לי מה החדשות בפולק קאונטי פלורידה', 'תזכיר לי את הפגישה שלי ביום רביעי בתשע בבוקר', 'תנגן אתה השמש שלי', 'האם תגדיר שעון מעורר יום לפני כל שיעורי הכושר ביומן שלי', 'מתי ה-22', 'תנגן את כל השירים של הביטלס', \"תאמר לי חדשות על המצב הנוכחי בצ'נאי\", 'תנגן לי שיר של אדל', \"פגישה עם ג'ואן בעוד עשר דקות בחדר הישיבות\", 'אימייל חדש מאמא', 'תנגן רוק', 'מה תהיה הטמפרטורה היום', 'האם אני חופשי בשבת הקרובה', 'האם עלי לקחת מטריה לעבודה היום', 'כמה קרוב יום הנישואין שלי', 'תבדוק את כל האימיילים החדשים בתיבת הדואר שלי', 'מה מתוכנן לי היום', 'הראה לי את השעה בעיר ניו יורק', 'מה עם החדשות האחרונות', 'אחרי שיעורי השחייה מה עוד יש לי ביומן ביום שלישי', \"בבקשה תגדיר תזכורת לחתונה של ראג'ו ב-31 במרץ 2017\", 'האם השעון המעורר מוגדר לבוקר מחר', 'אני מקווה שמזג האוויר שמשי שם', 'הגדר שעון מעורר לפגישת יום שלישי הבא', 'תנגן \"נולד לרוץ\" מהמקום שהפסקתי', 'ספוטיפיי', 'כמה בסיסים ניק סווישר גנב בקריירה שלו', 'תעביר את הרדיו ל-98.7', 'תגיד לי איזה פוליטיקאי נחקר', 'תפרסם בפייסבוק', 'תזכיר לי להתקשר לדור בשעה אחת ביום חמישי', 'מה אני צריך לזכור', 'תאמר לי מתי הפגישה הבאה שלי', 'תכתוב שאני הולך לחנות נעלי וודלנד', 'ציפיות', 'מה תחזית מזג האוויר לשבוע הזה', 'בחר קובץ מוזיקת ראי', 'האם אני יכול לנעול סנדלים', 'תראה לי את שני האימיילים האחרונים שלי', 'מה השעה הנוכחית בניו יורק', 'רשום לי את כל השעונים המעוררים הקרובים', 'מה חדש בתחום עיצוב הטקסטיל', \"תנגן מוזיקת ג'אז\", 'כמה חם עכשיו בקוסטה מסה', 'מזג אוויר היום', 'איך מזג האוויר בחוץ', 'תבדוק מאמרי חדשות על טראמפ', 'בבקשה תאמר לי מתי הפגישה הכלכלית שלי', \"בן כמה ג'ניפר אניסטון\", 'כמה פגישות עסקיות יש לי השבוע', 'איפה המסיבה', 'בן כמה כריסטיאנו רונאלדו', 'כמה ימי ראשון יש החודש', 'מה עוד יש ביומן שלי אחרי הפגישה האחרונה שלי בשעה שתיים בצהריים', 'תזכיר לי בשעה שש על הפגישה בשבע', 'מה זה עשר בבוקר בזמן מזרחי', 'מה מזג האוויר היום בספרינגפילד', 'רשום לי את כל השעונים המעוררים', 'איזה שעונים מעוררים הגדרתי', 'מה המחיר הזול ביותר עבור הספר הראשון של זואלה', 'תנגן שירים מועדפים', 'תדליק שיר כלשהו של טופאק', 'תעבור לרשימת שירי ראפ', 'חדשות יומיות ממקור', 'מזג האוויר בשיקגו', \"תן לי לדעת מיילים חדשים מג'ון\", 'הפעל את רדיו מיילי סיירוס', 'תמשיך עם הספר \"אמנות המלחמה\"', 'תוכל להגדיר לי שעון מעורר', 'איך מרגיש כדורסל', 'האם היום שמשי', 'מה השעה הנוכחית בדלהי', 'תן לי מידע', 'מיילים עכשיו', 'אני רוצה להגדיר שעון מעורר לשש', 'מה לגבי האירוע הזה', 'באיזה אזור זמן נמצאת אריזונה', 'אני רוצה לשמוע את הרדיו תדליק אותו בשבילי', 'איך יהיה מזג האוויר בשבת', 'מי בנה את מוזיאון הפראדו', 'תנגן שיר של קולדפליי', 'אני צריך שתדליק את הרדיו', 'האם הבוס שלח משהו', 'מה השעה כרגע בהודו', 'האם יירד שלג הלילה', 'מה הלו\"ז לתאריך הזה', 'האם יורד שלג בקליפורניה', 'תראה לי חדשות פוליטיות מהיום', 'תגדיר את זה לפני האירוע', 'פרסם את התלונה שלי למיקוסופט בטוויטר', 'תפתח תזכורת ותמצא זמן לפגישה', 'מה היום', 'תגדיר שעון מעורר לשמונה בערב', 'ספר לי מתי יש חדשות חדשות על דונלד טראמפ', 'האם ה-24 יוצא ביום שלישי', 'איזה אירועים יש השבוע', 'תזכיר לי בכל ראשון של חודש', 'הגיע הזמן  לנסיעה לבית שלי ', 'תפתח את השיר', 'החדשות האחרונות על אקלים ומזג אוויר', 'החדשות המקומיות האחרונות', 'אני רוצה מוזיקה', 'דווח על מה חדש בתיבת הדואר הנכנס שלי בבקשה', 'תכוון לתחנה שבחרתי', 'תוסיף את יום ההולדת של מרי ב-22 ליומן שלי בבקשה', 'תוסיף בבקשה מסיבת יום הולדת ביום שבת בערב', 'תשיג חדשות מ-\"סי-אן-אן\"', 'תצייץ את זה \"לדיירקט-טי-וי יש שירות לקוחות נורא\"', 'האם יהיה חם', \"פנג'בי\", 'האם שמש בחוץ ברגע זה', 'אילו אירועים מתרחשים בשבוע הבא', 'צריך מידע גיאוגרפי על איטליה', 'היי תנגן לי שיר היפ הופ פופולרי', 'תוכל לבדוק לי את האימיילים', 'כמה מאמרים חדשים פורסמו בווינט בשעה האחרונה', \"תנגן בילי ג'ין עכשיו\", 'תן לי עדכון על הבחירות מחר בצהריים', 'תכריז על תגובה בפייסבוק', 'איזה מיילים קיבלתי אתמול', 'תיצור אירוע \"יום כושר\" ביום שני ותגדיר אותו חוזר', 'האם שכחתי משהו', 'תעקוב אחרי התרחיש הבא כדי לענות על שאלות', 'מה יש לי בלוח הזמנים מחר בבוקר', 'תזכיר לי את התזכורות שהגדרתי', 'אילו אירועים מתוכננים ליום שלישי הבא בין השעות אחת עשרה בבוקר לשלוש אחר הצהריים', 'מי היו האנשים האחרונים ששלחו לי אימיילים', 'בבקשה תמצא מוזיקה של \"אפי\"', 'תגדיר פגישה ביום שלישי', 'איך הלו\"ז שלי נראה אחרי שלוש אחר הצהריים היום', 'בבקשה בדוק את המייל שלי בשבילי', 'אילו שעונים מעוררים מוגדרים עכשיו', 'אילו שעונים מעוררים מוגדרים בטלפון', \"תעזור לי לזכור להתקשר לג'ניס בארבע אחר הצהריים\", 'איזה חדשות יצאו על סטיב באנון', 'קבע תזכורת לפגישה שלי היום', 'תפתח אפליקציית פנדורה ותנגן רדיו ', 'תוסיף בבקשה את האירוע הזה', 'כמה ארוכה החומה הגדולה של סין', 'איפה ממוקם המדבר הכי חם', 'מה הייתה הטמפרטורה כשהייתי בפארק', 'אני צריך הפסקה תתחיל את זה אחרי חמש דקות', 'אני רוצה לשמוע שיר אחד', 'מה המרחק בין ניו יורק לברלין', 'אני רוצה להאזין לאי האוצר מאת רוברט לואיס סטיבנסון', \"בבקשה תזמין את קים מרק וג'וליאן לפגישה ביום חמישי בשעה שלוש\", 'תצייץ תלונה על חשבון חשמל גבוה יותר החודש', 'תזכיר לי לגבי הפגישה שלי מחר בדיוק בשעה עשר', 'מה השעה', 'האם אצטרך מעיל חורף הבוקר', 'מי שלח לי אימייל בשבוע האחרון', 'הודע לי שעה לפני הפגישה שלי בצהריים בסוכנות הרכב', 'תעיר אותי בשעה חמש ושלושים', 'תיאור אירועים', 'נא לנגן מוזיקה קלאסית', 'תזכיר לי את מפגש המכירות של שבע בבוקר ביום חמישי הזה והוסף ליומן', 'תוסיף ליומן אירוע חדש בשם חג ההודיה', 'מי כרגע האדם החי הכי מבוגר בעולם', 'נא לקבוע תוכניות לארוחת ערב בשבע בערב לכל יום שישי באפריל', 'מה מזג האוויר יהיה בעוד שבוע', \"תנגן את הטבע האנושי של מייקל ג'קסון\", 'האם יש שעונים מעוררים מוגדרים', 'מה החדשות החמות להיום', 'תן את העדכונים האחרונים על נרנדרה מודי', 'מהי בירת ניו המפשייר', 'מה המרחק לגרנד קניון', 'איפה פארק ילוסטון', 'נא לנגן את שירי הפופ האהובים עליי מהרשימה שלי', 'איפה אימון בייסבול מתקיים מחר', 'על מה האימייל שלי מסטיב', 'מה מצב השעונים המעוררים למחר', 'תפתח את אימייל הבוקר שלי מהניו יורק טיימס', 'תחזור על השיר', 'האם יש חדשות להיזכר', 'מה השעה בפלורידה', 'תמצא ותנגן פלייליסט לאימון', 'תמשיך מהמקום שבו הפסקנו בקרב המלכות', 'הונאה בשקילת מוצרים', 'כמה הלכתי הבוקר', 'האם היום יום לקרם הגנה', 'תנגן חדשות בשבילי', 'תשיג את החדשות האחרונות על מרוצי פורמולה 1', 'אני צריך לדעת על הגובה של הר האוורסט', 'הנהר הארוך ביותר בעולם', 'תתחיל אודיו', 'תן לי תחנת רדיו קלאסית', 'מתי יום ההולדת של מדונה', 'בבקשה תגדיר שעון מעורר לפגישה של מחר בשבע בבוקר', 'תגדיר שעון מעורר לשיעורי הריקוד שעתיים לפני התחלתם', 'מה הטמפרטורה היום', 'תנגן פנדורה', 'רדיו אלף ועשרים שבע', 'האם יש לי דואר חדש', 'חפש את השולחים והנושאים של דואר אלקטרוני אחרון', 'תגיד לי את השעה הנוכחית באזור הזמן המרכזי', 'שיעורי בדמינטון שבועיים מתחילים מחר ויסתיימו באחד במאי', 'אני רוצה להאזין ללהיטים של היום', 'ברדיו זה זמן למוזיקה טובה', 'אני רוצה לנגן מוזיקה', 'אני רוצה להאזין למוזיקה בסלון', 'מי זכה במספר האוסקרים הגבוה ביותר אי פעם', 'האם יש עדכונים על טראמפ', 'מה היזם אומר על חסרי הבית במאמר של סיאטל טיימס', 'תגדיר שעון מעורר לשעה חמש בבוקר', 'דייט בניו יורק', 'תצייץ לשירות הלקוחות של גוגל שהמוצרים שלהם נחותים', 'מאיפה באות הפרות', 'היום יום ההולדת של אמא שלי תשלח לי התראה על זה כל שנה בתאריך הזה', 'תצייץ לוולמארט', 'איזו דמות מגלם כריס אוונס', 'מי היה הנשיא הראשון של ארצות הברית', 'כותרות מעיתון דאקה טריביון', 'תוסיף פגישה עם דייב בסאבווי בוובר ב-4 באפריל בשעה חמש בערב', 'על כותרות החדשות להיום', 'תגיד לי תאריך', 'תנגן את תחנת טופ פורטי עם רוקט ותרזה', 'תכתוב את התלונה הזו לשירות הלקוחות של קומקאסט בטוויטר', 'צייץ את התלונה שלי ל\"אן-אס-איי\"', 'הראה לי את הפגישות שנערכו בשבוע שעבר', 'האם יש חדשות סביבתיות חדשות', \"האם יש תחרות צ'ילי בסוף השבוע\", 'איזה יום בחודש זה', 'תזכיר לי על שיעור הכושר בעוד שעתיים', 'תדליק את הרדיו', 'תתריע לי כשיגיע יום הנישואין שלי', 'תערבב את פלייליסט האימון שלי', 'מייסיס שכחו לשלוח לי שני פריטים תודיע להם', 'תנגן שירים', 'שעה בשיקגו', 'מה עדכוני החדשות', 'האם יהיו גשמים מחר בבוקר', \"בבקשה תנגן קצת ג'אז\", 'סמן את יום שלישי הבא ביומן שלי כיום ההולדת של סטיב', 'תמשיך לנגן את \"אוד תומאס\" מאת דין קונץ', 'איפה נמצא הר הגעש הגדול בעולם', \"איך ג'ורג' רוג'רס קלארק מת\", 'האם יום ההולדת של סוזן הוא בראשון במרץ', 'מה מזג האוויר השבוע', 'בוא נשמע את \"המרדף אחרי אוקטובר האדום\"', 'תראה לי חדשות עולמיות להיום', 'תיצור שעון מעורר לשש בבוקר', 'המשך לנגן את ספר האודיו הנוכחי', 'חוויתי חוויה גרועה עם חרקים במלון הזה תצייץ את זה לשירות הלקוחות ותוסיף קישור רלוונטי לנושא', 'היכן ממוקם הר ראשמור', 'מאיפה נורמאן רידוס', 'האם יש שעונים מעוררים', 'תצייץ לקרוגר על כך שחייבו אותי יתר על המידה במכולת', 'האם הפגישה שלי עם בוב מחר בשלוש אחרי הצהריים', 'מה קורה היום', 'פתח את לוח השנה', 'תזכיר לי את הפגישה שלי לצהריים ביום שני', 'מה היום והשעה של הפגישה בסן דייגו קליפורניה', 'מה תחזית מזג האוויר לשיקגו', 'תוסיף ללוח השנה את ד\"ר קיי לשעה שלוש וחצי ב-7 במרץ', 'האם ביקשתי ממך להזכיר לי משהו', 'בן כמה רו מקלאנהאן', 'תתאם לי פגישה אצל הרופא לבדיקה ביום שישי', 'פתח את כל המיילים שלא נקראו', 'האם יש מיילים בעדיפות גבוהה', 'תגדיר שעון מעורר לשעה עשר בבוקר לכל השבוע בחודש אפריל', 'אני צריך לארגן פגישה עם שרה מחר ', 'תנגן את \"אמונות טפלות\" של ר.ל. סטיין', 'מה מזג האוויר במשך כל השבוע', 'תיצור תזכורת בעוד שעה לפגישה', 'תן לי רשימה של כל האירועים שיגיעו בחודש הבא ותגדיר התראות לכולם', 'ספר לי על יו לורי', 'מזג האוויר בעיר הנופש', 'תפרסם תמונה מהטלפון שלי בפייסבוק', 'מה השעה של פסטיבל הכלבים הקנטונזי', 'תזכיר לי על הפגישה עם רופא השיניים ב-23 במאי', \"תוכל להגדיר את האירוע ליום שני בשעה שש במקדונלד'ס\", 'מה החדשות עכשיו', 'תודיע לי בבקשה על יום ההולדת שלי', 'תשלח תלונה לשירות לקוחות', \"האם יש טבח צ'ילי בחופשה בסוף השבוע הזה\", \"תתאם בראנץ' לשעה עשר היום ותזמין את טיפאני וג'סיקה\", 'תן לי את המידע העדכני ביותר על הנשיא טראמפ בבקשה', 'תסביר לי את התוכנית לתאריך הזה', 'תשנה את השעון המעורר להתחיל בחצות', 'האם יירד גשם בשבת', 'תיצור תזכורת בלוח שנה', 'אני רוצה לעדכן את לוח השנה שלי', 'אני צריך לבדוק אם יש לי מייל חדש', 'התחבר לתחנת הרדיו האהובה עלי בבקשה', 'תיצור אירוע חוזר בימי שני בשעה שבע בערב', 'תשמור את אחר הצהריים הזה לדייט שלי', 'תנגן טיילור סוויפט', 'תודיע לי ב-11 במרץ על הפגישה שלי', 'תבדוק אם יש מיילים חדשים בתיבת הדואר שלי', 'מה האירוע הבא שלי', 'גש לניו יורק טיימס', 'באיזו שעה מתוכנן האירוע הבא', 'תתקשר לשירות הלקוחות דרך הטלפון לתגובה ישירה', 'אני צריך לצאת בשעה שמונה בבוקר מחר תגדיר שעון מעורר שלושים דקות לפני כן', 'באיזה יום חג המולד', 'כמה מיילים קיבלתי מאז אתמול', 'מה שיעור הפשיעה בשיקגו', 'האם פול שלח לי מייל לאחרונה', 'בת כמה דולי פרטון', 'האם יש לי פגישה בשבוע הבא', 'מי הוא נשיא אמריקה', 'דף ויקיפדיה על שון קונרי', 'אילו אירועים יש לי בין שתים עשרה בצהריים לארבע אחר הצהריים', 'אנא הפעל את המוזיקה אני רוצה לשמוע את השירים האהובים עליי', 'באיזו שעה הפגישה שלי ביום שישי', 'אנא קבע את כל הפגישות לרופאים שלי', 'קבע תזכורת למחר בבוקר לגבי הפגישה שלי', 'תוסיף אירוע חוזר בלוח השנה שלי', 'מה התחזית למחר', 'תנגן את פלייליסט האימון שלי', 'מי היה הנשיא הראשון בארצות הברית', 'האם יש לי רשומות חדשות בתיבת הדואר הנכנס שלי', 'מה חדש באיחוד האירופי', \"אנא הזכיר לי לאסוף את ג'ון בבית הספר היום באחת בצהריים\", 'האם יש לי אירוע כלשהו בלוח השנה שלי מחר בבוקר מעשר עד אחת עשרה', 'תביא את המיילים האחרונים שלי', 'האם יש לי משהו מתוכנן מחר בין שתים-עשרה לשלוש בצהריים', 'תנגן את הפלייליסט שלי', 'פיננסים', 'האם אצטרך מטריה להיום', 'מה לוח הזמנים שלי למחר בבוקר', 'להודיע \\u200b\\u200bלי על חדשות', 'איפה נולד ביל קלינטון', 'בבקשה תנגן שיר', 'מה קורה כאן', 'מה קוד הלבוש למסיבה', 'האם אני אצטרך לשאת איתי מטרייה היום', 'מה יהיה שיא הטמפרטורה להיום', 'צור סטטוס המציין שקיבלתי את הקידום', 'מתי נולד אברהם לינקולן', 'האם יש חדשות על פטירות בטיימס אוף אינדיה', 'שלח לי קישורים לכתבות חדשותיות על המחאה', 'תן לי את החדשות', 'תיצור שעון מעורר לשעה ארבע מחר בבוקר', 'אירוע חדש - ארוחת צהריים ב\"אוטבק\"', 'תצייץ לאפלבי שהעוף שלי היה נא האשטאג הרעלת מזון', 'האם תוכל להגיד לי מה מזג האוויר ליום שני', 'תוסיף אירוע חדש בשם אנה ללוח השנה', 'רשום תלונה בטוויטר', 'בוא נרקוד', 'תוסיף יום הולדת לכל שנה', 'רָדִיוֹ', 'האם יש לי זמן פנוי לפגישה עם רופא ביום שלישי בבוקר', 'בבקשה תפרסם \"יום הולדת שמח לארה\"ב\" בעמוד שלי', 'מה מזג האוויר יהיה בתאריך', 'תנגן לי שיר ברדיו', 'אתה יכול להגיד לי מה בלוח הזמנים למחר', 'אתה יכול לתת לי סיכום חדשות', 'תנגן את פלייליסט הרוק שלי', 'האם אצטרך מעיל כבד אחרי ארוחת הצהריים היום', 'כמה זמן יימשך האירוע', 'האם אני פנוי בין שש לשבע בערב', 'כמה מיילים חדשים קיבלתי', 'מה הפגישות שלי בין שתים עשרה בצהריים עד ארבע אחר הצהריים', 'תפעיל את פלייליסט ה\"ישנים\" שלי ברדיו', 'אני רוצה לדעת כמה רגליים יש במייל', 'מה השעה', 'איך יהיה מזג האוויר היום בערב', 'בבקשה תגדיר פגישת עבודה בשעה שתיים-עשרה בצהריים לכל יום חמישי בפברואר', 'מה דוח מזג האוויר', 'תוכל לנגן לי שיר', 'מה חדש', 'תתאם פגישה עם סגן הנשיא ליום שני', 'התאריך של היום', 'תפרט את האירועים של החודש הבא', 'קבע את השעון המעורר שלי לשש בבוקר מחר', 'האם קיבלתי אימייל משון', 'אנא פרסם יום הולדת שמח ארה\"ב בפייסבוק', 'תעדכן אותי על כל פסטיבל שיתרחש בחודש הבא', 'תודיע לי על השעה במיאמי', 'האם יש לי תזכורת ליום ראשון הבא', 'תצייץ תלונה ל\"קום-קאסט\"', 'בבקשה תשריין את יום שישי בשמונה בבוקר בלוח השנה שלי', 'תכתוב בלוח השנה שיש לי אירוע לשישי הבא', 'הפעל רשימת השמעה מהספוטיפיי', 'האם יש מיילים אחרונים מרוהיט', 'האם יש לי פגישה מחר בבוקר', 'איפה הקוטב הדרומי', 'תתחיל את פלייליסט \"אני מרגיש בר מזל\" בגוגל פליי', 'עד כמה רחוק הדולר שלי מגיע ביפן', 'תבדוק חדשות חמות בטיימס אוף אינדיה', 'תמצא מוזיקה חדשה עבורי', 'תגיד לי מה השעה ', 'מהי התחזית הנוכחית למינאפוליס', 'הגדר את השעון המעורר שלי בבקשה', 'ספר לי על ברק אובמה', 'תנגן רדיו דיסני', 'תערוך חיפוש על המיקום שלו', 'הייתי רוצה לשמוע קצת בלוז', 'חדשות מהעיתון המקומי', 'שעון מעורר מוגדר ', 'בוא נשמע את הפלייליסט', 'האם הגדרתי תזכורת לפגישה מחר בחמש בערב', 'אירועי השבוע', 'אני רוצה שתנגן רדיו', 'מה הכתובת של האירוע שתוזמן ל-1 בינואר אלכסה', 'תנגן מוזיקת פופ חדשה', 'תנגן סאונדקלאוד', 'הוסף אירוע ל-21 במרץ בגוגל קלנדר', 'מהו ההר הגבוה ביותר באסיה', \"שאל את ג'ו וג'ואן אם הם יכולים להשתתף בפגישה מחר ב-11 בבוקר\", 'בת כמה אלן', 'תזכיר לי על הפגישה של מחר בלילה', 'תבדוק אם יש מיילים חדשים', 'תדליק שעון מעורר לתשע בבוקר', \"הפעל את רשימת ההשמעה של מייקל ג'קסון\", 'תעדכן את הפרופיל שלי בטוויטר', 'מהי עיר הבית של תיאטרון הבולשוי', 'מה השעה הנוכחית בחוף השנהב', 'תגדיר תזכורת להיום בשעה אחת לשלוח את המצגת', 'הגדרת אירוע חוזר בלוח שנה', 'נגן מוזיקה של קייט פרי בלי ערבוב', 'איפה התור שלי לרופא בשבוע הבא', \"תוסיף את מייק וג'ק ללוח השנה של הפסטיבל\", \"איך נראים הדברים לקראת הפגישה עם ג'ון\", 'האם אני אצטרך לשים קרם הגנה היום', 'תחזור על התזכורת ללוח הזמנים שלי לחג המולד', 'תוסיף פגישה עם רופא השיניים שלי לשעה עשר ביום שני הבא', 'תזכיר לי על הפגישה שלי ביום שני עם פיטר פרנסיס חמש עשרה דקות לפני הפגישה', 'תודיע לי על פגישת הערב חמש דקות לפני שהיא מתחילה', 'ספר לי הכל על אלברט איינשטיין', 'תתחיל מחדש את הספר של ביל ניי', 'תוסיף פגישה לארבע אחר הצהריים בכל יום שלישי', 'מתי החודש הבא שיש לו 31 ימים', 'אני רוצה לשמוע קצת מוטאון', 'באיזה יום חל חג הפסחא השנה', 'תבדוק מיילים אחרונים של מישהו', 'תחזור לנגן את הספר הקולי שלי', 'תגדיר פגישה לשעה שבע בערב']\n",
      "5356\n"
     ]
    }
   ],
   "source": [
    "input = list(filtered_data['transcript_hebrew'])\n",
    "print(input)\n",
    "print(len(input))"
   ]
  },
  {
   "cell_type": "code",
   "execution_count": 9,
   "metadata": {
    "colab": {
     "base_uri": "https://localhost:8080/"
    },
    "execution": {
     "iopub.execute_input": "2025-01-08T08:00:15.194322Z",
     "iopub.status.busy": "2025-01-08T08:00:15.193999Z",
     "iopub.status.idle": "2025-01-08T08:00:20.258589Z",
     "shell.execute_reply": "2025-01-08T08:00:20.257911Z",
     "shell.execute_reply.started": "2025-01-08T08:00:15.194294Z"
    },
    "id": "iux0w6nl74s1",
    "outputId": "f1e20f33-f96c-4331-a978-9df3f1ba38de",
    "trusted": true
   },
   "outputs": [],
   "source": [
    "# # Import necessary libraries\n",
    "# from transformers import AutoTokenizer, AutoModel\n",
    "\n",
    "# # Load the tokenizer and model for AlephBERT-Gimmel\n",
    "# tokenizer = AutoTokenizer.from_pretrained(\"dicta-il/alephbertgimmel-base\")\n",
    "# model = AutoModel.from_pretrained(\"dicta-il/alephbertgimmel-base\")\n",
    "\n",
    "# # model_name = 'onlplab/alephbert-base'\n",
    "# # model = BertModel.from_pretrained('onlplab/alephbert-base')\n",
    "# # tokenizer = BertTokenizerFast.from_pretrained('onlplab/alephbert-base')\n",
    "# #Tokenize and pad the texts\n",
    "# encoded_inputs = tokenizer(input[:1000], padding=True,\n",
    "#                             truncation=True,\n",
    "#                             return_tensors='pt')\n"
   ]
  },
  {
   "cell_type": "code",
   "execution_count": 14,
   "metadata": {},
   "outputs": [
    {
     "name": "stderr",
     "output_type": "stream",
     "text": [
      "Some weights of BertModel were not initialized from the model checkpoint at dicta-il/alephbertgimmel-base and are newly initialized: ['bert.pooler.dense.bias', 'bert.pooler.dense.weight']\n",
      "You should probably TRAIN this model on a down-stream task to be able to use it for predictions and inference.\n"
     ]
    },
    {
     "name": "stdout",
     "output_type": "stream",
     "text": [
      "Embeddings shape: (5356, 768)\n"
     ]
    }
   ],
   "source": [
    "from transformers import AutoTokenizer, AutoModel\n",
    "import torch\n",
    "import numpy as np\n",
    "from sklearn.model_selection import train_test_split\n",
    "\n",
    "# Load the tokenizer and model\n",
    "tokenizer = AutoTokenizer.from_pretrained(\"dicta-il/alephbertgimmel-base\")\n",
    "model = AutoModel.from_pretrained(\"dicta-il/alephbertgimmel-base\")\n",
    "\n",
    "# Your input data\n",
    "input_data = list(filtered_data['transcript_hebrew'])  # Replace with your actual input\n",
    "\n",
    "# Define batch size\n",
    "batch_size = 1000\n",
    "\n",
    "# Store embeddings\n",
    "sentence_embeddings = []\n",
    "\n",
    "# Process data in batches\n",
    "for i in range(0, len(input_data), batch_size):\n",
    "    # Select a batch of data\n",
    "    batch = input_data[i:i + batch_size]\n",
    "    \n",
    "    # Tokenize the batch\n",
    "    encoded_inputs = tokenizer(batch, padding=True, truncation=True, max_length=512, return_tensors='pt')\n",
    "    \n",
    "    # Pass the batch through the model\n",
    "    with torch.no_grad():\n",
    "        outputs = model(**encoded_inputs)\n",
    "    \n",
    "    # Extract token embeddings\n",
    "    token_embeddings = outputs.last_hidden_state  # Shape: [batch_size, seq_len, hidden_dim]\n",
    "    \n",
    "    # Use mean pooling to get a fixed-size embedding for each sentence\n",
    "    batch_embeddings = token_embeddings.mean(dim=1).numpy()  # Mean pooling along the seq_len dimension\n",
    "    sentence_embeddings.extend(batch_embeddings)\n",
    "\n",
    "# Convert sentence_embeddings to a NumPy array\n",
    "sentence_embeddings = np.array(sentence_embeddings)\n",
    "\n",
    "# Verify the shape of embeddings\n",
    "print(\"Embeddings shape:\", sentence_embeddings.shape)"
   ]
  },
  {
   "cell_type": "code",
   "execution_count": 15,
   "metadata": {},
   "outputs": [],
   "source": [
    "# Prepare labels\n",
    "labels = list(filtered_data['intent_num'])[:len(sentence_embeddings)]\n",
    "\n",
    "# Ensure the shapes of embeddings and labels match\n",
    "assert len(sentence_embeddings) == len(labels), \"Mismatch between embeddings and labels!\""
   ]
  },
  {
   "cell_type": "code",
   "execution_count": 16,
   "metadata": {},
   "outputs": [
    {
     "name": "stdout",
     "output_type": "stream",
     "text": [
      "Training set shape: (4284, 768)\n",
      "Test set shape: (1072, 768)\n"
     ]
    }
   ],
   "source": [
    "# Split into training and test sets\n",
    "X_train, X_test, y_train, y_test = train_test_split(sentence_embeddings, labels, test_size=0.2, random_state=42)\n",
    "\n",
    "# Print results\n",
    "print(\"Training set shape:\", X_train.shape)\n",
    "print(\"Test set shape:\", X_test.shape)"
   ]
  },
  {
   "cell_type": "code",
   "execution_count": 10,
   "metadata": {
    "execution": {
     "iopub.execute_input": "2025-01-08T08:00:26.625058Z",
     "iopub.status.busy": "2025-01-08T08:00:26.624772Z",
     "iopub.status.idle": "2025-01-08T08:08:04.077919Z",
     "shell.execute_reply": "2025-01-08T08:08:04.077202Z",
     "shell.execute_reply.started": "2025-01-08T08:00:26.625033Z"
    },
    "id": "gGug0H78-Gwd",
    "trusted": true
   },
   "outputs": [],
   "source": [
    "# with torch.no_grad():\n",
    "#   outputs = model(**encoded_inputs)"
   ]
  },
  {
   "cell_type": "code",
   "execution_count": 11,
   "metadata": {
    "colab": {
     "base_uri": "https://localhost:8080/"
    },
    "execution": {
     "iopub.execute_input": "2025-01-08T08:08:13.588296Z",
     "iopub.status.busy": "2025-01-08T08:08:13.587749Z",
     "iopub.status.idle": "2025-01-08T08:08:13.613442Z",
     "shell.execute_reply": "2025-01-08T08:08:13.612810Z",
     "shell.execute_reply.started": "2025-01-08T08:08:13.588265Z"
    },
    "id": "xIk20Ah7_f-2",
    "outputId": "8a7843ce-d83e-4d0c-c0b7-bafff4fe29cd",
    "trusted": true
   },
   "outputs": [
    {
     "data": {
      "text/plain": [
       "tensor([[[ 1.6602,  0.5846, -0.0294,  ...,  0.4390,  0.3201,  0.0481],\n",
       "         [-0.5163, -1.6205,  0.5685,  ..., -0.1674,  1.1498,  0.4393],\n",
       "         [-1.5847, -0.7396,  0.7437,  ...,  0.1873,  0.3119, -0.1438],\n",
       "         ...,\n",
       "         [-0.2656,  0.2142,  0.0436,  ...,  1.5440, -0.2401,  0.0954],\n",
       "         [-0.2697,  0.2564,  0.0662,  ...,  1.5109, -0.2354,  0.0935],\n",
       "         [-0.2840,  0.2542,  0.0440,  ...,  1.5099, -0.2542,  0.0886]],\n",
       "\n",
       "        [[ 1.5048,  0.8769, -0.1702,  ...,  0.2410,  0.2754, -0.0217],\n",
       "         [-0.2341, -1.4271,  0.6103,  ..., -0.2670,  0.9646,  0.4026],\n",
       "         [-1.2571, -0.8067,  0.5589,  ...,  0.3366,  0.2412, -0.1412],\n",
       "         ...,\n",
       "         [-0.2228,  0.2258,  0.1108,  ...,  1.3948, -0.2110,  0.0819],\n",
       "         [-0.2442,  0.2403,  0.0927,  ...,  1.4194, -0.2490,  0.0786],\n",
       "         [-0.2247,  0.2175,  0.1252,  ...,  1.3698, -0.1818,  0.0889]],\n",
       "\n",
       "        [[ 1.6711,  0.9177,  0.1590,  ...,  0.7145,  0.2621,  0.1885],\n",
       "         [ 0.0871, -1.0955,  1.0306,  ...,  0.7492,  1.1626,  0.3262],\n",
       "         [-0.0165, -0.9727,  0.3255,  ...,  1.3127,  1.1283,  0.0692],\n",
       "         ...,\n",
       "         [-0.1753,  0.2384,  0.0026,  ...,  1.4269, -0.1589,  0.1285],\n",
       "         [-0.2501,  0.2582, -0.0148,  ...,  1.5158, -0.2631,  0.0920],\n",
       "         [-0.2364,  0.2804,  0.0193,  ...,  1.4588, -0.2744,  0.0727]],\n",
       "\n",
       "        ...,\n",
       "\n",
       "        [[ 1.3008,  0.6400,  0.2742,  ..., -0.6262,  0.0510,  0.2142],\n",
       "         [ 0.5445, -0.8898,  0.8743,  ..., -0.0060,  0.3629,  0.0058],\n",
       "         [-0.2792, -0.0704,  0.8425,  ..., -0.1472,  0.2306, -0.1542],\n",
       "         ...,\n",
       "         [-0.3509,  0.2739,  0.0505,  ...,  1.5836, -0.2460,  0.0945],\n",
       "         [-0.3454,  0.2636,  0.0338,  ...,  1.6106, -0.2611,  0.0885],\n",
       "         [-0.3231,  0.2570,  0.0252,  ...,  1.5968, -0.2569,  0.0904]],\n",
       "\n",
       "        [[ 1.5347,  0.7485,  0.1588,  ..., -0.1743,  0.0560,  0.0541],\n",
       "         [ 0.9079, -0.6234,  0.5563,  ...,  0.5323,  0.0029, -0.1142],\n",
       "         [-0.2541, -0.4987,  0.5806,  ..., -1.0338,  0.4584,  0.2058],\n",
       "         ...,\n",
       "         [-0.3533,  0.2279,  0.0349,  ...,  1.5138, -0.2240,  0.1022],\n",
       "         [-0.3465,  0.2516,  0.0509,  ...,  1.5084, -0.2220,  0.1040],\n",
       "         [ 0.0030, -0.2142,  0.1753,  ..., -0.0579, -0.1331, -0.1015]],\n",
       "\n",
       "        [[ 1.4409,  0.7192,  0.0926,  ...,  0.1204,  0.3883,  0.0921],\n",
       "         [-0.3043, -1.0561,  0.4734,  ...,  1.3677,  0.4099,  0.0440],\n",
       "         [ 0.3467,  0.2723,  0.7900,  ...,  0.1259,  0.5210, -0.0402],\n",
       "         ...,\n",
       "         [ 0.0582, -0.4921,  0.3607,  ..., -0.1447,  0.9613,  0.0960],\n",
       "         [ 0.2056, -0.5387,  0.1677,  ...,  0.1153,  0.3428, -0.2244],\n",
       "         [-0.2795,  0.3071,  0.0277,  ...,  1.4988, -0.1744,  0.1121]]])"
      ]
     },
     "execution_count": 11,
     "metadata": {},
     "output_type": "execute_result"
    }
   ],
   "source": [
    "# # the embedding of the first sentnce with alephbert\n",
    "# outputs[0]"
   ]
  },
  {
   "cell_type": "code",
   "execution_count": 13,
   "metadata": {
    "execution": {
     "iopub.execute_input": "2025-01-08T08:08:27.825472Z",
     "iopub.status.busy": "2025-01-08T08:08:27.825180Z",
     "iopub.status.idle": "2025-01-08T08:08:27.829091Z",
     "shell.execute_reply": "2025-01-08T08:08:27.828249Z",
     "shell.execute_reply.started": "2025-01-08T08:08:27.825450Z"
    },
    "id": "1E1NSNdU-Lf0",
    "trusted": true
   },
   "outputs": [],
   "source": [
    "# token_embeddings = outputs.last_hidden_state"
   ]
  },
  {
   "cell_type": "code",
   "execution_count": 18,
   "metadata": {
    "execution": {
     "iopub.execute_input": "2025-01-08T08:08:32.896678Z",
     "iopub.status.busy": "2025-01-08T08:08:32.896388Z",
     "iopub.status.idle": "2025-01-08T08:08:33.139833Z",
     "shell.execute_reply": "2025-01-08T08:08:33.139168Z",
     "shell.execute_reply.started": "2025-01-08T08:08:32.896655Z"
    },
    "id": "9eNMqiBm-O_h",
    "trusted": true
   },
   "outputs": [],
   "source": [
    "# sentence_embeddings = []\n",
    "# for embedding in token_embeddings:\n",
    "#   sentence_embeddings.append(embedding.flatten().numpy())"
   ]
  },
  {
   "cell_type": "code",
   "execution_count": 19,
   "metadata": {
    "execution": {
     "iopub.execute_input": "2025-01-08T08:08:36.765314Z",
     "iopub.status.busy": "2025-01-08T08:08:36.764978Z",
     "iopub.status.idle": "2025-01-08T08:08:37.165020Z",
     "shell.execute_reply": "2025-01-08T08:08:37.164370Z",
     "shell.execute_reply.started": "2025-01-08T08:08:36.765287Z"
    },
    "id": "89QKMafSva2U",
    "trusted": true
   },
   "outputs": [],
   "source": [
    "# sentence_embeddings = np.array(sentence_embeddings)"
   ]
  },
  {
   "cell_type": "code",
   "execution_count": 22,
   "metadata": {
    "execution": {
     "iopub.execute_input": "2025-01-08T08:08:46.791556Z",
     "iopub.status.busy": "2025-01-08T08:08:46.791213Z",
     "iopub.status.idle": "2025-01-08T08:08:46.796268Z",
     "shell.execute_reply": "2025-01-08T08:08:46.795456Z",
     "shell.execute_reply.started": "2025-01-08T08:08:46.791524Z"
    },
    "id": "KqdTUzAc-q9b",
    "trusted": true
   },
   "outputs": [],
   "source": [
    "# labels = list(filtered_data['intent_num'])[:1000]"
   ]
  },
  {
   "cell_type": "code",
   "execution_count": 23,
   "metadata": {
    "execution": {
     "iopub.execute_input": "2025-01-08T08:08:54.639032Z",
     "iopub.status.busy": "2025-01-08T08:08:54.638734Z",
     "iopub.status.idle": "2025-01-08T08:08:55.029339Z",
     "shell.execute_reply": "2025-01-08T08:08:55.028606Z",
     "shell.execute_reply.started": "2025-01-08T08:08:54.639010Z"
    },
    "id": "JCvMR861-TjF",
    "trusted": true
   },
   "outputs": [],
   "source": [
    "# X_train, X_test, y_train, y_test = train_test_split(sentence_embeddings, labels, test_size=0.2, random_state=42)"
   ]
  },
  {
   "cell_type": "markdown",
   "metadata": {
    "id": "awH84Bo3J6Zg"
   },
   "source": [
    "1 - RandomForestClassifier"
   ]
  },
  {
   "cell_type": "code",
   "execution_count": 17,
   "metadata": {
    "colab": {
     "base_uri": "https://localhost:8080/"
    },
    "execution": {
     "iopub.execute_input": "2025-01-08T08:09:00.558522Z",
     "iopub.status.busy": "2025-01-08T08:09:00.558200Z",
     "iopub.status.idle": "2025-01-08T08:16:03.452691Z",
     "shell.execute_reply": "2025-01-08T08:16:03.451687Z",
     "shell.execute_reply.started": "2025-01-08T08:09:00.558496Z"
    },
    "id": "a70600-z2iTo",
    "outputId": "061cb414-8840-480b-ca77-088e21b0eefd",
    "trusted": true
   },
   "outputs": [
    {
     "name": "stdout",
     "output_type": "stream",
     "text": [
      "Accuracy: 81.72%\n",
      "                precision    recall  f1-score   support\n",
      "\n",
      "   alarm_query       0.93      0.52      0.67        27\n",
      "     alarm_set       0.91      0.73      0.81        41\n",
      "calendar_query       0.79      0.71      0.75       118\n",
      "  calendar_set       0.68      0.96      0.80       156\n",
      "datetime_query       0.98      0.79      0.87        62\n",
      "   email_query       0.92      0.86      0.89        88\n",
      "    news_query       0.79      0.85      0.82        96\n",
      "play_audiobook       1.00      0.24      0.39        37\n",
      "    play_music       0.74      0.93      0.82       129\n",
      "    play_radio       0.93      0.50      0.65        56\n",
      "    qa_factoid       0.80      0.90      0.85        98\n",
      "   social_post       0.91      0.79      0.85        52\n",
      " weather_query       1.00      0.95      0.97       112\n",
      "\n",
      "      accuracy                           0.82      1072\n",
      "     macro avg       0.88      0.75      0.78      1072\n",
      "  weighted avg       0.84      0.82      0.81      1072\n",
      "\n"
     ]
    }
   ],
   "source": [
    "from sklearn.ensemble import RandomForestClassifier\n",
    "from sklearn.metrics import classification_report, accuracy_score\n",
    "import numpy as np\n",
    "\n",
    "\n",
    "clf = RandomForestClassifier(random_state=42)\n",
    "clf.fit(X_train, y_train)\n",
    "\n",
    "\n",
    "y_pred = clf.predict(X_test)\n",
    "\n",
    "\n",
    "accuracy = accuracy_score(y_test, y_pred)\n",
    "print(f\"Accuracy: {accuracy * 100:.2f}%\")\n",
    "\n",
    "\n",
    "unique_labels_in_test = np.unique(y_test)\n",
    "\n",
    "print(classification_report(\n",
    "    y_test,\n",
    "    y_pred,\n",
    "    labels=unique_labels_in_test,\n",
    "    target_names=[le.classes_[i] for i in unique_labels_in_test]\n",
    "))\n"
   ]
  },
  {
   "cell_type": "markdown",
   "metadata": {
    "id": "pVuwPPg44WfQ"
   },
   "source": [
    "2 - logistic regression"
   ]
  },
  {
   "cell_type": "code",
   "execution_count": 18,
   "metadata": {
    "colab": {
     "base_uri": "https://localhost:8080/"
    },
    "execution": {
     "iopub.execute_input": "2025-01-08T08:16:14.776906Z",
     "iopub.status.busy": "2025-01-08T08:16:14.776601Z",
     "iopub.status.idle": "2025-01-08T08:49:35.800780Z",
     "shell.execute_reply": "2025-01-08T08:49:35.797287Z",
     "shell.execute_reply.started": "2025-01-08T08:16:14.776882Z"
    },
    "id": "49h5BGQ2_26Q",
    "outputId": "f4563f4d-51af-48b8-b550-5563d32f04bd",
    "trusted": true
   },
   "outputs": [
    {
     "name": "stdout",
     "output_type": "stream",
     "text": [
      "Accuracy: 89.55%\n",
      "                precision    recall  f1-score   support\n",
      "\n",
      "   alarm_query       0.96      0.85      0.90        27\n",
      "     alarm_set       0.83      0.93      0.87        41\n",
      "calendar_query       0.85      0.82      0.84       118\n",
      "  calendar_set       0.87      0.92      0.89       156\n",
      "datetime_query       0.98      0.87      0.92        62\n",
      "   email_query       0.96      0.97      0.96        88\n",
      "    news_query       0.92      0.90      0.91        96\n",
      "play_audiobook       0.84      0.70      0.76        37\n",
      "    play_music       0.89      0.90      0.89       129\n",
      "    play_radio       0.86      0.77      0.81        56\n",
      "    qa_factoid       0.83      0.95      0.89        98\n",
      "   social_post       0.94      0.92      0.93        52\n",
      " weather_query       0.97      0.96      0.97       112\n",
      "\n",
      "      accuracy                           0.90      1072\n",
      "     macro avg       0.90      0.88      0.89      1072\n",
      "  weighted avg       0.90      0.90      0.90      1072\n",
      "\n"
     ]
    },
    {
     "name": "stderr",
     "output_type": "stream",
     "text": [
      "/home/yagudcor/.conda/envs/coral_env/lib/python3.8/site-packages/sklearn/linear_model/_logistic.py:460: ConvergenceWarning: lbfgs failed to converge (status=1):\n",
      "STOP: TOTAL NO. of ITERATIONS REACHED LIMIT.\n",
      "\n",
      "Increase the number of iterations (max_iter) or scale the data as shown in:\n",
      "    https://scikit-learn.org/stable/modules/preprocessing.html\n",
      "Please also refer to the documentation for alternative solver options:\n",
      "    https://scikit-learn.org/stable/modules/linear_model.html#logistic-regression\n",
      "  n_iter_i = _check_optimize_result(\n"
     ]
    }
   ],
   "source": [
    "from sklearn.linear_model import LogisticRegression\n",
    "from sklearn.metrics import classification_report, accuracy_score\n",
    "\n",
    "lr_clf = LogisticRegression(max_iter=1000, random_state=42)\n",
    "lr_clf.fit(X_train, y_train)\n",
    "\n",
    "\n",
    "y_pred_lr = lr_clf.predict(X_test)\n",
    "\n",
    "accuracy = accuracy_score(y_test, y_pred_lr)\n",
    "print(f\"Accuracy: {accuracy * 100:.2f}%\")\n",
    "\n",
    "\n",
    "unique_labels_in_test = np.unique(y_test)\n",
    "target_names = [le.classes_[i] for i in unique_labels_in_test]\n",
    "\n",
    "\n",
    "print(classification_report(\n",
    "    y_test,\n",
    "    y_pred_lr,\n",
    "    labels=unique_labels_in_test,\n",
    "    target_names=target_names\n",
    "))\n"
   ]
  },
  {
   "cell_type": "markdown",
   "metadata": {
    "id": "XSOcNlgZ4vDd"
   },
   "source": [
    "3 -- SVM"
   ]
  },
  {
   "cell_type": "code",
   "execution_count": 19,
   "metadata": {
    "colab": {
     "base_uri": "https://localhost:8080/"
    },
    "execution": {
     "iopub.execute_input": "2025-01-08T08:50:28.575431Z",
     "iopub.status.busy": "2025-01-08T08:50:28.575088Z",
     "iopub.status.idle": "2025-01-08T09:04:06.599562Z",
     "shell.execute_reply": "2025-01-08T09:04:06.598747Z",
     "shell.execute_reply.started": "2025-01-08T08:50:28.575404Z"
    },
    "id": "PCwUUkbX4xe0",
    "outputId": "b17fcaa3-30d8-4c75-c42f-899c80cd4560",
    "trusted": true
   },
   "outputs": [
    {
     "name": "stdout",
     "output_type": "stream",
     "text": [
      "Accuracy: 88.15%\n",
      "                precision    recall  f1-score   support\n",
      "\n",
      "   alarm_query       0.92      0.89      0.91        27\n",
      "     alarm_set       0.84      0.93      0.88        41\n",
      "calendar_query       0.85      0.79      0.82       118\n",
      "  calendar_set       0.82      0.93      0.87       156\n",
      "datetime_query       1.00      0.89      0.94        62\n",
      "   email_query       0.98      0.94      0.96        88\n",
      "    news_query       0.92      0.89      0.90        96\n",
      "play_audiobook       0.77      0.65      0.71        37\n",
      "    play_music       0.85      0.88      0.87       129\n",
      "    play_radio       0.84      0.73      0.78        56\n",
      "    qa_factoid       0.83      0.92      0.87        98\n",
      "   social_post       0.94      0.92      0.93        52\n",
      " weather_query       0.95      0.94      0.95       112\n",
      "\n",
      "      accuracy                           0.88      1072\n",
      "     macro avg       0.89      0.87      0.88      1072\n",
      "  weighted avg       0.88      0.88      0.88      1072\n",
      "\n"
     ]
    }
   ],
   "source": [
    "from sklearn.svm import SVC\n",
    "from sklearn.metrics import classification_report, accuracy_score\n",
    "import numpy as np\n",
    "\n",
    "\n",
    "svm_clf = SVC(kernel='linear', random_state=42)  # Use 'linear' kernel for high-dimensional data\n",
    "svm_clf.fit(X_train, y_train)\n",
    "\n",
    "\n",
    "y_pred_svm = svm_clf.predict(X_test)\n",
    "\n",
    "\n",
    "accuracy = accuracy_score(y_test, y_pred_svm)\n",
    "print(f\"Accuracy: {accuracy * 100:.2f}%\")\n",
    "\n",
    "\n",
    "unique_labels_in_test = np.unique(y_test)\n",
    "target_names = [le.classes_[i] for i in unique_labels_in_test]\n",
    "\n",
    "\n",
    "print(classification_report(\n",
    "    y_test,\n",
    "    y_pred_svm,\n",
    "    labels=unique_labels_in_test,\n",
    "    target_names=target_names\n",
    "))\n"
   ]
  },
  {
   "cell_type": "markdown",
   "metadata": {
    "id": "yoBntlkm436Q"
   },
   "source": [
    "transfer learning with fine-tuning using a pre-trained BERT model (onlplab/alephbert-base)"
   ]
  },
  {
   "cell_type": "markdown",
   "metadata": {},
   "source": [
    "with early stop"
   ]
  },
  {
   "cell_type": "code",
   "execution_count": 20,
   "metadata": {
    "execution": {
     "iopub.execute_input": "2025-01-08T09:08:17.967030Z",
     "iopub.status.busy": "2025-01-08T09:08:17.966740Z",
     "iopub.status.idle": "2025-01-08T09:08:20.087033Z",
     "shell.execute_reply": "2025-01-08T09:08:20.086411Z",
     "shell.execute_reply.started": "2025-01-08T09:08:17.967008Z"
    },
    "trusted": true
   },
   "outputs": [
    {
     "name": "stdout",
     "output_type": "stream",
     "text": [
      "Class distribution:\n",
      "intent_num\n",
      "10    803\n",
      "56    620\n",
      "88    559\n",
      "8     558\n",
      "30    544\n",
      "     ... \n",
      "25      1\n",
      "13      1\n",
      "11      1\n",
      "76      1\n",
      "87      1\n",
      "Name: count, Length: 91, dtype: int64\n"
     ]
    },
    {
     "name": "stderr",
     "output_type": "stream",
     "text": [
      "Some weights of BertModel were not initialized from the model checkpoint at onlplab/alephbert-base and are newly initialized: ['bert.pooler.dense.bias', 'bert.pooler.dense.weight']\n",
      "You should probably TRAIN this model on a down-stream task to be able to use it for predictions and inference.\n",
      "huggingface/tokenizers: The current process just got forked, after parallelism has already been used. Disabling parallelism to avoid deadlocks...\n",
      "To disable this warning, you can either:\n",
      "\t- Avoid using `tokenizers` before the fork if possible\n",
      "\t- Explicitly set the environment variable TOKENIZERS_PARALLELISM=(true | false)\n",
      "huggingface/tokenizers: The current process just got forked, after parallelism has already been used. Disabling parallelism to avoid deadlocks...\n",
      "To disable this warning, you can either:\n",
      "\t- Avoid using `tokenizers` before the fork if possible\n",
      "\t- Explicitly set the environment variable TOKENIZERS_PARALLELISM=(true | false)\n"
     ]
    }
   ],
   "source": [
    "from transformers import BertModel, BertTokenizerFast, AdamW\n",
    "import torch\n",
    "from sklearn.preprocessing import LabelEncoder\n",
    "from sklearn.model_selection import train_test_split\n",
    "from sklearn.metrics import accuracy_score, classification_report\n",
    "from sklearn.utils.multiclass import unique_labels\n",
    "import pandas as pd\n",
    "import numpy as np\n",
    "import warnings\n",
    "warnings.filterwarnings(\"ignore\")\n",
    "\n",
    "\n",
    "\n",
    "le = LabelEncoder()\n",
    "data['intent_num'] = le.fit_transform(data['intent'])\n",
    "map_intent = dict(zip(le.transform(le.classes_), le.classes_))\n",
    "\n",
    "\n",
    "intent_counts = data['intent_num'].value_counts()\n",
    "print(\"Class distribution:\")\n",
    "print(intent_counts)\n",
    "\n",
    "input_texts = list(data['transcript_hebrew'])\n",
    "model_name = 'onlplab/alephbert-base'\n",
    "model = BertModel.from_pretrained(model_name)\n",
    "tokenizer = BertTokenizerFast.from_pretrained(model_name)\n",
    "\n",
    "\n",
    "encoded_inputs = tokenizer(input_texts, padding=True, truncation=True, return_tensors='pt')\n",
    "labels = torch.tensor(data['intent_num'].values)\n",
    "\n",
    "\n",
    "train_size = 0.8\n",
    "num_samples = len(labels)\n",
    "indices = np.arange(num_samples)\n",
    "np.random.shuffle(indices)\n",
    "train_indices = indices[:int(train_size * num_samples)]\n",
    "test_indices = indices[int(train_size * num_samples):]\n",
    "\n",
    "train_inputs = {key: val[train_indices] for key, val in encoded_inputs.items()}\n",
    "test_inputs = {key: val[test_indices] for key, val in encoded_inputs.items()}\n",
    "train_labels = labels[train_indices]\n",
    "test_labels = labels[test_indices]\n",
    "\n",
    "class BertForIntentClassification(torch.nn.Module):\n",
    "    def __init__(self, bert_model, num_classes):\n",
    "        super(BertForIntentClassification, self).__init__()\n",
    "        self.bert = bert_model\n",
    "        self.classifier = torch.nn.Linear(bert_model.config.hidden_size, num_classes)\n",
    "\n",
    "    def forward(self, input_ids, attention_mask):\n",
    "        outputs = self.bert(input_ids=input_ids, attention_mask=attention_mask)\n",
    "        cls_output = outputs.last_hidden_state[:, 0, :]  # CLS token\n",
    "        logits = self.classifier(cls_output)\n",
    "        return logits\n",
    "\n",
    "num_classes = len(map_intent)\n",
    "fine_tuned_model = BertForIntentClassification(model, num_classes)\n",
    "\n",
    "\n",
    "device = torch.device(\"cuda\" if torch.cuda.is_available() else \"cpu\")\n",
    "fine_tuned_model.to(device)\n",
    "\n",
    "criterion = torch.nn.CrossEntropyLoss()\n",
    "optimizer = AdamW(fine_tuned_model.parameters(), lr=2e-5)\n",
    "\n",
    "epochs = 5\n",
    "batch_size = 16\n",
    "\n",
    "train_data = torch.utils.data.TensorDataset(train_inputs['input_ids'], train_inputs['attention_mask'], train_labels)\n",
    "train_loader = torch.utils.data.DataLoader(train_data, batch_size=batch_size, shuffle=True)\n",
    "\n",
    "test_data = torch.utils.data.TensorDataset(test_inputs['input_ids'], test_inputs['attention_mask'], test_labels)\n",
    "test_loader = torch.utils.data.DataLoader(test_data, batch_size=batch_size, shuffle=False)\n"
   ]
  },
  {
   "cell_type": "code",
   "execution_count": 21,
   "metadata": {
    "execution": {
     "iopub.execute_input": "2025-01-08T09:08:25.874925Z",
     "iopub.status.busy": "2025-01-08T09:08:25.874617Z",
     "iopub.status.idle": "2025-01-08T09:12:48.792936Z",
     "shell.execute_reply": "2025-01-08T09:12:48.792135Z",
     "shell.execute_reply.started": "2025-01-08T09:08:25.874898Z"
    },
    "trusted": true
   },
   "outputs": [
    {
     "name": "stdout",
     "output_type": "stream",
     "text": [
      "Epoch 1/5, Training Loss: 1.4361\n",
      "Epoch 1/5, Validation Loss: 0.7884\n",
      "Epoch 2/5, Training Loss: 0.5256\n",
      "Epoch 2/5, Validation Loss: 0.7274\n",
      "Epoch 3/5, Training Loss: 0.2985\n",
      "Epoch 3/5, Validation Loss: 0.7552\n",
      "No improvement for 1 epochs. Patience left: 4\n",
      "Epoch 4/5, Training Loss: 0.1803\n",
      "Epoch 4/5, Validation Loss: 0.7825\n",
      "No improvement for 2 epochs. Patience left: 3\n",
      "Epoch 5/5, Training Loss: 0.1385\n",
      "Epoch 5/5, Validation Loss: 0.8355\n",
      "No improvement for 3 epochs. Patience left: 2\n",
      "Test Accuracy: 82.75%\n",
      "Classification Report:\n",
      "                          precision    recall  f1-score   support\n",
      "\n",
      "             alarm_query       0.81      0.96      0.88        26\n",
      "            alarm_remove       0.71      0.56      0.63         9\n",
      "               alarm_set       0.97      0.79      0.87        43\n",
      "       audio_volume_down       0.60      0.60      0.60        10\n",
      "       audio_volume_mute       0.78      0.82      0.80        22\n",
      "      audio_volume_other       1.00      0.40      0.57         5\n",
      "         audio_volume_up       0.77      0.91      0.83        22\n",
      "          calendar_query       0.76      0.85      0.80       112\n",
      "         calendar_remove       0.92      0.92      0.92        52\n",
      "            calendar_set       0.85      0.94      0.90       162\n",
      "                 convert       0.00      0.00      0.00         1\n",
      "          cooking_recipe       0.82      0.95      0.88        39\n",
      "        datetime_convert       0.67      0.75      0.71         8\n",
      "          datetime_query       0.94      0.92      0.93        79\n",
      "              definition       0.00      0.00      0.00         1\n",
      "        email_addcontact       0.93      0.93      0.93        14\n",
      "             email_query       0.94      0.95      0.95        82\n",
      "      email_querycontact       0.56      0.78      0.65        23\n",
      "         email_sendemail       0.92      0.91      0.92        67\n",
      "                  events       0.00      0.00      0.00         1\n",
      "                 factoid       0.00      0.00      0.00         3\n",
      "                    game       0.00      0.00      0.00         1\n",
      "           general_greet       0.25      1.00      0.40         1\n",
      "            general_joke       0.89      0.89      0.89         9\n",
      "          general_quirky       0.64      0.47      0.54       124\n",
      "                   greet       0.00      0.00      0.00         1\n",
      "            hue_lightoff       0.00      0.00      0.00         1\n",
      "             hue_lightup       0.00      0.00      0.00         1\n",
      "            iot_cleaning       0.83      0.88      0.86        17\n",
      "              iot_coffee       0.96      0.89      0.93        28\n",
      "     iot_hue_lightchange       0.88      1.00      0.94        22\n",
      "        iot_hue_lightdim       0.78      0.88      0.82        16\n",
      "        iot_hue_lightoff       0.86      0.94      0.90        32\n",
      "         iot_hue_lighton       0.40      0.40      0.40         5\n",
      "         iot_hue_lightup       0.78      0.58      0.67        12\n",
      "            iot_wemo_off       1.00      0.88      0.93         8\n",
      "             iot_wemo_on       0.83      0.50      0.62        10\n",
      "                    joke       0.00      0.00      0.00         1\n",
      "       lists_createoradd       1.00      0.76      0.86        25\n",
      "             lists_query       0.74      0.91      0.82        35\n",
      "            lists_remove       0.97      0.97      0.97        33\n",
      "                   music       0.00      0.00      0.00         4\n",
      "       music_dislikeness       0.00      0.00      0.00         5\n",
      "          music_likeness       0.54      0.84      0.66        25\n",
      "             music_query       0.79      0.88      0.84        26\n",
      "          music_settings       0.50      0.43      0.46         7\n",
      "              news_query       0.83      0.90      0.87       105\n",
      "          play_audiobook       0.79      0.58      0.67        33\n",
      "               play_game       0.81      0.85      0.83        20\n",
      "              play_music       0.73      0.87      0.79       116\n",
      "           play_podcasts       0.98      0.87      0.92        46\n",
      "              play_radio       0.82      0.79      0.81        58\n",
      "             qa_currency       0.78      1.00      0.88        29\n",
      "           qa_definition       0.91      0.85      0.88        62\n",
      "              qa_factoid       0.78      0.72      0.75       115\n",
      "                qa_maths       0.75      0.43      0.55        14\n",
      "                qa_stock       0.97      0.94      0.95        32\n",
      "                   query       0.00      0.00      0.00         9\n",
      "                  quirky       0.00      0.00      0.00         2\n",
      "                   radio       0.00      0.00      0.00         3\n",
      "   recommendation_events       0.77      0.87      0.81        38\n",
      "recommendation_locations       0.84      0.90      0.87        42\n",
      "   recommendation_movies       0.94      0.76      0.84        21\n",
      "                  remove       0.00      0.00      0.00         2\n",
      "               sendemail       0.00      0.00      0.00         1\n",
      "                     set       0.00      0.00      0.00         1\n",
      "                settings       0.00      0.00      0.00         1\n",
      "             social_post       0.86      0.93      0.89        54\n",
      "            social_query       0.88      0.81      0.84        26\n",
      "          takeaway_order       0.82      0.82      0.82        33\n",
      "          takeaway_query       0.88      0.83      0.86        18\n",
      "         transport_query       0.76      0.81      0.79        32\n",
      "          transport_taxi       1.00      1.00      1.00        21\n",
      "        transport_ticket       0.90      0.83      0.86        23\n",
      "       transport_traffic       1.00      0.81      0.89        21\n",
      "           weather_query       0.90      0.93      0.91        94\n",
      "\n",
      "                accuracy                           0.83      2302\n",
      "               macro avg       0.62      0.62      0.61      2302\n",
      "            weighted avg       0.82      0.83      0.82      2302\n",
      "\n"
     ]
    }
   ],
   "source": [
    "# Training loop with Early Stopping\n",
    "fine_tuned_model.train()\n",
    "\n",
    "best_loss = float('inf')\n",
    "patience = 5\n",
    "early_stop_counter = 0\n",
    "\n",
    "for epoch in range(epochs):\n",
    "    total_loss = 0\n",
    "\n",
    "    # Training\n",
    "    fine_tuned_model.train()\n",
    "    for batch in train_loader:\n",
    "        input_ids, attention_mask, labels = [x.to(device) for x in batch]\n",
    "\n",
    "        optimizer.zero_grad()\n",
    "        outputs = fine_tuned_model(input_ids, attention_mask)\n",
    "        loss = criterion(outputs, labels)\n",
    "        loss.backward()\n",
    "        optimizer.step()\n",
    "\n",
    "        total_loss += loss.item()\n",
    "\n",
    "    avg_loss = total_loss / len(train_loader)\n",
    "    print(f\"Epoch {epoch + 1}/{epochs}, Training Loss: {avg_loss:.4f}\")\n",
    "\n",
    "    # Validation\n",
    "    fine_tuned_model.eval()\n",
    "    val_loss = 0\n",
    "    with torch.no_grad():\n",
    "        for batch in test_loader:\n",
    "            input_ids, attention_mask, labels = [x.to(device) for x in batch]\n",
    "            outputs = fine_tuned_model(input_ids, attention_mask)\n",
    "            loss = criterion(outputs, labels)\n",
    "            val_loss += loss.item()\n",
    "\n",
    "    avg_val_loss = val_loss / len(test_loader)\n",
    "    print(f\"Epoch {epoch + 1}/{epochs}, Validation Loss: {avg_val_loss:.4f}\")\n",
    "\n",
    "    # Early stopping\n",
    "    if avg_val_loss < best_loss:\n",
    "        best_loss = avg_val_loss\n",
    "        early_stop_counter = 0\n",
    "        # Optionally save the best model\n",
    "        torch.save(fine_tuned_model.state_dict(), \"best_model.pth\")\n",
    "    else:\n",
    "        early_stop_counter += 1\n",
    "        print(f\"No improvement for {early_stop_counter} epochs. Patience left: {patience - early_stop_counter}\")\n",
    "\n",
    "    if early_stop_counter >= patience:\n",
    "        print(\"Early stopping triggered. Training stopped.\")\n",
    "        break\n",
    "\n",
    "# Load the best model if saved\n",
    "fine_tuned_model.load_state_dict(torch.load(\"best_model.pth\"))\n",
    "\n",
    "# Evaluation loop\n",
    "fine_tuned_model.eval()\n",
    "predictions, true_labels = [], []\n",
    "with torch.no_grad():\n",
    "    for batch in test_loader:\n",
    "        input_ids, attention_mask, labels = [x.to(device) for x in batch]\n",
    "        outputs = fine_tuned_model(input_ids, attention_mask)\n",
    "        preds = torch.argmax(outputs, dim=1)\n",
    "        predictions.extend(preds.cpu().numpy())\n",
    "        true_labels.extend(labels.cpu().numpy())\n",
    "\n",
    "# Compute metrics\n",
    "accuracy = accuracy_score(true_labels, predictions)\n",
    "print(f\"Test Accuracy: {accuracy * 100:.2f}%\")\n",
    "\n",
    "present_classes = unique_labels(true_labels, predictions)\n",
    "present_class_names = [map_intent[i] for i in present_classes]\n",
    "\n",
    "print(\"Classification Report:\")\n",
    "print(classification_report(true_labels, predictions, target_names=present_class_names))\n"
   ]
  },
  {
   "cell_type": "markdown",
   "metadata": {},
   "source": [
    "increase num_epocs"
   ]
  },
  {
   "cell_type": "code",
   "execution_count": 22,
   "metadata": {
    "execution": {
     "iopub.execute_input": "2025-01-08T09:19:04.805288Z",
     "iopub.status.busy": "2025-01-08T09:19:04.804924Z",
     "iopub.status.idle": "2025-01-08T09:19:04.810076Z",
     "shell.execute_reply": "2025-01-08T09:19:04.809115Z",
     "shell.execute_reply.started": "2025-01-08T09:19:04.805256Z"
    },
    "trusted": true
   },
   "outputs": [],
   "source": [
    "epochs = 30\n",
    "batch_size = 16\n",
    "\n",
    "train_data = torch.utils.data.TensorDataset(train_inputs['input_ids'], train_inputs['attention_mask'], train_labels)\n",
    "train_loader = torch.utils.data.DataLoader(train_data, batch_size=batch_size, shuffle=True)\n",
    "\n",
    "test_data = torch.utils.data.TensorDataset(test_inputs['input_ids'], test_inputs['attention_mask'], test_labels)\n",
    "test_loader = torch.utils.data.DataLoader(test_data, batch_size=batch_size, shuffle=False)\n"
   ]
  },
  {
   "cell_type": "code",
   "execution_count": 23,
   "metadata": {
    "execution": {
     "iopub.execute_input": "2025-01-08T09:19:08.180812Z",
     "iopub.status.busy": "2025-01-08T09:19:08.180531Z",
     "iopub.status.idle": "2025-01-08T09:24:21.404176Z",
     "shell.execute_reply": "2025-01-08T09:24:21.403207Z",
     "shell.execute_reply.started": "2025-01-08T09:19:08.180790Z"
    },
    "trusted": true
   },
   "outputs": [
    {
     "name": "stdout",
     "output_type": "stream",
     "text": [
      "Epoch 1/30, Training Loss: 0.3306\n",
      "Epoch 1/30, Validation Loss: 0.7451\n",
      "Epoch 2/30, Training Loss: 0.1951\n",
      "Epoch 2/30, Validation Loss: 0.8041\n",
      "No improvement for 1 epochs. Patience left: 4\n",
      "Epoch 3/30, Training Loss: 0.1205\n",
      "Epoch 3/30, Validation Loss: 0.8442\n",
      "No improvement for 2 epochs. Patience left: 3\n",
      "Epoch 4/30, Training Loss: 0.0999\n",
      "Epoch 4/30, Validation Loss: 0.8407\n",
      "No improvement for 3 epochs. Patience left: 2\n",
      "Epoch 5/30, Training Loss: 0.0810\n",
      "Epoch 5/30, Validation Loss: 0.8790\n",
      "No improvement for 4 epochs. Patience left: 1\n",
      "Epoch 6/30, Training Loss: 0.0621\n",
      "Epoch 6/30, Validation Loss: 0.9323\n",
      "No improvement for 5 epochs. Patience left: 0\n",
      "Early stopping triggered. Training stopped.\n",
      "Test Accuracy: 82.93%\n",
      "Classification Report:\n",
      "                          precision    recall  f1-score   support\n",
      "\n",
      "             alarm_query       0.83      0.96      0.89        26\n",
      "            alarm_remove       0.83      0.56      0.67         9\n",
      "               alarm_set       0.94      0.77      0.85        43\n",
      "       audio_volume_down       0.45      0.50      0.48        10\n",
      "       audio_volume_mute       0.57      0.77      0.65        22\n",
      "      audio_volume_other       1.00      0.80      0.89         5\n",
      "         audio_volume_up       1.00      0.68      0.81        22\n",
      "          calendar_query       0.81      0.78      0.79       112\n",
      "         calendar_remove       0.92      0.94      0.93        52\n",
      "            calendar_set       0.89      0.93      0.91       162\n",
      "                 convert       0.00      0.00      0.00         1\n",
      "          cooking_recipe       0.88      0.95      0.91        39\n",
      "        datetime_convert       0.71      0.62      0.67         8\n",
      "          datetime_query       0.93      0.95      0.94        79\n",
      "              definition       0.00      0.00      0.00         1\n",
      "        email_addcontact       0.93      1.00      0.97        14\n",
      "             email_query       0.93      0.95      0.94        82\n",
      "      email_querycontact       0.73      0.70      0.71        23\n",
      "         email_sendemail       0.91      0.94      0.93        67\n",
      "                  events       0.00      0.00      0.00         1\n",
      "                 factoid       0.00      0.00      0.00         3\n",
      "                    game       0.00      0.00      0.00         1\n",
      "           general_greet       0.25      1.00      0.40         1\n",
      "            general_joke       0.89      0.89      0.89         9\n",
      "          general_quirky       0.61      0.47      0.53       124\n",
      "                   greet       0.00      0.00      0.00         1\n",
      "            hue_lightoff       0.00      0.00      0.00         1\n",
      "             hue_lightup       0.00      0.00      0.00         1\n",
      "            iot_cleaning       0.94      0.88      0.91        17\n",
      "              iot_coffee       0.96      0.86      0.91        28\n",
      "     iot_hue_lightchange       0.77      0.91      0.83        22\n",
      "        iot_hue_lightdim       0.75      0.94      0.83        16\n",
      "        iot_hue_lightoff       0.88      0.94      0.91        32\n",
      "         iot_hue_lighton       0.33      0.20      0.25         5\n",
      "         iot_hue_lightup       0.86      0.50      0.63        12\n",
      "            iot_wemo_off       1.00      0.62      0.77         8\n",
      "             iot_wemo_on       0.67      0.60      0.63        10\n",
      "                    joke       0.00      0.00      0.00         1\n",
      "       lists_createoradd       0.88      0.88      0.88        25\n",
      "             lists_query       0.84      0.91      0.88        35\n",
      "            lists_remove       0.97      0.97      0.97        33\n",
      "                   music       0.00      0.00      0.00         4\n",
      "       music_dislikeness       1.00      0.80      0.89         5\n",
      "          music_likeness       0.68      0.60      0.64        25\n",
      "             music_query       0.72      0.88      0.79        26\n",
      "          music_settings       0.33      0.71      0.45         7\n",
      "              news_query       0.78      0.93      0.85       105\n",
      "          play_audiobook       0.80      0.85      0.82        33\n",
      "               play_game       0.84      0.80      0.82        20\n",
      "              play_music       0.87      0.84      0.85       116\n",
      "           play_podcasts       0.95      0.85      0.90        46\n",
      "              play_radio       0.75      0.83      0.79        58\n",
      "             qa_currency       0.88      0.97      0.92        29\n",
      "           qa_definition       0.78      0.90      0.84        62\n",
      "              qa_factoid       0.75      0.75      0.75       115\n",
      "                qa_maths       0.58      0.50      0.54        14\n",
      "                qa_stock       0.91      0.94      0.92        32\n",
      "                   query       0.00      0.00      0.00         9\n",
      "                  quirky       0.00      0.00      0.00         2\n",
      "                   radio       0.00      0.00      0.00         3\n",
      "   recommendation_events       0.62      0.87      0.73        38\n",
      "recommendation_locations       0.90      0.88      0.89        42\n",
      "   recommendation_movies       0.94      0.76      0.84        21\n",
      "                  remove       0.00      0.00      0.00         2\n",
      "               sendemail       0.00      0.00      0.00         1\n",
      "                     set       0.00      0.00      0.00         1\n",
      "                settings       0.00      0.00      0.00         1\n",
      "             social_post       0.96      0.91      0.93        54\n",
      "            social_query       0.85      0.85      0.85        26\n",
      "          takeaway_order       0.81      0.76      0.78        33\n",
      "          takeaway_query       0.74      0.94      0.83        18\n",
      "         transport_query       0.81      0.91      0.85        32\n",
      "          transport_taxi       0.95      1.00      0.98        21\n",
      "        transport_ticket       0.95      0.78      0.86        23\n",
      "       transport_traffic       0.90      0.90      0.90        21\n",
      "           weather_query       0.90      0.95      0.92        94\n",
      "\n",
      "                accuracy                           0.83      2302\n",
      "               macro avg       0.63      0.63      0.62      2302\n",
      "            weighted avg       0.82      0.83      0.82      2302\n",
      "\n"
     ]
    }
   ],
   "source": [
    "# Training loop with Early Stopping\n",
    "fine_tuned_model.train()\n",
    "\n",
    "best_loss = float('inf')\n",
    "patience = 5\n",
    "early_stop_counter = 0\n",
    "\n",
    "for epoch in range(epochs):\n",
    "    total_loss = 0\n",
    "\n",
    "    # Training\n",
    "    fine_tuned_model.train()\n",
    "    for batch in train_loader:\n",
    "        input_ids, attention_mask, labels = [x.to(device) for x in batch]\n",
    "\n",
    "        optimizer.zero_grad()\n",
    "        outputs = fine_tuned_model(input_ids, attention_mask)\n",
    "        loss = criterion(outputs, labels)\n",
    "        loss.backward()\n",
    "        optimizer.step()\n",
    "\n",
    "        total_loss += loss.item()\n",
    "\n",
    "    avg_loss = total_loss / len(train_loader)\n",
    "    print(f\"Epoch {epoch + 1}/{epochs}, Training Loss: {avg_loss:.4f}\")\n",
    "\n",
    "    # Validation\n",
    "    fine_tuned_model.eval()\n",
    "    val_loss = 0\n",
    "    with torch.no_grad():\n",
    "        for batch in test_loader:\n",
    "            input_ids, attention_mask, labels = [x.to(device) for x in batch]\n",
    "            outputs = fine_tuned_model(input_ids, attention_mask)\n",
    "            loss = criterion(outputs, labels)\n",
    "            val_loss += loss.item()\n",
    "\n",
    "    avg_val_loss = val_loss / len(test_loader)\n",
    "    print(f\"Epoch {epoch + 1}/{epochs}, Validation Loss: {avg_val_loss:.4f}\")\n",
    "\n",
    "    # Early stopping\n",
    "    if avg_val_loss < best_loss:\n",
    "        best_loss = avg_val_loss\n",
    "        early_stop_counter = 0\n",
    "        # Optionally save the best model\n",
    "        torch.save(fine_tuned_model.state_dict(), \"best_model.pth\")\n",
    "    else:\n",
    "        early_stop_counter += 1\n",
    "        print(f\"No improvement for {early_stop_counter} epochs. Patience left: {patience - early_stop_counter}\")\n",
    "\n",
    "    if early_stop_counter >= patience:\n",
    "        print(\"Early stopping triggered. Training stopped.\")\n",
    "        break\n",
    "\n",
    "# Load the best model if saved\n",
    "fine_tuned_model.load_state_dict(torch.load(\"best_model.pth\"))\n",
    "\n",
    "# Evaluation loop\n",
    "fine_tuned_model.eval()\n",
    "predictions, true_labels = [], []\n",
    "with torch.no_grad():\n",
    "    for batch in test_loader:\n",
    "        input_ids, attention_mask, labels = [x.to(device) for x in batch]\n",
    "        outputs = fine_tuned_model(input_ids, attention_mask)\n",
    "        preds = torch.argmax(outputs, dim=1)\n",
    "        predictions.extend(preds.cpu().numpy())\n",
    "        true_labels.extend(labels.cpu().numpy())\n",
    "\n",
    "# Compute metrics\n",
    "accuracy = accuracy_score(true_labels, predictions)\n",
    "print(f\"Test Accuracy: {accuracy * 100:.2f}%\")\n",
    "\n",
    "present_classes = unique_labels(true_labels, predictions)\n",
    "present_class_names = [map_intent[i] for i in present_classes]\n",
    "\n",
    "print(\"Classification Report:\")\n",
    "print(classification_report(true_labels, predictions, target_names=present_class_names))\n"
   ]
  }
 ],
 "metadata": {
  "accelerator": "GPU",
  "colab": {
   "gpuType": "T4",
   "provenance": []
  },
  "kaggle": {
   "accelerator": "gpu",
   "dataSources": [
    {
     "datasetId": 6408511,
     "sourceId": 10349076,
     "sourceType": "datasetVersion"
    }
   ],
   "dockerImageVersionId": 30823,
   "isGpuEnabled": true,
   "isInternetEnabled": true,
   "language": "python",
   "sourceType": "notebook"
  },
  "kernelspec": {
   "display_name": "coral_env",
   "language": "python",
   "name": "python3"
  },
  "language_info": {
   "codemirror_mode": {
    "name": "ipython",
    "version": 3
   },
   "file_extension": ".py",
   "mimetype": "text/x-python",
   "name": "python",
   "nbconvert_exporter": "python",
   "pygments_lexer": "ipython3",
   "version": "3.8.20"
  }
 },
 "nbformat": 4,
 "nbformat_minor": 4
}
